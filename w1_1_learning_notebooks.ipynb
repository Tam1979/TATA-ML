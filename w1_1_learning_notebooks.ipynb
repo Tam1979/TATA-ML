{
  "nbformat": 4,
  "nbformat_minor": 0,
  "metadata": {
    "colab": {
      "name": "w1-1-learning-notebooks.ipynb",
      "version": "0.3.2",
      "provenance": [],
      "include_colab_link": true
    },
    "kernelspec": {
      "display_name": "Python 3",
      "language": "python",
      "name": "python3"
    }
  },
  "cells": [
    {
      "cell_type": "markdown",
      "metadata": {
        "id": "view-in-github",
        "colab_type": "text"
      },
      "source": [
        "<a href=\"https://colab.research.google.com/github/Tam1979/TATA-ML/blob/master/w1_1_learning_notebooks.ipynb\" target=\"_parent\"><img src=\"https://colab.research.google.com/assets/colab-badge.svg\" alt=\"Open In Colab\"/></a>"
      ]
    },
    {
      "metadata": {
        "id": "7fHjfYQfXRkm",
        "colab_type": "text"
      },
      "cell_type": "markdown",
      "source": [
        "Learning Jupyter Notebooks\n",
        "===========================\n",
        "\n",
        "Jupyter notebooks are an amazing way to learn about and try new things in Python.  Let's try the following.  See the following cell?  It has a couple lines of python code. Click in the box underneath this text and either press cntrl-enter, or press the \"play\" icon in the toolbar above this.  Watch what happens."
      ]
    },
    {
      "metadata": {
        "id": "GtcsyE9hXRko",
        "colab_type": "code",
        "colab": {},
        "outputId": "a2cb91a9-e728-4a65-ea61-2a95189150e0"
      },
      "cell_type": "code",
      "source": [
        "a = 1\n",
        "a"
      ],
      "execution_count": 0,
      "outputs": [
        {
          "output_type": "execute_result",
          "data": {
            "text/plain": [
              "1"
            ]
          },
          "metadata": {
            "tags": []
          },
          "execution_count": 1
        }
      ]
    },
    {
      "metadata": {
        "id": "9gvohaBcXRku",
        "colab_type": "code",
        "colab": {},
        "outputId": "3fb3e582-03b9-4d12-98b9-e0db1a773d5c"
      },
      "cell_type": "code",
      "source": [
        "#Enter your python code here\n",
        "print('hello world!')"
      ],
      "execution_count": 0,
      "outputs": [
        {
          "output_type": "stream",
          "text": [
            "hello world!\n"
          ],
          "name": "stdout"
        }
      ]
    },
    {
      "metadata": {
        "id": "0AZ3ZtzHXRk0",
        "colab_type": "text"
      },
      "cell_type": "markdown",
      "source": [
        "Ipython notebooks can be used to visualize matlibplot plotting as well."
      ]
    },
    {
      "metadata": {
        "id": "qylJ5JvVXRlA",
        "colab_type": "code",
        "colab": {}
      },
      "cell_type": "code",
      "source": [
        "%matplotlib inline\n",
        "\n",
        "import matplotlib\n",
        "import numpy as np\n",
        "import matplotlib.pyplot as plt\n",
        "\n",
        "x = np.linspace(0, 3*np.pi, 500)\n",
        "plt.plot(x, np.sin(x**2))\n",
        "plt.title('Sine wave')\n",
        "plt.show()"
      ],
      "execution_count": 0,
      "outputs": []
    }
  ]
}