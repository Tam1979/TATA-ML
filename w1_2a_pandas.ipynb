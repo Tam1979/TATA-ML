{
  "nbformat": 4,
  "nbformat_minor": 0,
  "metadata": {
    "colab": {
      "name": "Copy of w1-2a-pandas.ipynb",
      "version": "0.3.2",
      "provenance": [],
      "collapsed_sections": []
    },
    "kernelspec": {
      "display_name": "Python 3",
      "language": "python",
      "name": "python3"
    }
  },
  "cells": [
    {
      "metadata": {
        "id": "REBSIByOhlVM",
        "colab_type": "text"
      },
      "cell_type": "markdown",
      "source": [
        "# Pandas\n",
        "\n",
        "Let's practice with Pandas dataframes and series!"
      ]
    },
    {
      "metadata": {
        "id": "PwoqX4_LhlVO",
        "colab_type": "code",
        "colab": {}
      },
      "cell_type": "code",
      "source": [
        "#Run these imports first\n",
        "import numpy as np\n",
        "import pandas as pd"
      ],
      "execution_count": 0,
      "outputs": []
    },
    {
      "metadata": {
        "id": "xTqmn1pEhlVT",
        "colab_type": "text"
      },
      "cell_type": "markdown",
      "source": [
        "### Series\n",
        "\n",
        "Let's make a series, including one field with NaN (an empty value).\n"
      ]
    },
    {
      "metadata": {
        "id": "RPsM7q4ahlVU",
        "colab_type": "code",
        "outputId": "c783bf46-71dd-4887-91a4-98e5e0b8c0a7",
        "colab": {
          "base_uri": "https://localhost:8080/",
          "height": 136
        }
      },
      "cell_type": "code",
      "source": [
        "s = pd.Series([1,3,5,np.nan, 6, 8])\n",
        "s"
      ],
      "execution_count": 0,
      "outputs": [
        {
          "output_type": "execute_result",
          "data": {
            "text/plain": [
              "0    1.0\n",
              "1    3.0\n",
              "2    5.0\n",
              "3    NaN\n",
              "4    6.0\n",
              "5    8.0\n",
              "dtype: float64"
            ]
          },
          "metadata": {
            "tags": []
          },
          "execution_count": 2
        }
      ]
    },
    {
      "metadata": {
        "scrolled": true,
        "id": "mt1IT_0BhlVX",
        "colab_type": "code",
        "colab": {}
      },
      "cell_type": "code",
      "source": [
        "# Accessing a member of the series:\n",
        "\n",
        "s[4]"
      ],
      "execution_count": 0,
      "outputs": []
    },
    {
      "metadata": {
        "id": "pitjchCPhlVa",
        "colab_type": "text"
      },
      "cell_type": "markdown",
      "source": [
        "### Dataframes\n",
        "\n",
        "Here we define dataframe."
      ]
    },
    {
      "metadata": {
        "id": "kYzRioOuhlVb",
        "colab_type": "code",
        "outputId": "dab6b057-4549-46a8-dcda-c824301a4e44",
        "colab": {
          "base_uri": "https://localhost:8080/",
          "height": 142
        }
      },
      "cell_type": "code",
      "source": [
        "df = pd.DataFrame({'date' : ['2016-01-01', '2016-01-02', '2016-01-03'],\n",
        "                    'qty': [20, 30, 40]})\n",
        "df\n"
      ],
      "execution_count": 0,
      "outputs": [
        {
          "output_type": "execute_result",
          "data": {
            "text/html": [
              "<div>\n",
              "<style scoped>\n",
              "    .dataframe tbody tr th:only-of-type {\n",
              "        vertical-align: middle;\n",
              "    }\n",
              "\n",
              "    .dataframe tbody tr th {\n",
              "        vertical-align: top;\n",
              "    }\n",
              "\n",
              "    .dataframe thead th {\n",
              "        text-align: right;\n",
              "    }\n",
              "</style>\n",
              "<table border=\"1\" class=\"dataframe\">\n",
              "  <thead>\n",
              "    <tr style=\"text-align: right;\">\n",
              "      <th></th>\n",
              "      <th>date</th>\n",
              "      <th>qty</th>\n",
              "    </tr>\n",
              "  </thead>\n",
              "  <tbody>\n",
              "    <tr>\n",
              "      <th>0</th>\n",
              "      <td>2016-01-01</td>\n",
              "      <td>20</td>\n",
              "    </tr>\n",
              "    <tr>\n",
              "      <th>1</th>\n",
              "      <td>2016-01-02</td>\n",
              "      <td>30</td>\n",
              "    </tr>\n",
              "    <tr>\n",
              "      <th>2</th>\n",
              "      <td>2016-01-03</td>\n",
              "      <td>40</td>\n",
              "    </tr>\n",
              "  </tbody>\n",
              "</table>\n",
              "</div>"
            ],
            "text/plain": [
              "         date  qty\n",
              "0  2016-01-01   20\n",
              "1  2016-01-02   30\n",
              "2  2016-01-03   40"
            ]
          },
          "metadata": {
            "tags": []
          },
          "execution_count": 3
        }
      ]
    },
    {
      "metadata": {
        "id": "uYNp-6aFhlVe",
        "colab_type": "text"
      },
      "cell_type": "markdown",
      "source": [
        "Larger data should be loaded from a file."
      ]
    },
    {
      "metadata": {
        "id": "YukRMBj0hlVf",
        "colab_type": "code",
        "outputId": "fb60710e-f5b5-42a3-d38d-1514938ef1da",
        "colab": {
          "base_uri": "https://localhost:8080/",
          "height": 421
        }
      },
      "cell_type": "code",
      "source": [
        "rain = pd.read_csv('https://s3.amazonaws.com/elephantscale-public/data/rainfall/rainfall.csv')\n",
        "rain"
      ],
      "execution_count": 0,
      "outputs": [
        {
          "output_type": "execute_result",
          "data": {
            "text/html": [
              "<div>\n",
              "<style scoped>\n",
              "    .dataframe tbody tr th:only-of-type {\n",
              "        vertical-align: middle;\n",
              "    }\n",
              "\n",
              "    .dataframe tbody tr th {\n",
              "        vertical-align: top;\n",
              "    }\n",
              "\n",
              "    .dataframe thead th {\n",
              "        text-align: right;\n",
              "    }\n",
              "</style>\n",
              "<table border=\"1\" class=\"dataframe\">\n",
              "  <thead>\n",
              "    <tr style=\"text-align: right;\">\n",
              "      <th></th>\n",
              "      <th>City</th>\n",
              "      <th>Month</th>\n",
              "      <th>Rainfall</th>\n",
              "    </tr>\n",
              "  </thead>\n",
              "  <tbody>\n",
              "    <tr>\n",
              "      <th>0</th>\n",
              "      <td>San Francisco</td>\n",
              "      <td>Jan</td>\n",
              "      <td>10.0</td>\n",
              "    </tr>\n",
              "    <tr>\n",
              "      <th>1</th>\n",
              "      <td>Seattle</td>\n",
              "      <td>Jan</td>\n",
              "      <td>30.0</td>\n",
              "    </tr>\n",
              "    <tr>\n",
              "      <th>2</th>\n",
              "      <td>Los Angeles</td>\n",
              "      <td>Jan</td>\n",
              "      <td>2.0</td>\n",
              "    </tr>\n",
              "    <tr>\n",
              "      <th>3</th>\n",
              "      <td>Seattle</td>\n",
              "      <td>Feb</td>\n",
              "      <td>20.0</td>\n",
              "    </tr>\n",
              "    <tr>\n",
              "      <th>4</th>\n",
              "      <td>San Francisco</td>\n",
              "      <td>Feb</td>\n",
              "      <td>4.0</td>\n",
              "    </tr>\n",
              "    <tr>\n",
              "      <th>5</th>\n",
              "      <td>Los Angeles</td>\n",
              "      <td>Feb</td>\n",
              "      <td>0.0</td>\n",
              "    </tr>\n",
              "    <tr>\n",
              "      <th>6</th>\n",
              "      <td>Seattle</td>\n",
              "      <td>Mar</td>\n",
              "      <td>22.0</td>\n",
              "    </tr>\n",
              "    <tr>\n",
              "      <th>7</th>\n",
              "      <td>San Francisco</td>\n",
              "      <td>Mar</td>\n",
              "      <td>4.0</td>\n",
              "    </tr>\n",
              "    <tr>\n",
              "      <th>8</th>\n",
              "      <td>Los Angeles</td>\n",
              "      <td>Mar</td>\n",
              "      <td>NaN</td>\n",
              "    </tr>\n",
              "    <tr>\n",
              "      <th>9</th>\n",
              "      <td>Seattle</td>\n",
              "      <td>Apr</td>\n",
              "      <td>NaN</td>\n",
              "    </tr>\n",
              "    <tr>\n",
              "      <th>10</th>\n",
              "      <td>San Francisco</td>\n",
              "      <td>Apr</td>\n",
              "      <td>5.0</td>\n",
              "    </tr>\n",
              "    <tr>\n",
              "      <th>11</th>\n",
              "      <td>Los Angeles</td>\n",
              "      <td>Apr</td>\n",
              "      <td>4.0</td>\n",
              "    </tr>\n",
              "  </tbody>\n",
              "</table>\n",
              "</div>"
            ],
            "text/plain": [
              "             City Month  Rainfall\n",
              "0   San Francisco   Jan      10.0\n",
              "1         Seattle   Jan      30.0\n",
              "2     Los Angeles   Jan       2.0\n",
              "3         Seattle   Feb      20.0\n",
              "4   San Francisco   Feb       4.0\n",
              "5     Los Angeles   Feb       0.0\n",
              "6         Seattle   Mar      22.0\n",
              "7   San Francisco   Mar       4.0\n",
              "8     Los Angeles   Mar       NaN\n",
              "9         Seattle   Apr       NaN\n",
              "10  San Francisco   Apr       5.0\n",
              "11    Los Angeles   Apr       4.0"
            ]
          },
          "metadata": {
            "tags": []
          },
          "execution_count": 4
        }
      ]
    },
    {
      "metadata": {
        "id": "0BKk7zUchlVi",
        "colab_type": "code",
        "outputId": "c71598c3-badf-4b48-c912-04940d9f53e1",
        "colab": {
          "base_uri": "https://localhost:8080/",
          "height": 238
        }
      },
      "cell_type": "code",
      "source": [
        "# Let's load a column\n"
      ],
      "execution_count": 0,
      "outputs": [
        {
          "output_type": "execute_result",
          "data": {
            "text/plain": [
              "0     San Francisco\n",
              "1           Seattle\n",
              "2       Los Angeles\n",
              "3           Seattle\n",
              "4     San Francisco\n",
              "5       Los Angeles\n",
              "6           Seattle\n",
              "7     San Francisco\n",
              "8       Los Angeles\n",
              "9           Seattle\n",
              "10    San Francisco\n",
              "11      Los Angeles\n",
              "Name: City, dtype: object"
            ]
          },
          "metadata": {
            "tags": []
          },
          "execution_count": 5
        }
      ]
    },
    {
      "metadata": {
        "id": "zVdD6s-HhlVl",
        "colab_type": "text"
      },
      "cell_type": "markdown",
      "source": [
        "We can also get a column by index number.(starting from zero)"
      ]
    },
    {
      "metadata": {
        "id": "rGSNNgRthlVm",
        "colab_type": "code",
        "outputId": "54ae9cca-6985-4d3e-f434-8b8a7c57beac",
        "colab": {
          "base_uri": "https://localhost:8080/",
          "height": 238
        }
      },
      "cell_type": "code",
      "source": [
        "rain.iloc[:,0]"
      ],
      "execution_count": 0,
      "outputs": [
        {
          "output_type": "execute_result",
          "data": {
            "text/plain": [
              "0     San Francisco\n",
              "1           Seattle\n",
              "2       Los Angeles\n",
              "3           Seattle\n",
              "4     San Francisco\n",
              "5       Los Angeles\n",
              "6           Seattle\n",
              "7     San Francisco\n",
              "8       Los Angeles\n",
              "9           Seattle\n",
              "10    San Francisco\n",
              "11      Los Angeles\n",
              "Name: City, dtype: object"
            ]
          },
          "metadata": {
            "tags": []
          },
          "execution_count": 6
        }
      ]
    },
    {
      "metadata": {
        "id": "1gHtqgfBhlVq",
        "colab_type": "text"
      },
      "cell_type": "markdown",
      "source": [
        "We can also get a row by index number"
      ]
    },
    {
      "metadata": {
        "id": "JbqVXktwhlVr",
        "colab_type": "code",
        "outputId": "e60e96fb-fda1-47e3-c0ed-ff537e425fd8",
        "colab": {
          "base_uri": "https://localhost:8080/",
          "height": 80
        }
      },
      "cell_type": "code",
      "source": [
        "# Let's load a row\n",
        "rain.iloc[[1]]"
      ],
      "execution_count": 0,
      "outputs": [
        {
          "output_type": "execute_result",
          "data": {
            "text/html": [
              "<div>\n",
              "<style scoped>\n",
              "    .dataframe tbody tr th:only-of-type {\n",
              "        vertical-align: middle;\n",
              "    }\n",
              "\n",
              "    .dataframe tbody tr th {\n",
              "        vertical-align: top;\n",
              "    }\n",
              "\n",
              "    .dataframe thead th {\n",
              "        text-align: right;\n",
              "    }\n",
              "</style>\n",
              "<table border=\"1\" class=\"dataframe\">\n",
              "  <thead>\n",
              "    <tr style=\"text-align: right;\">\n",
              "      <th></th>\n",
              "      <th>City</th>\n",
              "      <th>Month</th>\n",
              "      <th>Rainfall</th>\n",
              "    </tr>\n",
              "  </thead>\n",
              "  <tbody>\n",
              "    <tr>\n",
              "      <th>1</th>\n",
              "      <td>Seattle</td>\n",
              "      <td>Jan</td>\n",
              "      <td>30.0</td>\n",
              "    </tr>\n",
              "  </tbody>\n",
              "</table>\n",
              "</div>"
            ],
            "text/plain": [
              "      City Month  Rainfall\n",
              "1  Seattle   Jan      30.0"
            ]
          },
          "metadata": {
            "tags": []
          },
          "execution_count": 7
        }
      ]
    },
    {
      "metadata": {
        "id": "VB_V3DM6hlVw",
        "colab_type": "text"
      },
      "cell_type": "markdown",
      "source": [
        "Or a group of rows by index number"
      ]
    },
    {
      "metadata": {
        "id": "xC3xbV50hlVy",
        "colab_type": "code",
        "outputId": "ad2171b9-a67e-44d2-81c4-05ad4382e7dc",
        "colab": {
          "base_uri": "https://localhost:8080/",
          "height": 238
        }
      },
      "cell_type": "code",
      "source": [
        "rain.iloc[:, 0]"
      ],
      "execution_count": 0,
      "outputs": [
        {
          "output_type": "execute_result",
          "data": {
            "text/plain": [
              "0     San Francisco\n",
              "1           Seattle\n",
              "2       Los Angeles\n",
              "3           Seattle\n",
              "4     San Francisco\n",
              "5       Los Angeles\n",
              "6           Seattle\n",
              "7     San Francisco\n",
              "8       Los Angeles\n",
              "9           Seattle\n",
              "10    San Francisco\n",
              "11      Los Angeles\n",
              "Name: City, dtype: object"
            ]
          },
          "metadata": {
            "tags": []
          },
          "execution_count": 14
        }
      ]
    },
    {
      "metadata": {
        "id": "99wQTwsthlV1",
        "colab_type": "code",
        "outputId": "08067fb1-570a-4e4b-fe28-7a50f0be4c14",
        "colab": {
          "base_uri": "https://localhost:8080/",
          "height": 130
        }
      },
      "cell_type": "code",
      "source": [
        "We can even get a sub-dataframe using iloc\n",
        "\n",
        "```python rain.iloc [0, 1]```"
      ],
      "execution_count": 0,
      "outputs": [
        {
          "output_type": "error",
          "ename": "SyntaxError",
          "evalue": "ignored",
          "traceback": [
            "\u001b[0;36m  File \u001b[0;32m\"<ipython-input-23-abdb73890a29>\"\u001b[0;36m, line \u001b[0;32m1\u001b[0m\n\u001b[0;31m    We can even get a sub-dataframe using iloc\u001b[0m\n\u001b[0m         ^\u001b[0m\n\u001b[0;31mSyntaxError\u001b[0m\u001b[0;31m:\u001b[0m invalid syntax\n"
          ]
        }
      ]
    },
    {
      "metadata": {
        "id": "M4q-0F1PhlV5",
        "colab_type": "code",
        "colab": {}
      },
      "cell_type": "code",
      "source": [
        "# TODO: How would you get row # 1 through 3, with the first 2 columns?\n",
        "\n"
      ],
      "execution_count": 0,
      "outputs": []
    },
    {
      "metadata": {
        "id": "keWpAPAOhlV8",
        "colab_type": "text"
      },
      "cell_type": "markdown",
      "source": [
        "# Filtering\n",
        "\n",
        "We can filter rows like this:"
      ]
    },
    {
      "metadata": {
        "id": "Lv_k1uL8hlV9",
        "colab_type": "code",
        "outputId": "25eea050-9d39-4235-a9da-0b2b8ccfe5b6",
        "colab": {
          "base_uri": "https://localhost:8080/",
          "height": 235
        }
      },
      "cell_type": "code",
      "source": [
        "#find all rainfall less than 10\n",
        "\n"
      ],
      "execution_count": 0,
      "outputs": [
        {
          "output_type": "execute_result",
          "data": {
            "text/html": [
              "<div>\n",
              "<style scoped>\n",
              "    .dataframe tbody tr th:only-of-type {\n",
              "        vertical-align: middle;\n",
              "    }\n",
              "\n",
              "    .dataframe tbody tr th {\n",
              "        vertical-align: top;\n",
              "    }\n",
              "\n",
              "    .dataframe thead th {\n",
              "        text-align: right;\n",
              "    }\n",
              "</style>\n",
              "<table border=\"1\" class=\"dataframe\">\n",
              "  <thead>\n",
              "    <tr style=\"text-align: right;\">\n",
              "      <th></th>\n",
              "      <th>City</th>\n",
              "      <th>Month</th>\n",
              "      <th>Rainfall</th>\n",
              "    </tr>\n",
              "  </thead>\n",
              "  <tbody>\n",
              "    <tr>\n",
              "      <th>2</th>\n",
              "      <td>Los Angeles</td>\n",
              "      <td>Jan</td>\n",
              "      <td>2.0</td>\n",
              "    </tr>\n",
              "    <tr>\n",
              "      <th>4</th>\n",
              "      <td>San Francisco</td>\n",
              "      <td>Feb</td>\n",
              "      <td>4.0</td>\n",
              "    </tr>\n",
              "    <tr>\n",
              "      <th>5</th>\n",
              "      <td>Los Angeles</td>\n",
              "      <td>Feb</td>\n",
              "      <td>0.0</td>\n",
              "    </tr>\n",
              "    <tr>\n",
              "      <th>7</th>\n",
              "      <td>San Francisco</td>\n",
              "      <td>Mar</td>\n",
              "      <td>4.0</td>\n",
              "    </tr>\n",
              "    <tr>\n",
              "      <th>10</th>\n",
              "      <td>San Francisco</td>\n",
              "      <td>Apr</td>\n",
              "      <td>5.0</td>\n",
              "    </tr>\n",
              "    <tr>\n",
              "      <th>11</th>\n",
              "      <td>Los Angeles</td>\n",
              "      <td>Apr</td>\n",
              "      <td>4.0</td>\n",
              "    </tr>\n",
              "  </tbody>\n",
              "</table>\n",
              "</div>"
            ],
            "text/plain": [
              "             City Month  Rainfall\n",
              "2     Los Angeles   Jan       2.0\n",
              "4   San Francisco   Feb       4.0\n",
              "5     Los Angeles   Feb       0.0\n",
              "7   San Francisco   Mar       4.0\n",
              "10  San Francisco   Apr       5.0\n",
              "11    Los Angeles   Apr       4.0"
            ]
          },
          "metadata": {
            "tags": []
          },
          "execution_count": 11
        }
      ]
    },
    {
      "metadata": {
        "id": "yAKWFhE1hlWD",
        "colab_type": "text"
      },
      "cell_type": "markdown",
      "source": [
        "# Filter Exercises\n",
        "\n",
        "Complete the following:"
      ]
    },
    {
      "metadata": {
        "id": "rGKlXb7VhlWE",
        "colab_type": "code",
        "outputId": "e4ab6c55-fc0e-4285-8854-627142b3dd9d",
        "colab": {
          "base_uri": "https://localhost:8080/",
          "height": 130
        }
      },
      "cell_type": "code",
      "source": [
        "# How would we find all reading for Aprils (in all cities)?\n",
        "\n",
        "          "
      ],
      "execution_count": 0,
      "outputs": [
        {
          "output_type": "error",
          "ename": "SyntaxError",
          "evalue": "ignored",
          "traceback": [
            "\u001b[0;36m  File \u001b[0;32m\"<ipython-input-28-602d2eb20945>\"\u001b[0;36m, line \u001b[0;32m2\u001b[0m\n\u001b[0;31m    \u001b[0m\n\u001b[0m    ^\u001b[0m\n\u001b[0;31mSyntaxError\u001b[0m\u001b[0;31m:\u001b[0m unexpected EOF while parsing\n"
          ]
        }
      ]
    },
    {
      "metadata": {
        "id": "JYzhu8GhhlWH",
        "colab_type": "code",
        "outputId": "07f4cf9d-ee9c-42b5-e757-8ef02b4bfe88",
        "colab": {
          "base_uri": "https://localhost:8080/",
          "height": 80
        }
      },
      "cell_type": "code",
      "source": [
        "# How would we find all readings for Los Angeles?\n",
        "rain.iloc[[5]]"
      ],
      "execution_count": 0,
      "outputs": [
        {
          "output_type": "execute_result",
          "data": {
            "text/html": [
              "<div>\n",
              "<style scoped>\n",
              "    .dataframe tbody tr th:only-of-type {\n",
              "        vertical-align: middle;\n",
              "    }\n",
              "\n",
              "    .dataframe tbody tr th {\n",
              "        vertical-align: top;\n",
              "    }\n",
              "\n",
              "    .dataframe thead th {\n",
              "        text-align: right;\n",
              "    }\n",
              "</style>\n",
              "<table border=\"1\" class=\"dataframe\">\n",
              "  <thead>\n",
              "    <tr style=\"text-align: right;\">\n",
              "      <th></th>\n",
              "      <th>City</th>\n",
              "      <th>Month</th>\n",
              "      <th>Rainfall</th>\n",
              "    </tr>\n",
              "  </thead>\n",
              "  <tbody>\n",
              "    <tr>\n",
              "      <th>5</th>\n",
              "      <td>Los Angeles</td>\n",
              "      <td>Feb</td>\n",
              "      <td>0.0</td>\n",
              "    </tr>\n",
              "  </tbody>\n",
              "</table>\n",
              "</div>"
            ],
            "text/plain": [
              "          City Month  Rainfall\n",
              "5  Los Angeles   Feb       0.0"
            ]
          },
          "metadata": {
            "tags": []
          },
          "execution_count": 26
        }
      ]
    },
    {
      "metadata": {
        "id": "lFjbzagzhlWK",
        "colab_type": "text"
      },
      "cell_type": "markdown",
      "source": [
        "# Naming Rows\n",
        "\n",
        "We can give rows names instead of numbers."
      ]
    },
    {
      "metadata": {
        "id": "tEf3OJvdhlWM",
        "colab_type": "code",
        "outputId": "40d364a0-3f66-4375-e283-7239d41c112f",
        "colab": {
          "base_uri": "https://localhost:8080/",
          "height": 421
        }
      },
      "cell_type": "code",
      "source": [
        "rain.set_index(rain['City']  + rain['Month'])\n"
      ],
      "execution_count": 0,
      "outputs": [
        {
          "output_type": "execute_result",
          "data": {
            "text/html": [
              "<div>\n",
              "<style scoped>\n",
              "    .dataframe tbody tr th:only-of-type {\n",
              "        vertical-align: middle;\n",
              "    }\n",
              "\n",
              "    .dataframe tbody tr th {\n",
              "        vertical-align: top;\n",
              "    }\n",
              "\n",
              "    .dataframe thead th {\n",
              "        text-align: right;\n",
              "    }\n",
              "</style>\n",
              "<table border=\"1\" class=\"dataframe\">\n",
              "  <thead>\n",
              "    <tr style=\"text-align: right;\">\n",
              "      <th></th>\n",
              "      <th>City</th>\n",
              "      <th>Month</th>\n",
              "      <th>Rainfall</th>\n",
              "    </tr>\n",
              "  </thead>\n",
              "  <tbody>\n",
              "    <tr>\n",
              "      <th>San FranciscoJan</th>\n",
              "      <td>San Francisco</td>\n",
              "      <td>Jan</td>\n",
              "      <td>10.0</td>\n",
              "    </tr>\n",
              "    <tr>\n",
              "      <th>SeattleJan</th>\n",
              "      <td>Seattle</td>\n",
              "      <td>Jan</td>\n",
              "      <td>30.0</td>\n",
              "    </tr>\n",
              "    <tr>\n",
              "      <th>Los AngelesJan</th>\n",
              "      <td>Los Angeles</td>\n",
              "      <td>Jan</td>\n",
              "      <td>2.0</td>\n",
              "    </tr>\n",
              "    <tr>\n",
              "      <th>SeattleFeb</th>\n",
              "      <td>Seattle</td>\n",
              "      <td>Feb</td>\n",
              "      <td>20.0</td>\n",
              "    </tr>\n",
              "    <tr>\n",
              "      <th>San FranciscoFeb</th>\n",
              "      <td>San Francisco</td>\n",
              "      <td>Feb</td>\n",
              "      <td>4.0</td>\n",
              "    </tr>\n",
              "    <tr>\n",
              "      <th>Los AngelesFeb</th>\n",
              "      <td>Los Angeles</td>\n",
              "      <td>Feb</td>\n",
              "      <td>0.0</td>\n",
              "    </tr>\n",
              "    <tr>\n",
              "      <th>SeattleMar</th>\n",
              "      <td>Seattle</td>\n",
              "      <td>Mar</td>\n",
              "      <td>22.0</td>\n",
              "    </tr>\n",
              "    <tr>\n",
              "      <th>San FranciscoMar</th>\n",
              "      <td>San Francisco</td>\n",
              "      <td>Mar</td>\n",
              "      <td>4.0</td>\n",
              "    </tr>\n",
              "    <tr>\n",
              "      <th>Los AngelesMar</th>\n",
              "      <td>Los Angeles</td>\n",
              "      <td>Mar</td>\n",
              "      <td>NaN</td>\n",
              "    </tr>\n",
              "    <tr>\n",
              "      <th>SeattleApr</th>\n",
              "      <td>Seattle</td>\n",
              "      <td>Apr</td>\n",
              "      <td>NaN</td>\n",
              "    </tr>\n",
              "    <tr>\n",
              "      <th>San FranciscoApr</th>\n",
              "      <td>San Francisco</td>\n",
              "      <td>Apr</td>\n",
              "      <td>5.0</td>\n",
              "    </tr>\n",
              "    <tr>\n",
              "      <th>Los AngelesApr</th>\n",
              "      <td>Los Angeles</td>\n",
              "      <td>Apr</td>\n",
              "      <td>4.0</td>\n",
              "    </tr>\n",
              "  </tbody>\n",
              "</table>\n",
              "</div>"
            ],
            "text/plain": [
              "                           City Month  Rainfall\n",
              "San FranciscoJan  San Francisco   Jan      10.0\n",
              "SeattleJan              Seattle   Jan      30.0\n",
              "Los AngelesJan      Los Angeles   Jan       2.0\n",
              "SeattleFeb              Seattle   Feb      20.0\n",
              "San FranciscoFeb  San Francisco   Feb       4.0\n",
              "Los AngelesFeb      Los Angeles   Feb       0.0\n",
              "SeattleMar              Seattle   Mar      22.0\n",
              "San FranciscoMar  San Francisco   Mar       4.0\n",
              "Los AngelesMar      Los Angeles   Mar       NaN\n",
              "SeattleApr              Seattle   Apr       NaN\n",
              "San FranciscoApr  San Francisco   Apr       5.0\n",
              "Los AngelesApr      Los Angeles   Apr       4.0"
            ]
          },
          "metadata": {
            "tags": []
          },
          "execution_count": 29
        }
      ]
    },
    {
      "metadata": {
        "id": "9DqpVY95hlWQ",
        "colab_type": "text"
      },
      "cell_type": "markdown",
      "source": [
        "### Setting the index.\n",
        "\n",
        "In Pandas we have something called the index.  Here's how we use the index to get rows:\n",
        "\n",
        "```python\n",
        "rain.loc[0]  #will get row at index '0' as a series\n",
        "rain.loc[[0]] #will get row at index '0' as a one-row dataframe\n",
        "```\n",
        "\n",
        "Just like columns can be accessed by both number and name, rows also can be accessed by either number or name.  \n",
        "\n",
        "By default, the index is simply the row number starting from zero, but this can be changed or overridden.\n",
        "\n",
        "``` rain.set_index(\"colname\")\n",
        "```"
      ]
    },
    {
      "metadata": {
        "id": "rpbypC5ZhlWS",
        "colab_type": "code",
        "outputId": "3bf2a707-b901-4721-8f30-f117bf301479",
        "colab": {
          "base_uri": "https://localhost:8080/",
          "height": 421
        }
      },
      "cell_type": "code",
      "source": [
        "rain.set_index(rain['City']  + rain['Month'])"
      ],
      "execution_count": 0,
      "outputs": [
        {
          "output_type": "execute_result",
          "data": {
            "text/html": [
              "<div>\n",
              "<style scoped>\n",
              "    .dataframe tbody tr th:only-of-type {\n",
              "        vertical-align: middle;\n",
              "    }\n",
              "\n",
              "    .dataframe tbody tr th {\n",
              "        vertical-align: top;\n",
              "    }\n",
              "\n",
              "    .dataframe thead th {\n",
              "        text-align: right;\n",
              "    }\n",
              "</style>\n",
              "<table border=\"1\" class=\"dataframe\">\n",
              "  <thead>\n",
              "    <tr style=\"text-align: right;\">\n",
              "      <th></th>\n",
              "      <th>City</th>\n",
              "      <th>Month</th>\n",
              "      <th>Rainfall</th>\n",
              "    </tr>\n",
              "  </thead>\n",
              "  <tbody>\n",
              "    <tr>\n",
              "      <th>San FranciscoJan</th>\n",
              "      <td>San Francisco</td>\n",
              "      <td>Jan</td>\n",
              "      <td>10.0</td>\n",
              "    </tr>\n",
              "    <tr>\n",
              "      <th>SeattleJan</th>\n",
              "      <td>Seattle</td>\n",
              "      <td>Jan</td>\n",
              "      <td>30.0</td>\n",
              "    </tr>\n",
              "    <tr>\n",
              "      <th>Los AngelesJan</th>\n",
              "      <td>Los Angeles</td>\n",
              "      <td>Jan</td>\n",
              "      <td>2.0</td>\n",
              "    </tr>\n",
              "    <tr>\n",
              "      <th>SeattleFeb</th>\n",
              "      <td>Seattle</td>\n",
              "      <td>Feb</td>\n",
              "      <td>20.0</td>\n",
              "    </tr>\n",
              "    <tr>\n",
              "      <th>San FranciscoFeb</th>\n",
              "      <td>San Francisco</td>\n",
              "      <td>Feb</td>\n",
              "      <td>4.0</td>\n",
              "    </tr>\n",
              "    <tr>\n",
              "      <th>Los AngelesFeb</th>\n",
              "      <td>Los Angeles</td>\n",
              "      <td>Feb</td>\n",
              "      <td>0.0</td>\n",
              "    </tr>\n",
              "    <tr>\n",
              "      <th>SeattleMar</th>\n",
              "      <td>Seattle</td>\n",
              "      <td>Mar</td>\n",
              "      <td>22.0</td>\n",
              "    </tr>\n",
              "    <tr>\n",
              "      <th>San FranciscoMar</th>\n",
              "      <td>San Francisco</td>\n",
              "      <td>Mar</td>\n",
              "      <td>4.0</td>\n",
              "    </tr>\n",
              "    <tr>\n",
              "      <th>Los AngelesMar</th>\n",
              "      <td>Los Angeles</td>\n",
              "      <td>Mar</td>\n",
              "      <td>NaN</td>\n",
              "    </tr>\n",
              "    <tr>\n",
              "      <th>SeattleApr</th>\n",
              "      <td>Seattle</td>\n",
              "      <td>Apr</td>\n",
              "      <td>NaN</td>\n",
              "    </tr>\n",
              "    <tr>\n",
              "      <th>San FranciscoApr</th>\n",
              "      <td>San Francisco</td>\n",
              "      <td>Apr</td>\n",
              "      <td>5.0</td>\n",
              "    </tr>\n",
              "    <tr>\n",
              "      <th>Los AngelesApr</th>\n",
              "      <td>Los Angeles</td>\n",
              "      <td>Apr</td>\n",
              "      <td>4.0</td>\n",
              "    </tr>\n",
              "  </tbody>\n",
              "</table>\n",
              "</div>"
            ],
            "text/plain": [
              "                           City Month  Rainfall\n",
              "San FranciscoJan  San Francisco   Jan      10.0\n",
              "SeattleJan              Seattle   Jan      30.0\n",
              "Los AngelesJan      Los Angeles   Jan       2.0\n",
              "SeattleFeb              Seattle   Feb      20.0\n",
              "San FranciscoFeb  San Francisco   Feb       4.0\n",
              "Los AngelesFeb      Los Angeles   Feb       0.0\n",
              "SeattleMar              Seattle   Mar      22.0\n",
              "San FranciscoMar  San Francisco   Mar       4.0\n",
              "Los AngelesMar      Los Angeles   Mar       NaN\n",
              "SeattleApr              Seattle   Apr       NaN\n",
              "San FranciscoApr  San Francisco   Apr       5.0\n",
              "Los AngelesApr      Los Angeles   Apr       4.0"
            ]
          },
          "metadata": {
            "tags": []
          },
          "execution_count": 30
        }
      ]
    },
    {
      "metadata": {
        "id": "X6Cz-Qv0hlWW",
        "colab_type": "text"
      },
      "cell_type": "markdown",
      "source": [
        "### Pandas and changes in-place\n",
        "\n",
        "**Most** (but not all) changes to the dataframe do not happen in-place.  This means that they return a mutated copy of the data, but don't touch the original data.\n",
        "\n",
        "Let's try referencing the rainfall after setting the dataframe index as above."
      ]
    },
    {
      "metadata": {
        "id": "RwrhDXsrhlWX",
        "colab_type": "code",
        "colab": {}
      },
      "cell_type": "code",
      "source": [
        "# Let us try referencing this -- Note: it won't work.\n",
        "rain.loc['San FranciscoJan']  # ERROR!"
      ],
      "execution_count": 0,
      "outputs": []
    },
    {
      "metadata": {
        "id": "P-FGykTKhlWa",
        "colab_type": "text"
      },
      "cell_type": "markdown",
      "source": [
        "set_index, and many other functions returns a mutated dataframe and does NOT change it in-place. If we want to apply the change we can write on top of the old dataframe."
      ]
    },
    {
      "metadata": {
        "scrolled": true,
        "id": "D0Wkme13hlWa",
        "colab_type": "code",
        "outputId": "58191198-979b-4424-ee16-78b2c06a26c9",
        "colab": {
          "base_uri": "https://localhost:8080/",
          "height": 421
        }
      },
      "cell_type": "code",
      "source": [
        "rain = rain.set_index(rain['City']  + rain['Month'])\n",
        "                    \n",
        "rain"
      ],
      "execution_count": 0,
      "outputs": [
        {
          "output_type": "execute_result",
          "data": {
            "text/html": [
              "<div>\n",
              "<style scoped>\n",
              "    .dataframe tbody tr th:only-of-type {\n",
              "        vertical-align: middle;\n",
              "    }\n",
              "\n",
              "    .dataframe tbody tr th {\n",
              "        vertical-align: top;\n",
              "    }\n",
              "\n",
              "    .dataframe thead th {\n",
              "        text-align: right;\n",
              "    }\n",
              "</style>\n",
              "<table border=\"1\" class=\"dataframe\">\n",
              "  <thead>\n",
              "    <tr style=\"text-align: right;\">\n",
              "      <th></th>\n",
              "      <th>City</th>\n",
              "      <th>Month</th>\n",
              "      <th>Rainfall</th>\n",
              "    </tr>\n",
              "  </thead>\n",
              "  <tbody>\n",
              "    <tr>\n",
              "      <th>San FranciscoJan</th>\n",
              "      <td>San Francisco</td>\n",
              "      <td>Jan</td>\n",
              "      <td>10.0</td>\n",
              "    </tr>\n",
              "    <tr>\n",
              "      <th>SeattleJan</th>\n",
              "      <td>Seattle</td>\n",
              "      <td>Jan</td>\n",
              "      <td>30.0</td>\n",
              "    </tr>\n",
              "    <tr>\n",
              "      <th>Los AngelesJan</th>\n",
              "      <td>Los Angeles</td>\n",
              "      <td>Jan</td>\n",
              "      <td>2.0</td>\n",
              "    </tr>\n",
              "    <tr>\n",
              "      <th>SeattleFeb</th>\n",
              "      <td>Seattle</td>\n",
              "      <td>Feb</td>\n",
              "      <td>20.0</td>\n",
              "    </tr>\n",
              "    <tr>\n",
              "      <th>San FranciscoFeb</th>\n",
              "      <td>San Francisco</td>\n",
              "      <td>Feb</td>\n",
              "      <td>4.0</td>\n",
              "    </tr>\n",
              "    <tr>\n",
              "      <th>Los AngelesFeb</th>\n",
              "      <td>Los Angeles</td>\n",
              "      <td>Feb</td>\n",
              "      <td>0.0</td>\n",
              "    </tr>\n",
              "    <tr>\n",
              "      <th>SeattleMar</th>\n",
              "      <td>Seattle</td>\n",
              "      <td>Mar</td>\n",
              "      <td>22.0</td>\n",
              "    </tr>\n",
              "    <tr>\n",
              "      <th>San FranciscoMar</th>\n",
              "      <td>San Francisco</td>\n",
              "      <td>Mar</td>\n",
              "      <td>4.0</td>\n",
              "    </tr>\n",
              "    <tr>\n",
              "      <th>Los AngelesMar</th>\n",
              "      <td>Los Angeles</td>\n",
              "      <td>Mar</td>\n",
              "      <td>NaN</td>\n",
              "    </tr>\n",
              "    <tr>\n",
              "      <th>SeattleApr</th>\n",
              "      <td>Seattle</td>\n",
              "      <td>Apr</td>\n",
              "      <td>NaN</td>\n",
              "    </tr>\n",
              "    <tr>\n",
              "      <th>San FranciscoApr</th>\n",
              "      <td>San Francisco</td>\n",
              "      <td>Apr</td>\n",
              "      <td>5.0</td>\n",
              "    </tr>\n",
              "    <tr>\n",
              "      <th>Los AngelesApr</th>\n",
              "      <td>Los Angeles</td>\n",
              "      <td>Apr</td>\n",
              "      <td>4.0</td>\n",
              "    </tr>\n",
              "  </tbody>\n",
              "</table>\n",
              "</div>"
            ],
            "text/plain": [
              "                           City Month  Rainfall\n",
              "San FranciscoJan  San Francisco   Jan      10.0\n",
              "SeattleJan              Seattle   Jan      30.0\n",
              "Los AngelesJan      Los Angeles   Jan       2.0\n",
              "SeattleFeb              Seattle   Feb      20.0\n",
              "San FranciscoFeb  San Francisco   Feb       4.0\n",
              "Los AngelesFeb      Los Angeles   Feb       0.0\n",
              "SeattleMar              Seattle   Mar      22.0\n",
              "San FranciscoMar  San Francisco   Mar       4.0\n",
              "Los AngelesMar      Los Angeles   Mar       NaN\n",
              "SeattleApr              Seattle   Apr       NaN\n",
              "San FranciscoApr  San Francisco   Apr       5.0\n",
              "Los AngelesApr      Los Angeles   Apr       4.0"
            ]
          },
          "metadata": {
            "tags": []
          },
          "execution_count": 32
        }
      ]
    },
    {
      "metadata": {
        "id": "fMOJsWVIhlWe",
        "colab_type": "code",
        "outputId": "8cd25ab6-a45c-4531-ecd1-4c44b5181ce1",
        "colab": {
          "base_uri": "https://localhost:8080/",
          "height": 85
        }
      },
      "cell_type": "code",
      "source": [
        "rain.loc['San FranciscoJan']  #Should Work Now"
      ],
      "execution_count": 0,
      "outputs": [
        {
          "output_type": "execute_result",
          "data": {
            "text/plain": [
              "City        San Francisco\n",
              "Month                 Jan\n",
              "Rainfall               10\n",
              "Name: San FranciscoJan, dtype: object"
            ]
          },
          "metadata": {
            "tags": []
          },
          "execution_count": 33
        }
      ]
    },
    {
      "metadata": {
        "collapsed": true,
        "id": "s1v-nQGwhlWh",
        "colab_type": "text"
      },
      "cell_type": "markdown",
      "source": [
        "Most functions can in fact change data in place with the optional inPlace parameter.\n",
        "\n",
        "```python\n",
        " rain.set_index(rain['City']  + rain['Month'], inplace=True)\n",
        "```\n"
      ]
    }
  ]
}