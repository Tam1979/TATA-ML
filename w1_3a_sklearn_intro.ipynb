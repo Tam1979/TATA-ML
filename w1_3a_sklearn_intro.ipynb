{
  "nbformat": 4,
  "nbformat_minor": 0,
  "metadata": {
    "colab": {
      "name": "w1-3a-sklearn-intro.ipynb",
      "version": "0.3.2",
      "provenance": [],
      "include_colab_link": true
    },
    "kernelspec": {
      "display_name": "Python 3",
      "language": "python",
      "name": "python3"
    }
  },
  "cells": [
    {
      "cell_type": "markdown",
      "metadata": {
        "id": "view-in-github",
        "colab_type": "text"
      },
      "source": [
        "<a href=\"https://colab.research.google.com/github/Tam1979/TATA-ML/blob/master/w1_3a_sklearn_intro.ipynb\" target=\"_parent\"><img src=\"https://colab.research.google.com/assets/colab-badge.svg\" alt=\"Open In Colab\"/></a>"
      ]
    },
    {
      "metadata": {
        "id": "c5d5teTeRZIH",
        "colab_type": "text"
      },
      "cell_type": "markdown",
      "source": [
        "# Scikit-learn Introduction\n",
        "\n",
        "Scikit-learn is a library for machine learning in Python.  It helps us in all of the following ways:\n",
        "\n",
        "    1. Preprocessing: Getting the data into shape for Machine Learning\n",
        "    2. Dimensionality Reduction: Reducing redundancy in variables\n",
        "    3. Classification: Predicting one of a finite set of classes for data.\n",
        "    4. Regression: Predicting a response variable\n",
        "    5. Clustering: Finding natural patterns in the data.\n",
        "    6. Model Selection: Finding the best model for our data.\n",
        "\n",
        "\n",
        "We will be looking at our NYCFlights13 dataset here.   \n"
      ]
    },
    {
      "metadata": {
        "id": "TqM8-sgdRZIK",
        "colab_type": "code",
        "outputId": "a0afaded-72f6-4f84-d9f6-bb4e65deb4e5",
        "colab": {
          "base_uri": "https://localhost:8080/",
          "height": 368
        }
      },
      "cell_type": "code",
      "source": [
        "%matplotlib inline\n",
        "\n",
        "import pandas as pd\n",
        "import matplotlib.pyplot as plt\n",
        "import numpy as np\n",
        "from sklearn.cross_validation  import train_test_split\n",
        "from sklearn.preprocessing import StandardScaler, OneHotEncoder\n",
        "\n",
        "\n",
        "flights = pd.read_csv('https://s3.amazonaws.com/elephantscale-public/data/nycflights13/flights.csv.gz')\n",
        "weather = pd.read_csv('https://s3.amazonaws.com/elephantscale-public/data/nycflights13/weather.csv.gz')\n",
        "airports = pd.read_csv('https://s3.amazonaws.com/elephantscale-public/data/nycflights13/airports.csv.gz')\n",
        "\n",
        "df_withweather = pd.merge(flights, weather, how='left', on=['year','month', 'day', 'hour', 'origin'])\n",
        "df = pd.merge(df_withweather, airports, how='left', left_on='dest', right_on='faa')\n",
        "\n",
        "df = df.dropna()"
      ],
      "execution_count": 0,
      "outputs": [
        {
          "output_type": "error",
          "ename": "ModuleNotFoundError",
          "evalue": "ignored",
          "traceback": [
            "\u001b[0;31m---------------------------------------------------------------------------\u001b[0m",
            "\u001b[0;31mModuleNotFoundError\u001b[0m                       Traceback (most recent call last)",
            "\u001b[0;32m<ipython-input-1-4f069fb3b614>\u001b[0m in \u001b[0;36m<module>\u001b[0;34m()\u001b[0m\n\u001b[1;32m      4\u001b[0m \u001b[0;32mimport\u001b[0m \u001b[0mmatplotlib\u001b[0m\u001b[0;34m.\u001b[0m\u001b[0mpyplot\u001b[0m \u001b[0;32mas\u001b[0m \u001b[0mplt\u001b[0m\u001b[0;34m\u001b[0m\u001b[0;34m\u001b[0m\u001b[0m\n\u001b[1;32m      5\u001b[0m \u001b[0;32mimport\u001b[0m \u001b[0mnumpy\u001b[0m \u001b[0;32mas\u001b[0m \u001b[0mnp\u001b[0m\u001b[0;34m\u001b[0m\u001b[0;34m\u001b[0m\u001b[0m\n\u001b[0;32m----> 6\u001b[0;31m \u001b[0;32mfrom\u001b[0m \u001b[0msklearn\u001b[0m\u001b[0;34m.\u001b[0m\u001b[0mcross_validation\u001b[0m  \u001b[0;32mimport\u001b[0m \u001b[0mtrain_test_split\u001b[0m\u001b[0;34m\u001b[0m\u001b[0;34m\u001b[0m\u001b[0m\n\u001b[0m\u001b[1;32m      7\u001b[0m \u001b[0;32mfrom\u001b[0m \u001b[0msklearn\u001b[0m\u001b[0;34m.\u001b[0m\u001b[0mpreprocessing\u001b[0m \u001b[0;32mimport\u001b[0m \u001b[0mStandardScaler\u001b[0m\u001b[0;34m,\u001b[0m \u001b[0mOneHotEncoder\u001b[0m\u001b[0;34m\u001b[0m\u001b[0;34m\u001b[0m\u001b[0m\n\u001b[1;32m      8\u001b[0m \u001b[0;34m\u001b[0m\u001b[0m\n",
            "\u001b[0;31mModuleNotFoundError\u001b[0m: No module named 'sklearn.cross_validation'",
            "",
            "\u001b[0;31m---------------------------------------------------------------------------\u001b[0;32m\nNOTE: If your import is failing due to a missing package, you can\nmanually install dependencies using either !pip or !apt.\n\nTo view examples of installing some common dependencies, click the\n\"Open Examples\" button below.\n\u001b[0;31m---------------------------------------------------------------------------\u001b[0m\n"
          ]
        }
      ]
    },
    {
      "metadata": {
        "id": "v1citpXTRZIV",
        "colab_type": "code",
        "colab": {}
      },
      "cell_type": "code",
      "source": [
        "# Let's examine the data\n",
        "\n",
        "df"
      ],
      "execution_count": 0,
      "outputs": []
    },
    {
      "metadata": {
        "id": "jaFY1ZHJRZIZ",
        "colab_type": "text"
      },
      "cell_type": "markdown",
      "source": [
        "## Feature Vector\n",
        "\n",
        "Let's create a feature vector."
      ]
    },
    {
      "metadata": {
        "id": "3q53jlOJRZIa",
        "colab_type": "code",
        "colab": {}
      },
      "cell_type": "code",
      "source": [
        "\n",
        "pred = 'dep_delay'\n",
        "features =  ['month','day','dep_time','arr_time','carrier','dest','air_time','distance', \n",
        "             'lat', 'lon', 'alt',  'dewp', 'humid', 'wind_speed', 'wind_gust', \n",
        "             'precip', 'pressure', 'visib' ]\n",
        "\n",
        "features_v = df[features]\n",
        "pred_v = df[pred]\n",
        "\n",
        "pd.options.mode.chained_assignment = None  # default='warn'\n",
        "\n",
        "# carrier is not a number, so transform it into an number\n",
        "features_v['carrier'] = pd.factorize(features_v['carrier'])[0]\n",
        "\n",
        "# dest is not a number, so transform it into a number\n",
        "features_v['dest'] = pd.factorize(features_v['dest'])[0]\n",
        "\n"
      ],
      "execution_count": 0,
      "outputs": []
    },
    {
      "metadata": {
        "scrolled": true,
        "id": "V7dfMNy9RZId",
        "colab_type": "code",
        "colab": {}
      },
      "cell_type": "code",
      "source": [
        "# Let's look at our feature vector\n",
        "\n",
        "features_v"
      ],
      "execution_count": 0,
      "outputs": []
    },
    {
      "metadata": {
        "id": "FvaBHXcwRZIh",
        "colab_type": "text"
      },
      "cell_type": "markdown",
      "source": [
        "### Scaling the feature vector\n",
        "\n",
        "Let's scale the feature vector.\n",
        "\n",
        "First the standard scaler substracts by the mean and divides by std.  Let's try that ourselves and see if that looks right."
      ]
    },
    {
      "metadata": {
        "scrolled": true,
        "id": "ijjfBA9BRZIi",
        "colab_type": "code",
        "colab": {}
      },
      "cell_type": "code",
      "source": [
        "scaled_v = (features_v - features_v.mean()) / features_v.std()\n",
        "scaled_v"
      ],
      "execution_count": 0,
      "outputs": []
    },
    {
      "metadata": {
        "id": "C1Q43rWERZIn",
        "colab_type": "text"
      },
      "cell_type": "markdown",
      "source": [
        "### Let's apply that transformation with scikit-learn"
      ]
    },
    {
      "metadata": {
        "id": "fVeOSAsERZIp",
        "colab_type": "code",
        "colab": {}
      },
      "cell_type": "code",
      "source": [
        "# Notice how the magnitude of the dimensions is wildly different. Let's try scaling\n",
        "scaler = StandardScaler()\n",
        "scaled_features = scaler.fit_transform(features_v)\n",
        "scaled_features\n",
        "\n"
      ],
      "execution_count": 0,
      "outputs": []
    },
    {
      "metadata": {
        "id": "gogPJgB4RZIs",
        "colab_type": "text"
      },
      "cell_type": "markdown",
      "source": [
        "### Reducing Dimensions\n",
        "\n",
        "Let's use PCA to reduce dimensions down to two."
      ]
    },
    {
      "metadata": {
        "id": "gpcI1c12RZIt",
        "colab_type": "code",
        "outputId": "f7d131be-8440-40bc-9c47-1dac752101c7",
        "colab": {
          "base_uri": "https://localhost:8080/",
          "height": 198
        }
      },
      "cell_type": "code",
      "source": [
        "from sklearn.decomposition import PCA\n",
        "\n",
        "pca = PCA(n_components=2)\n",
        "X_r = pca.fit(scaled_features).transform(scaled_features)"
      ],
      "execution_count": 0,
      "outputs": [
        {
          "output_type": "error",
          "ename": "NameError",
          "evalue": "ignored",
          "traceback": [
            "\u001b[0;31m---------------------------------------------------------------------------\u001b[0m",
            "\u001b[0;31mNameError\u001b[0m                                 Traceback (most recent call last)",
            "\u001b[0;32m<ipython-input-2-fc0190fa5c97>\u001b[0m in \u001b[0;36m<module>\u001b[0;34m()\u001b[0m\n\u001b[1;32m      2\u001b[0m \u001b[0;34m\u001b[0m\u001b[0m\n\u001b[1;32m      3\u001b[0m \u001b[0mpca\u001b[0m \u001b[0;34m=\u001b[0m \u001b[0mPCA\u001b[0m\u001b[0;34m(\u001b[0m\u001b[0mn_components\u001b[0m\u001b[0;34m=\u001b[0m\u001b[0;36m2\u001b[0m\u001b[0;34m)\u001b[0m\u001b[0;34m\u001b[0m\u001b[0;34m\u001b[0m\u001b[0m\n\u001b[0;32m----> 4\u001b[0;31m \u001b[0mX_r\u001b[0m \u001b[0;34m=\u001b[0m \u001b[0mpca\u001b[0m\u001b[0;34m.\u001b[0m\u001b[0mfit\u001b[0m\u001b[0;34m(\u001b[0m\u001b[0mscaled_features\u001b[0m\u001b[0;34m)\u001b[0m\u001b[0;34m.\u001b[0m\u001b[0mtransform\u001b[0m\u001b[0;34m(\u001b[0m\u001b[0mscaled_features\u001b[0m\u001b[0;34m)\u001b[0m\u001b[0;34m\u001b[0m\u001b[0;34m\u001b[0m\u001b[0m\n\u001b[0m",
            "\u001b[0;31mNameError\u001b[0m: name 'scaled_features' is not defined"
          ]
        }
      ]
    },
    {
      "metadata": {
        "scrolled": true,
        "id": "w6AW72pERZIx",
        "colab_type": "code",
        "colab": {}
      },
      "cell_type": "code",
      "source": [
        "X_r"
      ],
      "execution_count": 0,
      "outputs": []
    },
    {
      "metadata": {
        "id": "3N-e1mDzRZI1",
        "colab_type": "text"
      },
      "cell_type": "markdown",
      "source": [
        "Let's examine the components of the two dimensions:"
      ]
    },
    {
      "metadata": {
        "id": "aho3_Do7RZI2",
        "colab_type": "code",
        "colab": {}
      },
      "cell_type": "code",
      "source": [
        "# The components are the two axes of the projected back into the original features space.\n",
        "# We can use these to calculate the relative components of the original features in our \n",
        "# new features.\n",
        "\n",
        "pca.components_"
      ],
      "execution_count": 0,
      "outputs": []
    },
    {
      "metadata": {
        "id": "ophFqzkQRZI6",
        "colab_type": "code",
        "colab": {}
      },
      "cell_type": "code",
      "source": [
        "# Let's get the top components of PC1:\n",
        "print(\"top components of PC1:\")\n",
        "\n",
        "\n",
        "rel_values = np.abs(pca.components_[0])/np.sum(np.abs(pca.components_[0]))\n",
        "print(\"Feature Names: \" + str([features[i] for i in np.argsort(-rel_values)[:3]]))\n",
        "print(\"Percentages: \" + str(rel_values[np.argsort(-rel_values)[:3]]))"
      ],
      "execution_count": 0,
      "outputs": []
    },
    {
      "metadata": {
        "id": "PdBP40kkRZI9",
        "colab_type": "text"
      },
      "cell_type": "markdown",
      "source": [
        "Roughly about 75% of the variance of PC1 is explained by distance, air time, and longtitude.  These variables roughtly correspond to how long the flight is (as longitude will increase as we fly west from NYC)"
      ]
    },
    {
      "metadata": {
        "scrolled": false,
        "id": "dPrLkQd8RZI-",
        "colab_type": "code",
        "colab": {}
      },
      "cell_type": "code",
      "source": [
        "# Let's get the top components of PC2:\n",
        "print(\"top components of PC2:\")\n",
        "\n",
        "rel_values_pc2 = np.abs(pca.components_[1])/np.sum(np.abs(pca.components_[1]))\n",
        "print(\"Feature Names: \" + str([features[i] for i in np.argsort(-rel_values_pc2)[:6]]))\n",
        "print(\"Percentages: \" + str(rel_values_pc2[np.argsort(-rel_values_pc2)[:6]]))"
      ],
      "execution_count": 0,
      "outputs": []
    },
    {
      "metadata": {
        "id": "5QzYvQygRZJB",
        "colab_type": "text"
      },
      "cell_type": "markdown",
      "source": [
        "Here, we have about half the variance is explained by the weather variables humidity, wind_speed, wind_guest, and dewpoint.  dep_time and arr_time together give us about 25% more."
      ]
    },
    {
      "metadata": {
        "id": "sNFYRiTDRZJC",
        "colab_type": "text"
      },
      "cell_type": "markdown",
      "source": [
        "What is the explained variance of the data?\n"
      ]
    },
    {
      "metadata": {
        "id": "2NGoO84vRZJC",
        "colab_type": "code",
        "colab": {}
      },
      "cell_type": "code",
      "source": [
        "# Percentage of variance explained for each components\n",
        "print('explained variance ratio (first two components): %s'\n",
        "      % str(pca.explained_variance_ratio_))\n",
        "\n"
      ],
      "execution_count": 0,
      "outputs": []
    },
    {
      "metadata": {
        "id": "qbfNBMjhRZJF",
        "colab_type": "text"
      },
      "cell_type": "markdown",
      "source": [
        "This means only about a third  of the data is explained by the two dimensions. Reducing dimensions was useful for plotting but not good as a way of capturing most of the signal."
      ]
    },
    {
      "metadata": {
        "id": "vLbJRFfDRZJG",
        "colab_type": "text"
      },
      "cell_type": "markdown",
      "source": [
        "# Plotting\n",
        "\n",
        "Let's do a quick plot of the data. Because we have many dimensions and we want a 2-D plot, we need to reduce dimensions down to 2.  We can do this with PCA, which will reduce the dimensions to only two by combining redundant features into two principal components.\n"
      ]
    },
    {
      "metadata": {
        "scrolled": true,
        "id": "H92E_AlBRZJH",
        "colab_type": "code",
        "outputId": "6ba13c56-d42f-422c-9889-7bbbf504231a",
        "colab": {
          "base_uri": "https://localhost:8080/",
          "height": 498
        }
      },
      "cell_type": "code",
      "source": [
        "import matplotlib.pyplot as plt\n",
        "\n",
        "\n",
        "\n",
        "plt.figure()\n",
        "lw = 2\n",
        "\n",
        "plt.xlabel(\"PC1: (Dist, Air Time, Longitude)\")\n",
        "plt.ylabel(\"PC2: (weather vars)\")\n",
        "\n",
        "\n",
        "plt.scatter(X_r[:,0], X_r[:,1], alpha=.8, lw=lw)\n",
        "plt.title('PCA of flights dataset')\n",
        "\n"
      ],
      "execution_count": 0,
      "outputs": [
        {
          "output_type": "error",
          "ename": "NameError",
          "evalue": "ignored",
          "traceback": [
            "\u001b[0;31m---------------------------------------------------------------------------\u001b[0m",
            "\u001b[0;31mNameError\u001b[0m                                 Traceback (most recent call last)",
            "\u001b[0;32m<ipython-input-3-7eaf9dd03679>\u001b[0m in \u001b[0;36m<module>\u001b[0;34m()\u001b[0m\n\u001b[1;32m     10\u001b[0m \u001b[0;34m\u001b[0m\u001b[0m\n\u001b[1;32m     11\u001b[0m \u001b[0;34m\u001b[0m\u001b[0m\n\u001b[0;32m---> 12\u001b[0;31m \u001b[0mplt\u001b[0m\u001b[0;34m.\u001b[0m\u001b[0mscatter\u001b[0m\u001b[0;34m(\u001b[0m\u001b[0mX_r\u001b[0m\u001b[0;34m[\u001b[0m\u001b[0;34m:\u001b[0m\u001b[0;34m,\u001b[0m\u001b[0;36m0\u001b[0m\u001b[0;34m]\u001b[0m\u001b[0;34m,\u001b[0m \u001b[0mX_r\u001b[0m\u001b[0;34m[\u001b[0m\u001b[0;34m:\u001b[0m\u001b[0;34m,\u001b[0m\u001b[0;36m1\u001b[0m\u001b[0;34m]\u001b[0m\u001b[0;34m,\u001b[0m \u001b[0malpha\u001b[0m\u001b[0;34m=\u001b[0m\u001b[0;36m.8\u001b[0m\u001b[0;34m,\u001b[0m \u001b[0mlw\u001b[0m\u001b[0;34m=\u001b[0m\u001b[0mlw\u001b[0m\u001b[0;34m)\u001b[0m\u001b[0;34m\u001b[0m\u001b[0;34m\u001b[0m\u001b[0m\n\u001b[0m\u001b[1;32m     13\u001b[0m \u001b[0mplt\u001b[0m\u001b[0;34m.\u001b[0m\u001b[0mtitle\u001b[0m\u001b[0;34m(\u001b[0m\u001b[0;34m'PCA of flights dataset'\u001b[0m\u001b[0;34m)\u001b[0m\u001b[0;34m\u001b[0m\u001b[0;34m\u001b[0m\u001b[0m\n\u001b[1;32m     14\u001b[0m \u001b[0;34m\u001b[0m\u001b[0m\n",
            "\u001b[0;31mNameError\u001b[0m: name 'X_r' is not defined"
          ]
        },
        {
          "output_type": "display_data",
          "data": {
            "image/png": "[encoded data removed]",
            "text/plain": [
              "<Figure size 432x288 with 1 Axes>"
            ]
          },
          "metadata": {
            "tags": []
          }
        }
      ]
    },
    {
      "metadata": {
        "collapsed": true,
        "id": "Tkz2a8lERZJS",
        "colab_type": "text"
      },
      "cell_type": "markdown",
      "source": [
        "How to interpret these clusters? \n",
        "\n",
        "The X axis (PC1), remember, largely is based on the length of the flight.  It ranges in certain bounds, because these are domestic flights. One can only fly so far in a domestic flight.  The outlier section on the far right likely consists of Alaska, Hawaii, and other flights that are abnormally long for  being domestic flights.\n",
        "\n",
        "The Y Axis (PC2), is largely based on weather related variables. Note the large number of small \"outlier\" clusters on the top. These are likely a result of abnormal weather conditions.\n"
      ]
    },
    {
      "metadata": {
        "id": "PVbgFmaCRZJT",
        "colab_type": "text"
      },
      "cell_type": "markdown",
      "source": [
        "### Biplot\n",
        "\n",
        "A biplot will plot both the points and the original feature vectors on the same axis, so you can visualize roughly how the original features are projected to the dimensionality \n",
        "reduced data."
      ]
    },
    {
      "metadata": {
        "scrolled": false,
        "id": "3cW1J86TRZJV",
        "colab_type": "code",
        "colab": {}
      },
      "cell_type": "code",
      "source": [
        "def biplot(score,coeff,y,labels=None):\n",
        "    plt.rcParams['figure.figsize'] = [15, 10]\n",
        "    xs = score[:,0]\n",
        "    ys = score[:,1]\n",
        "    n = coeff.shape[0]\n",
        "    scalex = 1.0/(xs.max() - xs.min())\n",
        "    scaley = 1.0/(ys.max() - ys.min())\n",
        "    plt.scatter(xs * scalex,ys * scaley, c = y)\n",
        "    for i in range(n):\n",
        "        plt.arrow(0, 0, coeff[i,0], coeff[i,1],color = 'r',alpha = 0.5)\n",
        "        if labels is None:\n",
        "            plt.text(coeff[i,0]* 1.15, coeff[i,1] * 1.15, \"Var\"+str(i+1), color = 'g', ha = 'center', va = 'center')\n",
        "        else:\n",
        "            plt.text(coeff[i,0]* 1.15, coeff[i,1] * 1.15, labels[i], color = 'g', ha = 'center', va = 'center')\n",
        "    plt.xlim(-0.8,0.7)\n",
        "    plt.ylim(-0.6,0.5)\n",
        "    plt.xlabel(\"PC{}\".format(1))\n",
        "    plt.ylabel(\"PC{}\".format(2))\n",
        "    plt.grid()\n",
        "    \n",
        "# Let's do a biplot of a PCA = 2 dimensions\n",
        "biplot(X_r[:,0:2],np.transpose(pca.components_[0:2, :]),pred_v,labels=features)"
      ],
      "execution_count": 0,
      "outputs": []
    },
    {
      "metadata": {
        "id": "ph25sEcKRZJd",
        "colab_type": "code",
        "colab": {}
      },
      "cell_type": "code",
      "source": [
        ""
      ],
      "execution_count": 0,
      "outputs": []
    }
  ]
}