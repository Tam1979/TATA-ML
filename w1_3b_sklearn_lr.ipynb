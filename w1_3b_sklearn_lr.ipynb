{
  "nbformat": 4,
  "nbformat_minor": 0,
  "metadata": {
    "colab": {
      "name": "w1-3b-sklearn-lr.ipynb",
      "version": "0.3.2",
      "provenance": []
    },
    "kernelspec": {
      "display_name": "Python 3",
      "language": "python",
      "name": "python3"
    }
  },
  "cells": [
    {
      "metadata": {
        "id": "c0ATRi8ehK7e",
        "colab_type": "text"
      },
      "cell_type": "markdown",
      "source": [
        "<link rel='stylesheet' href='../assets/css/main.css'/>\n",
        "\n",
        "[<< back to main index](../README.md)\n",
        "\n",
        "# Linear Regression in Sklearn \n",
        "\n",
        "### Overview\n",
        "Instructor to demo this on screen.\n",
        " \n",
        "### Builds on\n",
        "None\n",
        "\n",
        "### Run time\n",
        "approx. 20-30 minutes\n",
        "\n",
        "### Notes\n",
        "\n",
        "sklearn has a class called Linear Regression that can be used to do simple linear regression models."
      ]
    },
    {
      "metadata": {
        "id": "u6PAPlHohK7f",
        "colab_type": "code",
        "colab": {}
      },
      "cell_type": "code",
      "source": [
        "%matplotlib inline\n",
        "\n",
        "import numpy as np\n",
        "import pandas as pd\n",
        "import statsmodels.formula.api as sm\n",
        "import matplotlib.pyplot as plt\n",
        "from sklearn import linear_model\n",
        "from sklearn.metrics import mean_squared_error, r2_score\n"
      ],
      "execution_count": 0,
      "outputs": []
    },
    {
      "metadata": {
        "id": "-jk05ud6hK7k",
        "colab_type": "text"
      },
      "cell_type": "markdown",
      "source": [
        "## Example : Tips\n",
        "Here is our tip data.  This shows 10 observations of bill with tip amounts."
      ]
    },
    {
      "metadata": {
        "id": "l5V1jQQYhK7l",
        "colab_type": "text"
      },
      "cell_type": "markdown",
      "source": [
        "| bill | tip | \n",
        "|------|-----| \n",
        "| 50   | 12  | \n",
        "| 30   | 7   | \n",
        "| 60   | 13  | \n",
        "| 40   | 8   | \n",
        "| 65   | 15  | \n",
        "| 20   | 5   | \n",
        "| 10   | 2   | \n",
        "| 15   | 2   | \n",
        "| 25   | 3   | \n",
        "| 35   | 4   | "
      ]
    },
    {
      "metadata": {
        "id": "d0Ub6AcWhK7m",
        "colab_type": "text"
      },
      "cell_type": "markdown",
      "source": [
        "## Step 1: Let's create a Pandas dataframe with the data\n"
      ]
    },
    {
      "metadata": {
        "attributes": {
          "classes": [
            "R"
          ],
          "id": ""
        },
        "id": "RIp3Q5NShK7n",
        "colab_type": "code",
        "colab": {
          "base_uri": "https://localhost:8080/",
          "height": 359
        },
        "outputId": "b67134bd-6b51-40c1-cc0c-cbc1f0ddfdee"
      },
      "cell_type": "code",
      "source": [
        "tip_data = pd.DataFrame({'bill' : [50.00, 30.00, 60.00, 40.00, 65.00, 20.00, 10.00, 15.00, 25.00, 35.00],\n",
        "              'tip' : [12.00, 7.00, 13.00, 8.00, 15.00, 5.00, 2.00, 2.00, 3.00, 4.00]\n",
        "             })\n",
        "\n",
        "tip_data\n"
      ],
      "execution_count": 2,
      "outputs": [
        {
          "output_type": "execute_result",
          "data": {
            "text/html": [
              "<div>\n",
              "<style scoped>\n",
              "    .dataframe tbody tr th:only-of-type {\n",
              "        vertical-align: middle;\n",
              "    }\n",
              "\n",
              "    .dataframe tbody tr th {\n",
              "        vertical-align: top;\n",
              "    }\n",
              "\n",
              "    .dataframe thead th {\n",
              "        text-align: right;\n",
              "    }\n",
              "</style>\n",
              "<table border=\"1\" class=\"dataframe\">\n",
              "  <thead>\n",
              "    <tr style=\"text-align: right;\">\n",
              "      <th></th>\n",
              "      <th>bill</th>\n",
              "      <th>tip</th>\n",
              "    </tr>\n",
              "  </thead>\n",
              "  <tbody>\n",
              "    <tr>\n",
              "      <th>0</th>\n",
              "      <td>50.0</td>\n",
              "      <td>12.0</td>\n",
              "    </tr>\n",
              "    <tr>\n",
              "      <th>1</th>\n",
              "      <td>30.0</td>\n",
              "      <td>7.0</td>\n",
              "    </tr>\n",
              "    <tr>\n",
              "      <th>2</th>\n",
              "      <td>60.0</td>\n",
              "      <td>13.0</td>\n",
              "    </tr>\n",
              "    <tr>\n",
              "      <th>3</th>\n",
              "      <td>40.0</td>\n",
              "      <td>8.0</td>\n",
              "    </tr>\n",
              "    <tr>\n",
              "      <th>4</th>\n",
              "      <td>65.0</td>\n",
              "      <td>15.0</td>\n",
              "    </tr>\n",
              "    <tr>\n",
              "      <th>5</th>\n",
              "      <td>20.0</td>\n",
              "      <td>5.0</td>\n",
              "    </tr>\n",
              "    <tr>\n",
              "      <th>6</th>\n",
              "      <td>10.0</td>\n",
              "      <td>2.0</td>\n",
              "    </tr>\n",
              "    <tr>\n",
              "      <th>7</th>\n",
              "      <td>15.0</td>\n",
              "      <td>2.0</td>\n",
              "    </tr>\n",
              "    <tr>\n",
              "      <th>8</th>\n",
              "      <td>25.0</td>\n",
              "      <td>3.0</td>\n",
              "    </tr>\n",
              "    <tr>\n",
              "      <th>9</th>\n",
              "      <td>35.0</td>\n",
              "      <td>4.0</td>\n",
              "    </tr>\n",
              "  </tbody>\n",
              "</table>\n",
              "</div>"
            ],
            "text/plain": [
              "   bill   tip\n",
              "0  50.0  12.0\n",
              "1  30.0   7.0\n",
              "2  60.0  13.0\n",
              "3  40.0   8.0\n",
              "4  65.0  15.0\n",
              "5  20.0   5.0\n",
              "6  10.0   2.0\n",
              "7  15.0   2.0\n",
              "8  25.0   3.0\n",
              "9  35.0   4.0"
            ]
          },
          "metadata": {
            "tags": []
          },
          "execution_count": 2
        }
      ]
    },
    {
      "metadata": {
        "id": "TeVMISmxhK7s",
        "colab_type": "text"
      },
      "cell_type": "markdown",
      "source": [
        "## Step 2: Let's do a quick plot of the data\n",
        "\n",
        "Let us use matplotlib to do a quick scatter plot of the data.\n",
        "\n",
        "**=>TODO: plot the bill (X-axis), versus the tip (Y-axis)**"
      ]
    },
    {
      "metadata": {
        "id": "kfafs4LfhK7t",
        "colab_type": "code",
        "colab": {
          "base_uri": "https://localhost:8080/",
          "height": 279
        },
        "outputId": "b5b820a2-c38f-4f78-ff38-8ded10944513"
      },
      "cell_type": "code",
      "source": [
        "plt.scatter(tip_data.bill, tip_data.tip)\n",
        "plt.ylabel('tip')\n",
        "plt.xlabel('bill')\n",
        "plt.show()"
      ],
      "execution_count": 3,
      "outputs": [
        {
          "output_type": "display_data",
          "data": {
            "image/png": "[encoded data removed]",
            "text/plain": [
              "<Figure size 432x288 with 1 Axes>"
            ]
          },
          "metadata": {
            "tags": []
          }
        }
      ]
    },
    {
      "metadata": {
        "id": "lGYOn7xchK7w",
        "colab_type": "text"
      },
      "cell_type": "markdown",
      "source": [
        "\n",
        "## Step 3: Run Linear Regression in Sklearn\n",
        "\n",
        "Let's run our linear regression.  To do this we need to run call the LinearRegression Classs"
      ]
    },
    {
      "metadata": {
        "attributes": {
          "classes": [
            "R"
          ],
          "id": ""
        },
        "id": "S8tZQTb8hK7x",
        "colab_type": "code",
        "colab": {
          "base_uri": "https://localhost:8080/",
          "height": 51
        },
        "outputId": "35d71970-ea96-4a90-bee0-ebc8c3e910e3"
      },
      "cell_type": "code",
      "source": [
        "# Create linear regression object\n",
        "regr = linear_model.LinearRegression()\n",
        "\n",
        "# Train the model using the training sets\n",
        "regr.fit(tip_data.bill.values.reshape(10,1), tip_data.tip.values.reshape(10,1))\n",
        "\n",
        "                  \n",
        "# The coefficients\n",
        "print('Coefficients: \\n', regr.coef_)\n",
        "\n",
        "intercept = regr.intercept_  # This is the intercept\n",
        "slope = regr.coef_[0] #This is the slope"
      ],
      "execution_count": 4,
      "outputs": [
        {
          "output_type": "stream",
          "text": [
            "Coefficients: \n",
            " [[0.24285714]]\n"
          ],
          "name": "stdout"
        }
      ]
    },
    {
      "metadata": {
        "scrolled": true,
        "id": "TkpzXmlBhK71",
        "colab_type": "code",
        "colab": {
          "base_uri": "https://localhost:8080/",
          "height": 204
        },
        "outputId": "d16c8a78-e920-489e-8efe-ee71efc50220"
      },
      "cell_type": "code",
      "source": [
        "tip_data.tip"
      ],
      "execution_count": 5,
      "outputs": [
        {
          "output_type": "execute_result",
          "data": {
            "text/plain": [
              "0    12.0\n",
              "1     7.0\n",
              "2    13.0\n",
              "3     8.0\n",
              "4    15.0\n",
              "5     5.0\n",
              "6     2.0\n",
              "7     2.0\n",
              "8     3.0\n",
              "9     4.0\n",
              "Name: tip, dtype: float64"
            ]
          },
          "metadata": {
            "tags": []
          },
          "execution_count": 5
        }
      ]
    },
    {
      "metadata": {
        "id": "rzsD8Uz-hK74",
        "colab_type": "text"
      },
      "cell_type": "markdown",
      "source": [
        "## Step 7: Plot the fit line (abline)\n",
        "\n",
        "**=>TODO: Do a scatterplot of bill versus tip **\n",
        "**=>TODO: rename variable \"tip\" as \"label\" **"
      ]
    },
    {
      "metadata": {
        "id": "Ab3Nhq2GhK76",
        "colab_type": "code",
        "colab": {
          "base_uri": "https://localhost:8080/",
          "height": 294
        },
        "outputId": "cd2ffe83-a581-48da-8e41-adaba1498fb3"
      },
      "cell_type": "code",
      "source": [
        "# Create a list of values in the best fit line\n",
        "abline_values = [slope * i + intercept for i in tip_data.bill]\n",
        "\n",
        "# Plot the best fit line over the actual values\n",
        "plt.scatter(tip_data.bill, tip_data.tip)\n",
        "plt.plot(tip_data.bill, abline_values, 'b')\n",
        "plt.ylabel('tip')\n",
        "plt.xlabel('bill')\n",
        "plt.title(\"Fit Line\")\n",
        "plt.show()"
      ],
      "execution_count": 6,
      "outputs": [
        {
          "output_type": "display_data",
          "data": {
            "image/png": "[encoded data removed]",
            "text/plain": [
              "<Figure size 432x288 with 1 Axes>"
            ]
          },
          "metadata": {
            "tags": []
          }
        }
      ]
    },
    {
      "metadata": {
        "id": "MkUzWz6HhK7-",
        "colab_type": "code",
        "colab": {
          "base_uri": "https://localhost:8080/",
          "height": 153
        },
        "outputId": "ab641d72-4c40-43ca-a8c2-9f076242526c"
      },
      "cell_type": "code",
      "source": [
        "# Make predictions using the testing set\n",
        "y_pred = regr.predict(tip_data.bill.values.reshape(10,1))\n",
        "y_test = tip_data.tip.values.reshape(10,1)\n",
        "\n",
        "# The coefficients\n",
        "print('Coefficients: \\n', regr.coef_)\n",
        "# The mean squared error\n",
        "print(\"Mean squared error: %.2f\"\n",
        "      % mean_squared_error(y_test, y_pred))\n",
        "# Explained variance score: 1 is perfect prediction\n",
        "print('Variance score: %.2f' % r2_score(y_test, y_pred))\n",
        "\n",
        "\n",
        "# The coefficients\n",
        "print('Coefficients: \\n', regr.coef_)\n",
        "# The mean squared error\n",
        "print(\"Mean squared error: %.2f\"\n",
        "      % mean_squared_error(y_test, y_pred))\n",
        "# Explained variance score: 1 is perfect prediction\n",
        "print('Variance score: %.2f' % r2_score(y_test, y_pred))\n"
      ],
      "execution_count": 7,
      "outputs": [
        {
          "output_type": "stream",
          "text": [
            "Coefficients: \n",
            " [[0.24285714]]\n",
            "Mean squared error: 1.91\n",
            "Variance score: 0.91\n",
            "Coefficients: \n",
            " [[0.24285714]]\n",
            "Mean squared error: 1.91\n",
            "Variance score: 0.91\n"
          ],
          "name": "stdout"
        }
      ]
    },
    {
      "metadata": {
        "id": "AAj3voEqhK8B",
        "colab_type": "text"
      },
      "cell_type": "markdown",
      "source": [
        "## Step 8: Print out the Outputs\n",
        "\n",
        "Here is a sample output:"
      ]
    },
    {
      "metadata": {
        "id": "u89dZ-QehK8C",
        "colab_type": "text"
      },
      "cell_type": "markdown",
      "source": [
        "## Step 9: Plot the residuals\n",
        "\n",
        "Residuals are the error, or difference between the model predicted and model actual.  We'd like these to be as small as possible, with residuals roughly balanced.   We don't want a model that consistently predicts values too high or too low.\n",
        "\n",
        "**=>TODO: do a plot of the bill (x-value) versus residuals (y-value) **"
      ]
    },
    {
      "metadata": {
        "id": "KLACEyGhhK8D",
        "colab_type": "code",
        "colab": {}
      },
      "cell_type": "code",
      "source": [
        "resid = (slope * tip_data.bill + intercept) - tip_data.tip"
      ],
      "execution_count": 0,
      "outputs": []
    },
    {
      "metadata": {
        "id": "Im961R8QhK8H",
        "colab_type": "code",
        "colab": {
          "base_uri": "https://localhost:8080/",
          "height": 294
        },
        "outputId": "77b81e78-4676-47db-c435-984a4f93b22a"
      },
      "cell_type": "code",
      "source": [
        "plt.scatter(tip_data.bill, resid)\n",
        "plt.axhline(y=0, color='r', linestyle='-')  # horizon\n",
        "plt.ylabel('Residuals')\n",
        "plt.xlabel('bill')\n",
        "plt.title(\"Residuals\")\n",
        "plt.show()\n",
        "\n",
        "\n"
      ],
      "execution_count": 9,
      "outputs": [
        {
          "output_type": "display_data",
          "data": {
            "image/png": "[encoded data removed]",
            "text/plain": [
              "<Figure size 432x288 with 1 Axes>"
            ]
          },
          "metadata": {
            "tags": []
          }
        }
      ]
    },
    {
      "metadata": {
        "id": "ScmDNn50hK8K",
        "colab_type": "text"
      },
      "cell_type": "markdown",
      "source": [
        "## Step 10 : Identify Coefficients\n",
        "\n",
        "### Intercept and Slope\n",
        "We can see them from output"
      ]
    },
    {
      "metadata": {
        "attributes": {
          "classes": [
            "console"
          ],
          "id": ""
        },
        "collapsed": true,
        "id": "lWecLtEShK8M",
        "colab_type": "text"
      },
      "cell_type": "markdown",
      "source": [
        "Coefficients:\n",
        "            Estimate \n",
        "(Intercept) -0.8217112049846651\n",
        "bill        0.226334605857"
      ]
    },
    {
      "metadata": {
        "id": "h7lSPl6ohK8N",
        "colab_type": "text"
      },
      "cell_type": "markdown",
      "source": [
        "- **Slope** (of line) : ** 0.226334605857**\n",
        "- **Intercept** (where line meets Y-axis) : **-0.8217112049846651**  (below zero line)\n",
        "\n",
        "We can also get these programatically.  \n",
        "If `tip = a * amount + b`"
      ]
    },
    {
      "metadata": {
        "attributes": {
          "classes": [
            "R"
          ],
          "id": ""
        },
        "id": "p6ZCtrcChK8O",
        "colab_type": "code",
        "colab": {
          "base_uri": "https://localhost:8080/",
          "height": 51
        },
        "outputId": "a96dc9fb-22a8-483d-ff79-543f20495842"
      },
      "cell_type": "code",
      "source": [
        "\n",
        "intercept = regr.intercept_  # This is the intercept\n",
        "slope = regr.coef_[0] #This is the slope\n",
        "\n",
        "# Print the coefficients and intercept for linear regression\n",
        "print(\"Coefficients: %s\" % str(slope))\n",
        "print(\"Intercept: %s\" % str(intercept))\n",
        "\n",
        "a = slope\n",
        "b = intercept\n"
      ],
      "execution_count": 10,
      "outputs": [
        {
          "output_type": "stream",
          "text": [
            "Coefficients: [0.24285714]\n",
            "Intercept: [-1.4]\n"
          ],
          "name": "stdout"
        }
      ]
    },
    {
      "metadata": {
        "id": "lPhYI0eahK8U",
        "colab_type": "text"
      },
      "cell_type": "markdown",
      "source": [
        "**==>  Question : Does bill amount influence tip amount? (are they strongly linked?) **\n",
        "\n",
        "\n",
        "## Coefficient of Determination (r&sup2;)"
      ]
    },
    {
      "metadata": {
        "attributes": {
          "classes": [
            "R"
          ],
          "id": ""
        },
        "id": "Va0ryIG_hK8V",
        "colab_type": "code",
        "colab": {
          "base_uri": "https://localhost:8080/",
          "height": 34
        },
        "outputId": "0d1e1f9b-896b-4d26-b395-469e7853f168"
      },
      "cell_type": "code",
      "source": [
        "# coefficient.of.determination (r^2) \n",
        "rsquared = r2_score(y_test, y_pred)\n",
        "rsquared"
      ],
      "execution_count": 11,
      "outputs": [
        {
          "output_type": "execute_result",
          "data": {
            "text/plain": [
              "0.9067140765530224"
            ]
          },
          "metadata": {
            "tags": []
          },
          "execution_count": 11
        }
      ]
    },
    {
      "metadata": {
        "id": "7NgFmStbhK8a",
        "colab_type": "text"
      },
      "cell_type": "markdown",
      "source": [
        "**==>  Question : What does r&sup2; tells us? **\n",
        "\n",
        "## Step 11: Calculate tip for $100 bill\n",
        "\n",
        "**=>TODO: perform the calculation for tip_for_100 using a,b coefficients **"
      ]
    },
    {
      "metadata": {
        "attributes": {
          "classes": [
            "R"
          ],
          "id": ""
        },
        "id": "ecgJs6EUhK8c",
        "colab_type": "code",
        "colab": {
          "base_uri": "https://localhost:8080/",
          "height": 34
        },
        "outputId": "2178e7f8-7abc-4e91-bbc5-0d3a7a56c7fe"
      },
      "cell_type": "code",
      "source": [
        "tip_for_100 = a * 100 + b   \n",
        "print(tip_for_100)\n"
      ],
      "execution_count": 12,
      "outputs": [
        {
          "output_type": "stream",
          "text": [
            "[22.88571429]\n"
          ],
          "name": "stdout"
        }
      ]
    },
    {
      "metadata": {
        "id": "XvQ-Fa_khK8h",
        "colab_type": "text"
      },
      "cell_type": "markdown",
      "source": [
        "## Step 12: Add a estimated_tip column to pandas dataframe\n",
        "\n",
        "**=>TODO: create a new pandas column called est_tip **"
      ]
    },
    {
      "metadata": {
        "attributes": {
          "classes": [
            "R"
          ],
          "id": ""
        },
        "id": "DoiMfvYThK8h",
        "colab_type": "code",
        "colab": {
          "base_uri": "https://localhost:8080/",
          "height": 359
        },
        "outputId": "8e813d57-42a0-4a78-e170-fd26c4841e38"
      },
      "cell_type": "code",
      "source": [
        "tip_data['est_tip'] =  100 # How to do this?\n",
        "\n",
        "tip_data['est_tip'] = regr.predict(tip_data.bill.values.reshape(10,1)) #Another way to do it\n",
        "tip_data"
      ],
      "execution_count": 14,
      "outputs": [
        {
          "output_type": "execute_result",
          "data": {
            "text/html": [
              "<div>\n",
              "<style scoped>\n",
              "    .dataframe tbody tr th:only-of-type {\n",
              "        vertical-align: middle;\n",
              "    }\n",
              "\n",
              "    .dataframe tbody tr th {\n",
              "        vertical-align: top;\n",
              "    }\n",
              "\n",
              "    .dataframe thead th {\n",
              "        text-align: right;\n",
              "    }\n",
              "</style>\n",
              "<table border=\"1\" class=\"dataframe\">\n",
              "  <thead>\n",
              "    <tr style=\"text-align: right;\">\n",
              "      <th></th>\n",
              "      <th>bill</th>\n",
              "      <th>tip</th>\n",
              "      <th>est_tip</th>\n",
              "    </tr>\n",
              "  </thead>\n",
              "  <tbody>\n",
              "    <tr>\n",
              "      <th>0</th>\n",
              "      <td>50.0</td>\n",
              "      <td>12.0</td>\n",
              "      <td>10.742857</td>\n",
              "    </tr>\n",
              "    <tr>\n",
              "      <th>1</th>\n",
              "      <td>30.0</td>\n",
              "      <td>7.0</td>\n",
              "      <td>5.885714</td>\n",
              "    </tr>\n",
              "    <tr>\n",
              "      <th>2</th>\n",
              "      <td>60.0</td>\n",
              "      <td>13.0</td>\n",
              "      <td>13.171429</td>\n",
              "    </tr>\n",
              "    <tr>\n",
              "      <th>3</th>\n",
              "      <td>40.0</td>\n",
              "      <td>8.0</td>\n",
              "      <td>8.314286</td>\n",
              "    </tr>\n",
              "    <tr>\n",
              "      <th>4</th>\n",
              "      <td>65.0</td>\n",
              "      <td>15.0</td>\n",
              "      <td>14.385714</td>\n",
              "    </tr>\n",
              "    <tr>\n",
              "      <th>5</th>\n",
              "      <td>20.0</td>\n",
              "      <td>5.0</td>\n",
              "      <td>3.457143</td>\n",
              "    </tr>\n",
              "    <tr>\n",
              "      <th>6</th>\n",
              "      <td>10.0</td>\n",
              "      <td>2.0</td>\n",
              "      <td>1.028571</td>\n",
              "    </tr>\n",
              "    <tr>\n",
              "      <th>7</th>\n",
              "      <td>15.0</td>\n",
              "      <td>2.0</td>\n",
              "      <td>2.242857</td>\n",
              "    </tr>\n",
              "    <tr>\n",
              "      <th>8</th>\n",
              "      <td>25.0</td>\n",
              "      <td>3.0</td>\n",
              "      <td>4.671429</td>\n",
              "    </tr>\n",
              "    <tr>\n",
              "      <th>9</th>\n",
              "      <td>35.0</td>\n",
              "      <td>4.0</td>\n",
              "      <td>7.100000</td>\n",
              "    </tr>\n",
              "  </tbody>\n",
              "</table>\n",
              "</div>"
            ],
            "text/plain": [
              "   bill   tip    est_tip\n",
              "0  50.0  12.0  10.742857\n",
              "1  30.0   7.0   5.885714\n",
              "2  60.0  13.0  13.171429\n",
              "3  40.0   8.0   8.314286\n",
              "4  65.0  15.0  14.385714\n",
              "5  20.0   5.0   3.457143\n",
              "6  10.0   2.0   1.028571\n",
              "7  15.0   2.0   2.242857\n",
              "8  25.0   3.0   4.671429\n",
              "9  35.0   4.0   7.100000"
            ]
          },
          "metadata": {
            "tags": []
          },
          "execution_count": 14
        }
      ]
    },
    {
      "metadata": {
        "id": "XYTpPTi1hK8r",
        "colab_type": "text"
      },
      "cell_type": "markdown",
      "source": [
        "## Step 13: Perform a prediction\n",
        "\n",
        "\n",
        "Let's try to run a prediction on some data: $45.00, $55.00, and $65.00 \n",
        "\n",
        "\n",
        "**=>TODO: use model to transform dataframe with feature vectors to make predictions **"
      ]
    },
    {
      "metadata": {
        "id": "xbXTgOHXhK8s",
        "colab_type": "code",
        "colab": {
          "base_uri": "https://localhost:8080/",
          "height": 142
        },
        "outputId": "0f681b1f-62da-4436-df0a-7f6bddd06791"
      },
      "cell_type": "code",
      "source": [
        "test_data_pd = pd.DataFrame({'bill' : [45., 55., 65.,]\n",
        "             })\n",
        "\n",
        "test_data_pd['predicted_tip'] = regr.predict(test_data_pd.bill.values.reshape(3,1))\n",
        "\n",
        "\n",
        "\n",
        "test_data_pd"
      ],
      "execution_count": 15,
      "outputs": [
        {
          "output_type": "execute_result",
          "data": {
            "text/html": [
              "<div>\n",
              "<style scoped>\n",
              "    .dataframe tbody tr th:only-of-type {\n",
              "        vertical-align: middle;\n",
              "    }\n",
              "\n",
              "    .dataframe tbody tr th {\n",
              "        vertical-align: top;\n",
              "    }\n",
              "\n",
              "    .dataframe thead th {\n",
              "        text-align: right;\n",
              "    }\n",
              "</style>\n",
              "<table border=\"1\" class=\"dataframe\">\n",
              "  <thead>\n",
              "    <tr style=\"text-align: right;\">\n",
              "      <th></th>\n",
              "      <th>bill</th>\n",
              "      <th>predicted_tip</th>\n",
              "    </tr>\n",
              "  </thead>\n",
              "  <tbody>\n",
              "    <tr>\n",
              "      <th>0</th>\n",
              "      <td>45.0</td>\n",
              "      <td>9.528571</td>\n",
              "    </tr>\n",
              "    <tr>\n",
              "      <th>1</th>\n",
              "      <td>55.0</td>\n",
              "      <td>11.957143</td>\n",
              "    </tr>\n",
              "    <tr>\n",
              "      <th>2</th>\n",
              "      <td>65.0</td>\n",
              "      <td>14.385714</td>\n",
              "    </tr>\n",
              "  </tbody>\n",
              "</table>\n",
              "</div>"
            ],
            "text/plain": [
              "   bill  predicted_tip\n",
              "0  45.0       9.528571\n",
              "1  55.0      11.957143\n",
              "2  65.0      14.385714"
            ]
          },
          "metadata": {
            "tags": []
          },
          "execution_count": 15
        }
      ]
    },
    {
      "metadata": {
        "id": "GcV487FOhK8u",
        "colab_type": "code",
        "colab": {}
      },
      "cell_type": "code",
      "source": [
        ""
      ],
      "execution_count": 0,
      "outputs": []
    }
  ]
}