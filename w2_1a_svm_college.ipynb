{
  "nbformat": 4,
  "nbformat_minor": 0,
  "metadata": {
    "colab": {
      "name": "w2-1a-svm-college.ipynb",
      "version": "0.3.2",
      "provenance": [],
      "include_colab_link": true
    },
    "kernelspec": {
      "display_name": "Python 3",
      "language": "python",
      "name": "python3"
    }
  },
  "cells": [
    {
      "cell_type": "markdown",
      "metadata": {
        "id": "view-in-github",
        "colab_type": "text"
      },
      "source": [
        "<a href=\"https://colab.research.google.com/github/Tam1979/TATA-ML/blob/master/w2_1a_svm_college.ipynb\" target=\"_parent\"><img src=\"https://colab.research.google.com/assets/colab-badge.svg\" alt=\"Open In Colab\"/></a>"
      ]
    },
    {
      "metadata": {
        "id": "Idz2cLpc9Rw-",
        "colab_type": "text"
      },
      "cell_type": "markdown",
      "source": [
        "# Support Vector Machines: College Admission\n",
        "\n",
        "Let's look at a classification example in scikit-learn.  We looked at the college admission before. We can look again at this dataset.  \n"
      ]
    },
    {
      "metadata": {
        "id": "koWSir0y9sfM",
        "colab_type": "code",
        "colab": {}
      },
      "cell_type": "code",
      "source": [
        ""
      ],
      "execution_count": 0,
      "outputs": []
    },
    {
      "metadata": {
        "id": "b1xPoHuk9tjy",
        "colab_type": "code",
        "colab": {}
      },
      "cell_type": "code",
      "source": [
        ""
      ],
      "execution_count": 0,
      "outputs": []
    },
    {
      "metadata": {
        "id": "zx1oOkhM9sd6",
        "colab_type": "code",
        "colab": {}
      },
      "cell_type": "code",
      "source": [
        ""
      ],
      "execution_count": 0,
      "outputs": []
    },
    {
      "metadata": {
        "id": "z4A4xMFm9sLY",
        "colab_type": "code",
        "colab": {}
      },
      "cell_type": "code",
      "source": [
        ""
      ],
      "execution_count": 0,
      "outputs": []
    },
    {
      "metadata": {
        "id": "Nx15b7kd9RxA",
        "colab_type": "code",
        "colab": {}
      },
      "cell_type": "code",
      "source": [
        "%matplotlib inline\n",
        "import pandas as pd"
      ],
      "execution_count": 0,
      "outputs": []
    },
    {
      "metadata": {
        "id": "7LQUlBkL9RxF",
        "colab_type": "text"
      },
      "cell_type": "markdown",
      "source": [
        "## Step 1: Load the data"
      ]
    },
    {
      "metadata": {
        "id": "dHbdgrng9RxH",
        "colab_type": "code",
        "colab": {}
      },
      "cell_type": "code",
      "source": [
        "dataset = pd.read_csv(\"https://s3.amazonaws.com/elephantscale-public/data/college-admissions/admission-data.csv\")"
      ],
      "execution_count": 0,
      "outputs": []
    },
    {
      "metadata": {
        "id": "Cftpfmoi9RxL",
        "colab_type": "text"
      },
      "cell_type": "markdown",
      "source": [
        "## Step 2: Build the Vector\n",
        "\n",
        "**=> Build the vector with these three columns: gre, gpa, rank ** "
      ]
    },
    {
      "metadata": {
        "scrolled": true,
        "id": "EOYFpMx09RxM",
        "colab_type": "code",
        "colab": {}
      },
      "cell_type": "code",
      "source": [
        "## TODO : input cols : gre, gpa, rank\n",
        "fv = dataset[['gre', 'gpa', 'rank']].values\n",
        "labels = dataset['admit'].values\n"
      ],
      "execution_count": 0,
      "outputs": []
    },
    {
      "metadata": {
        "id": "y2EgDHCY9RxS",
        "colab_type": "text"
      },
      "cell_type": "markdown",
      "source": [
        "## Step 3: Split into training and test.\n",
        "\n",
        "**=> Split into training/test with an 80/20 split ** "
      ]
    },
    {
      "metadata": {
        "scrolled": true,
        "id": "uP4y4kL_9RxT",
        "colab_type": "code",
        "colab": {}
      },
      "cell_type": "code",
      "source": [
        " from sklearn.model_selection import train_test_split\n",
        "## Split into training and test\n",
        "## TODO: create training and test with an 80/20 split\n",
        "X_train, X_test, Y_train, Y_test = train_test_split(dataset[['gre', 'gpa', 'rank']], labels, test_size=0.2)\n",
        "\n",
        "\n",
        "print (\"training set count \", len(X_train))\n",
        "print (\"testing set count \", len(Y_train))"
      ],
      "execution_count": 0,
      "outputs": []
    },
    {
      "metadata": {
        "id": "djuhusIT9RxW",
        "colab_type": "code",
        "outputId": "d52d5a8c-59f8-40a8-9afc-7e0bc59189e9",
        "colab": {
          "base_uri": "https://localhost:8080/",
          "height": 1969
        }
      },
      "cell_type": "code",
      "source": [
        "X_train"
      ],
      "execution_count": 0,
      "outputs": [
        {
          "output_type": "execute_result",
          "data": {
            "text/html": [
              "<div>\n",
              "<style scoped>\n",
              "    .dataframe tbody tr th:only-of-type {\n",
              "        vertical-align: middle;\n",
              "    }\n",
              "\n",
              "    .dataframe tbody tr th {\n",
              "        vertical-align: top;\n",
              "    }\n",
              "\n",
              "    .dataframe thead th {\n",
              "        text-align: right;\n",
              "    }\n",
              "</style>\n",
              "<table border=\"1\" class=\"dataframe\">\n",
              "  <thead>\n",
              "    <tr style=\"text-align: right;\">\n",
              "      <th></th>\n",
              "      <th>gre</th>\n",
              "      <th>gpa</th>\n",
              "      <th>rank</th>\n",
              "    </tr>\n",
              "  </thead>\n",
              "  <tbody>\n",
              "    <tr>\n",
              "      <th>57</th>\n",
              "      <td>380</td>\n",
              "      <td>2.94</td>\n",
              "      <td>3</td>\n",
              "    </tr>\n",
              "    <tr>\n",
              "      <th>33</th>\n",
              "      <td>800</td>\n",
              "      <td>4.00</td>\n",
              "      <td>3</td>\n",
              "    </tr>\n",
              "    <tr>\n",
              "      <th>2</th>\n",
              "      <td>800</td>\n",
              "      <td>4.00</td>\n",
              "      <td>1</td>\n",
              "    </tr>\n",
              "    <tr>\n",
              "      <th>83</th>\n",
              "      <td>380</td>\n",
              "      <td>2.91</td>\n",
              "      <td>4</td>\n",
              "    </tr>\n",
              "    <tr>\n",
              "      <th>94</th>\n",
              "      <td>660</td>\n",
              "      <td>3.44</td>\n",
              "      <td>2</td>\n",
              "    </tr>\n",
              "    <tr>\n",
              "      <th>47</th>\n",
              "      <td>500</td>\n",
              "      <td>2.97</td>\n",
              "      <td>4</td>\n",
              "    </tr>\n",
              "    <tr>\n",
              "      <th>27</th>\n",
              "      <td>520</td>\n",
              "      <td>3.74</td>\n",
              "      <td>4</td>\n",
              "    </tr>\n",
              "    <tr>\n",
              "      <th>21</th>\n",
              "      <td>660</td>\n",
              "      <td>3.63</td>\n",
              "      <td>2</td>\n",
              "    </tr>\n",
              "    <tr>\n",
              "      <th>97</th>\n",
              "      <td>480</td>\n",
              "      <td>3.57</td>\n",
              "      <td>2</td>\n",
              "    </tr>\n",
              "    <tr>\n",
              "      <th>73</th>\n",
              "      <td>580</td>\n",
              "      <td>4.00</td>\n",
              "      <td>2</td>\n",
              "    </tr>\n",
              "    <tr>\n",
              "      <th>17</th>\n",
              "      <td>360</td>\n",
              "      <td>2.56</td>\n",
              "      <td>3</td>\n",
              "    </tr>\n",
              "    <tr>\n",
              "      <th>70</th>\n",
              "      <td>640</td>\n",
              "      <td>4.00</td>\n",
              "      <td>3</td>\n",
              "    </tr>\n",
              "    <tr>\n",
              "      <th>96</th>\n",
              "      <td>640</td>\n",
              "      <td>3.52</td>\n",
              "      <td>4</td>\n",
              "    </tr>\n",
              "    <tr>\n",
              "      <th>41</th>\n",
              "      <td>580</td>\n",
              "      <td>3.32</td>\n",
              "      <td>2</td>\n",
              "    </tr>\n",
              "    <tr>\n",
              "      <th>5</th>\n",
              "      <td>760</td>\n",
              "      <td>3.00</td>\n",
              "      <td>2</td>\n",
              "    </tr>\n",
              "    <tr>\n",
              "      <th>29</th>\n",
              "      <td>520</td>\n",
              "      <td>3.29</td>\n",
              "      <td>1</td>\n",
              "    </tr>\n",
              "    <tr>\n",
              "      <th>88</th>\n",
              "      <td>700</td>\n",
              "      <td>3.28</td>\n",
              "      <td>1</td>\n",
              "    </tr>\n",
              "    <tr>\n",
              "      <th>50</th>\n",
              "      <td>640</td>\n",
              "      <td>3.86</td>\n",
              "      <td>3</td>\n",
              "    </tr>\n",
              "    <tr>\n",
              "      <th>35</th>\n",
              "      <td>400</td>\n",
              "      <td>3.05</td>\n",
              "      <td>2</td>\n",
              "    </tr>\n",
              "    <tr>\n",
              "      <th>37</th>\n",
              "      <td>520</td>\n",
              "      <td>2.90</td>\n",
              "      <td>3</td>\n",
              "    </tr>\n",
              "    <tr>\n",
              "      <th>40</th>\n",
              "      <td>560</td>\n",
              "      <td>2.42</td>\n",
              "      <td>2</td>\n",
              "    </tr>\n",
              "    <tr>\n",
              "      <th>38</th>\n",
              "      <td>500</td>\n",
              "      <td>3.13</td>\n",
              "      <td>2</td>\n",
              "    </tr>\n",
              "    <tr>\n",
              "      <th>81</th>\n",
              "      <td>620</td>\n",
              "      <td>3.07</td>\n",
              "      <td>2</td>\n",
              "    </tr>\n",
              "    <tr>\n",
              "      <th>7</th>\n",
              "      <td>400</td>\n",
              "      <td>3.08</td>\n",
              "      <td>2</td>\n",
              "    </tr>\n",
              "    <tr>\n",
              "      <th>95</th>\n",
              "      <td>660</td>\n",
              "      <td>3.33</td>\n",
              "      <td>2</td>\n",
              "    </tr>\n",
              "    <tr>\n",
              "      <th>99</th>\n",
              "      <td>400</td>\n",
              "      <td>3.31</td>\n",
              "      <td>3</td>\n",
              "    </tr>\n",
              "    <tr>\n",
              "      <th>39</th>\n",
              "      <td>520</td>\n",
              "      <td>2.68</td>\n",
              "      <td>3</td>\n",
              "    </tr>\n",
              "    <tr>\n",
              "      <th>86</th>\n",
              "      <td>600</td>\n",
              "      <td>3.32</td>\n",
              "      <td>2</td>\n",
              "    </tr>\n",
              "    <tr>\n",
              "      <th>63</th>\n",
              "      <td>680</td>\n",
              "      <td>3.85</td>\n",
              "      <td>3</td>\n",
              "    </tr>\n",
              "    <tr>\n",
              "      <th>90</th>\n",
              "      <td>700</td>\n",
              "      <td>3.83</td>\n",
              "      <td>2</td>\n",
              "    </tr>\n",
              "    <tr>\n",
              "      <th>...</th>\n",
              "      <td>...</td>\n",
              "      <td>...</td>\n",
              "      <td>...</td>\n",
              "    </tr>\n",
              "    <tr>\n",
              "      <th>4</th>\n",
              "      <td>520</td>\n",
              "      <td>2.93</td>\n",
              "      <td>4</td>\n",
              "    </tr>\n",
              "    <tr>\n",
              "      <th>20</th>\n",
              "      <td>500</td>\n",
              "      <td>3.17</td>\n",
              "      <td>3</td>\n",
              "    </tr>\n",
              "    <tr>\n",
              "      <th>3</th>\n",
              "      <td>640</td>\n",
              "      <td>3.19</td>\n",
              "      <td>4</td>\n",
              "    </tr>\n",
              "    <tr>\n",
              "      <th>24</th>\n",
              "      <td>760</td>\n",
              "      <td>3.35</td>\n",
              "      <td>2</td>\n",
              "    </tr>\n",
              "    <tr>\n",
              "      <th>62</th>\n",
              "      <td>640</td>\n",
              "      <td>3.67</td>\n",
              "      <td>3</td>\n",
              "    </tr>\n",
              "    <tr>\n",
              "      <th>49</th>\n",
              "      <td>400</td>\n",
              "      <td>3.35</td>\n",
              "      <td>3</td>\n",
              "    </tr>\n",
              "    <tr>\n",
              "      <th>22</th>\n",
              "      <td>600</td>\n",
              "      <td>2.82</td>\n",
              "      <td>4</td>\n",
              "    </tr>\n",
              "    <tr>\n",
              "      <th>0</th>\n",
              "      <td>380</td>\n",
              "      <td>3.61</td>\n",
              "      <td>3</td>\n",
              "    </tr>\n",
              "    <tr>\n",
              "      <th>8</th>\n",
              "      <td>540</td>\n",
              "      <td>3.39</td>\n",
              "      <td>3</td>\n",
              "    </tr>\n",
              "    <tr>\n",
              "      <th>71</th>\n",
              "      <td>300</td>\n",
              "      <td>2.92</td>\n",
              "      <td>4</td>\n",
              "    </tr>\n",
              "    <tr>\n",
              "      <th>55</th>\n",
              "      <td>740</td>\n",
              "      <td>4.00</td>\n",
              "      <td>3</td>\n",
              "    </tr>\n",
              "    <tr>\n",
              "      <th>46</th>\n",
              "      <td>580</td>\n",
              "      <td>3.46</td>\n",
              "      <td>2</td>\n",
              "    </tr>\n",
              "    <tr>\n",
              "      <th>66</th>\n",
              "      <td>740</td>\n",
              "      <td>3.62</td>\n",
              "      <td>4</td>\n",
              "    </tr>\n",
              "    <tr>\n",
              "      <th>42</th>\n",
              "      <td>600</td>\n",
              "      <td>3.15</td>\n",
              "      <td>2</td>\n",
              "    </tr>\n",
              "    <tr>\n",
              "      <th>16</th>\n",
              "      <td>780</td>\n",
              "      <td>3.87</td>\n",
              "      <td>4</td>\n",
              "    </tr>\n",
              "    <tr>\n",
              "      <th>60</th>\n",
              "      <td>620</td>\n",
              "      <td>3.18</td>\n",
              "      <td>2</td>\n",
              "    </tr>\n",
              "    <tr>\n",
              "      <th>56</th>\n",
              "      <td>560</td>\n",
              "      <td>3.19</td>\n",
              "      <td>3</td>\n",
              "    </tr>\n",
              "    <tr>\n",
              "      <th>52</th>\n",
              "      <td>740</td>\n",
              "      <td>3.37</td>\n",
              "      <td>4</td>\n",
              "    </tr>\n",
              "    <tr>\n",
              "      <th>54</th>\n",
              "      <td>660</td>\n",
              "      <td>3.34</td>\n",
              "      <td>3</td>\n",
              "    </tr>\n",
              "    <tr>\n",
              "      <th>80</th>\n",
              "      <td>700</td>\n",
              "      <td>2.90</td>\n",
              "      <td>4</td>\n",
              "    </tr>\n",
              "    <tr>\n",
              "      <th>98</th>\n",
              "      <td>700</td>\n",
              "      <td>2.88</td>\n",
              "      <td>2</td>\n",
              "    </tr>\n",
              "    <tr>\n",
              "      <th>91</th>\n",
              "      <td>720</td>\n",
              "      <td>3.64</td>\n",
              "      <td>1</td>\n",
              "    </tr>\n",
              "    <tr>\n",
              "      <th>93</th>\n",
              "      <td>580</td>\n",
              "      <td>2.93</td>\n",
              "      <td>2</td>\n",
              "    </tr>\n",
              "    <tr>\n",
              "      <th>78</th>\n",
              "      <td>540</td>\n",
              "      <td>3.12</td>\n",
              "      <td>1</td>\n",
              "    </tr>\n",
              "    <tr>\n",
              "      <th>36</th>\n",
              "      <td>580</td>\n",
              "      <td>3.25</td>\n",
              "      <td>1</td>\n",
              "    </tr>\n",
              "    <tr>\n",
              "      <th>87</th>\n",
              "      <td>600</td>\n",
              "      <td>3.48</td>\n",
              "      <td>2</td>\n",
              "    </tr>\n",
              "    <tr>\n",
              "      <th>19</th>\n",
              "      <td>540</td>\n",
              "      <td>3.81</td>\n",
              "      <td>1</td>\n",
              "    </tr>\n",
              "    <tr>\n",
              "      <th>58</th>\n",
              "      <td>400</td>\n",
              "      <td>3.65</td>\n",
              "      <td>2</td>\n",
              "    </tr>\n",
              "    <tr>\n",
              "      <th>31</th>\n",
              "      <td>760</td>\n",
              "      <td>3.35</td>\n",
              "      <td>3</td>\n",
              "    </tr>\n",
              "    <tr>\n",
              "      <th>43</th>\n",
              "      <td>500</td>\n",
              "      <td>3.31</td>\n",
              "      <td>3</td>\n",
              "    </tr>\n",
              "  </tbody>\n",
              "</table>\n",
              "<p>80 rows × 3 columns</p>\n",
              "</div>"
            ],
            "text/plain": [
              "    gre   gpa  rank\n",
              "57  380  2.94     3\n",
              "33  800  4.00     3\n",
              "2   800  4.00     1\n",
              "83  380  2.91     4\n",
              "94  660  3.44     2\n",
              "47  500  2.97     4\n",
              "27  520  3.74     4\n",
              "21  660  3.63     2\n",
              "97  480  3.57     2\n",
              "73  580  4.00     2\n",
              "17  360  2.56     3\n",
              "70  640  4.00     3\n",
              "96  640  3.52     4\n",
              "41  580  3.32     2\n",
              "5   760  3.00     2\n",
              "29  520  3.29     1\n",
              "88  700  3.28     1\n",
              "50  640  3.86     3\n",
              "35  400  3.05     2\n",
              "37  520  2.90     3\n",
              "40  560  2.42     2\n",
              "38  500  3.13     2\n",
              "81  620  3.07     2\n",
              "7   400  3.08     2\n",
              "95  660  3.33     2\n",
              "99  400  3.31     3\n",
              "39  520  2.68     3\n",
              "86  600  3.32     2\n",
              "63  680  3.85     3\n",
              "90  700  3.83     2\n",
              "..  ...   ...   ...\n",
              "4   520  2.93     4\n",
              "20  500  3.17     3\n",
              "3   640  3.19     4\n",
              "24  760  3.35     2\n",
              "62  640  3.67     3\n",
              "49  400  3.35     3\n",
              "22  600  2.82     4\n",
              "0   380  3.61     3\n",
              "8   540  3.39     3\n",
              "71  300  2.92     4\n",
              "55  740  4.00     3\n",
              "46  580  3.46     2\n",
              "66  740  3.62     4\n",
              "42  600  3.15     2\n",
              "16  780  3.87     4\n",
              "60  620  3.18     2\n",
              "56  560  3.19     3\n",
              "52  740  3.37     4\n",
              "54  660  3.34     3\n",
              "80  700  2.90     4\n",
              "98  700  2.88     2\n",
              "91  720  3.64     1\n",
              "93  580  2.93     2\n",
              "78  540  3.12     1\n",
              "36  580  3.25     1\n",
              "87  600  3.48     2\n",
              "19  540  3.81     1\n",
              "58  400  3.65     2\n",
              "31  760  3.35     3\n",
              "43  500  3.31     3\n",
              "\n",
              "[80 rows x 3 columns]"
            ]
          },
          "metadata": {
            "tags": []
          },
          "execution_count": 11
        }
      ]
    },
    {
      "metadata": {
        "id": "czGYWv-T9RxZ",
        "colab_type": "text"
      },
      "cell_type": "markdown",
      "source": [
        "## Step 4: Build the Radical SVM model"
      ]
    },
    {
      "metadata": {
        "id": "5jCKfvqR9Rxb",
        "colab_type": "code",
        "outputId": "1d73fdbb-b3ce-4824-dadd-2cac8d8bc8cb",
        "colab": {
          "base_uri": "https://localhost:8080/",
          "height": 51
        }
      },
      "cell_type": "code",
      "source": [
        "from sklearn import svm\n",
        "import time\n",
        "\n",
        "clf = svm.SVC(kernel='linear')\n",
        "\n",
        "t1 = time.perf_counter()\n",
        "clf.fit(X_train, Y_train)\n",
        "t2 = time.perf_counter()\n",
        "\n",
        "\n",
        "print(\"traind on {:,} records in {:,.2f} ms\".\\\n",
        "      format(len(X_train), (t2-t1)*1000))\n",
        "\n",
        "# Print the coefficients and intercept for linearsSVC\n",
        "print (\"inputs : gre, gpa, rank\")\n"
      ],
      "execution_count": 0,
      "outputs": [
        {
          "output_type": "stream",
          "text": [
            "traind on 80 records in 46.74 ms\n",
            "inputs : gre, gpa, rank\n"
          ],
          "name": "stdout"
        }
      ]
    },
    {
      "metadata": {
        "id": "lH7jfROE9Rxi",
        "colab_type": "text"
      },
      "cell_type": "markdown",
      "source": [
        "## Step 5: Run the test set and get the predictions"
      ]
    },
    {
      "metadata": {
        "scrolled": true,
        "id": "Du51cuMu9Rxj",
        "colab_type": "code",
        "outputId": "b6d832c1-df49-45d2-b996-a605043a6652",
        "colab": {
          "base_uri": "https://localhost:8080/",
          "height": 34
        }
      },
      "cell_type": "code",
      "source": [
        "predictions = clf.predict(X_test)\n",
        "predictions"
      ],
      "execution_count": 0,
      "outputs": [
        {
          "output_type": "execute_result",
          "data": {
            "text/plain": [
              "array([0, 1, 1, 0, 1, 1, 1, 1, 0, 1, 0, 1, 0, 0, 0, 0, 0, 1, 1, 1])"
            ]
          },
          "metadata": {
            "tags": []
          },
          "execution_count": 13
        }
      ]
    },
    {
      "metadata": {
        "id": "OH5pTh039Rxq",
        "colab_type": "text"
      },
      "cell_type": "markdown",
      "source": [
        "## Step 6: See the evaluation metrics"
      ]
    },
    {
      "metadata": {
        "id": "8tfCBT559Rxs",
        "colab_type": "code",
        "outputId": "56555d55-872c-41c1-b4fc-f426b3e24056",
        "colab": {
          "base_uri": "https://localhost:8080/",
          "height": 34
        }
      },
      "cell_type": "code",
      "source": [
        "from sklearn.metrics import accuracy_score\n",
        "print(\"Accuracy = \" + str(accuracy_score(Y_test, predictions)))\n"
      ],
      "execution_count": 0,
      "outputs": [
        {
          "output_type": "stream",
          "text": [
            "Accuracy = 0.9\n"
          ],
          "name": "stdout"
        }
      ]
    },
    {
      "metadata": {
        "id": "4gZ5wR4y9Rxw",
        "colab_type": "code",
        "outputId": "44606dae-ef4c-44f9-817d-d0f783fb9e5e",
        "colab": {
          "base_uri": "https://localhost:8080/",
          "height": 34
        }
      },
      "cell_type": "code",
      "source": [
        "from sklearn.metrics import roc_auc_score\n",
        "roc_auc_score(Y_test, predictions)"
      ],
      "execution_count": 0,
      "outputs": [
        {
          "output_type": "execute_result",
          "data": {
            "text/plain": [
              "0.9230769230769231"
            ]
          },
          "metadata": {
            "tags": []
          },
          "execution_count": 15
        }
      ]
    },
    {
      "metadata": {
        "id": "f2_UaW889Rx0",
        "colab_type": "text"
      },
      "cell_type": "markdown",
      "source": [
        "**=> What does AUC mean?** "
      ]
    },
    {
      "metadata": {
        "id": "nnVFtL4C9Rx1",
        "colab_type": "code",
        "outputId": "b6f8da92-c7f2-474b-885f-d3a45e3f5035",
        "colab": {
          "base_uri": "https://localhost:8080/",
          "height": 170
        }
      },
      "cell_type": "code",
      "source": [
        "from sklearn.metrics import classification_report\n",
        "print(classification_report(Y_test, predictions))"
      ],
      "execution_count": 0,
      "outputs": [
        {
          "output_type": "stream",
          "text": [
            "              precision    recall  f1-score   support\n",
            "\n",
            "           0       0.78      1.00      0.88         7\n",
            "           1       1.00      0.85      0.92        13\n",
            "\n",
            "   micro avg       0.90      0.90      0.90        20\n",
            "   macro avg       0.89      0.92      0.90        20\n",
            "weighted avg       0.92      0.90      0.90        20\n",
            "\n"
          ],
          "name": "stdout"
        }
      ]
    },
    {
      "metadata": {
        "id": "Rdn67Sl39Rx4",
        "colab_type": "text"
      },
      "cell_type": "markdown",
      "source": [
        "## Step 7: Show the confusion matrix"
      ]
    },
    {
      "metadata": {
        "scrolled": true,
        "id": "87XojWTR9Rx5",
        "colab_type": "code",
        "outputId": "88541e40-c31d-4db5-f407-38da170e490b",
        "colab": {
          "base_uri": "https://localhost:8080/",
          "height": 51
        }
      },
      "cell_type": "code",
      "source": [
        "from sklearn.metrics import confusion_matrix\n",
        "confusion_matrix(Y_test, predictions)"
      ],
      "execution_count": 0,
      "outputs": [
        {
          "output_type": "execute_result",
          "data": {
            "text/plain": [
              "array([[ 7,  0],\n",
              "       [ 2, 11]])"
            ]
          },
          "metadata": {
            "tags": []
          },
          "execution_count": 17
        }
      ]
    },
    {
      "metadata": {
        "id": "vYJruH2z9Rx8",
        "colab_type": "text"
      },
      "cell_type": "markdown",
      "source": [
        "**=> TODO: What is the meaning of the confusion matrix? **\n",
        "\n"
      ]
    },
    {
      "metadata": {
        "collapsed": true,
        "id": "dDV4GZm59Rx9",
        "colab_type": "text"
      },
      "cell_type": "markdown",
      "source": [
        "## Step 8: Try running a prediction on your own data\n",
        "\n",
        "**=> Create a few rows in your own dataframe (start with pandas dataframe) ** \n",
        "\n",
        "**=> Run .transform from your model to see the results. **"
      ]
    },
    {
      "metadata": {
        "id": "iFTlp-Ad9Rx-",
        "colab_type": "code",
        "outputId": "f2abafb5-e9a2-4953-a560-d6599a903eba",
        "colab": {
          "base_uri": "https://localhost:8080/",
          "height": 102
        }
      },
      "cell_type": "code",
      "source": [
        "newdata = pd.DataFrame({'gre' : [600, 700, 800], \n",
        "                        'gpa' : [4.0, 3.5, 3.2],\n",
        "                        'rank': [1,   2,   3]}\n",
        "             )\n",
        "print(newdata)\n",
        "\n",
        "# TODO: Run on new data\n",
        "clf.predict(newdata)"
      ],
      "execution_count": 0,
      "outputs": [
        {
          "output_type": "stream",
          "text": [
            "   gpa  gre  rank\n",
            "0  4.0  600     1\n",
            "1  3.5  700     2\n",
            "2  3.2  800     3\n"
          ],
          "name": "stdout"
        },
        {
          "output_type": "execute_result",
          "data": {
            "text/plain": [
              "array([1, 1, 1])"
            ]
          },
          "metadata": {
            "tags": []
          },
          "execution_count": 18
        }
      ]
    },
    {
      "metadata": {
        "id": "eaZQztSI9RyC",
        "colab_type": "text"
      },
      "cell_type": "markdown",
      "source": [
        "## Step 10 : Discuss the findings\n",
        "\n",
        "### Coefficients\n",
        "\n",
        "Get the coefficients.\n",
        "\n",
        "### Accuracy\n",
        "Compare accuracies"
      ]
    }
  ]
}