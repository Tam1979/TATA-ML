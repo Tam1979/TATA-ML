{
  "nbformat": 4,
  "nbformat_minor": 0,
  "metadata": {
    "colab": {
      "name": "w2-1b-svm-churn.ipynb",
      "version": "0.3.2",
      "provenance": [],
      "include_colab_link": true
    },
    "kernelspec": {
      "display_name": "Python 3",
      "language": "python",
      "name": "python3"
    }
  },
  "cells": [
    {
      "cell_type": "markdown",
      "metadata": {
        "id": "view-in-github",
        "colab_type": "text"
      },
      "source": [
        "<a href=\"https://colab.research.google.com/github/Tam1979/TATA-ML/blob/master/w2_1b_svm_churn.ipynb\" target=\"_parent\"><img src=\"https://colab.research.google.com/assets/colab-badge.svg\" alt=\"Open In Colab\"/></a>"
      ]
    },
    {
      "metadata": {
        "id": "iq0Y204qAvad",
        "colab_type": "text"
      },
      "cell_type": "markdown",
      "source": [
        "# Support Vector Machines: Churn Analysis\n",
        "\n",
        "Let's look at a classification example in Python.  We are going to look at some telecom data to see whether or not a customer \"churned\" or not.\n"
      ]
    },
    {
      "metadata": {
        "id": "JBR-lELhAvaf",
        "colab_type": "code",
        "colab": {}
      },
      "cell_type": "code",
      "source": [
        "%matplotlib inline\n",
        "\n",
        "import time\n",
        "\n",
        "from sklearn.decomposition import PCA\n",
        "import matplotlib.pyplot as plt\n",
        "\n",
        "import pandas as pd"
      ],
      "execution_count": 0,
      "outputs": []
    },
    {
      "metadata": {
        "id": "LBWivMLFAvai",
        "colab_type": "text"
      },
      "cell_type": "markdown",
      "source": [
        "## Step 1: Load the data"
      ]
    },
    {
      "metadata": {
        "id": "vxxdI8SgAvaj",
        "colab_type": "code",
        "outputId": "61b5986d-ecf5-41a1-86f6-ee88ac4e5be4",
        "colab": {
          "base_uri": "https://localhost:8080/",
          "height": 34
        }
      },
      "cell_type": "code",
      "source": [
        "t1 = time.perf_counter()\n",
        "dataset = pd.read_csv(\"https://s3.amazonaws.com/elephantscale-public/data/churn/telco.csv.gz\")\n",
        "t2 = time.perf_counter()\n",
        "\n",
        "print(\"read {:,} records in {:,.2f} ms\".format(len(dataset), (t2-t1)*1000))"
      ],
      "execution_count": 0,
      "outputs": [
        {
          "output_type": "stream",
          "text": [
            "read 7,043 records in 580.67 ms\n"
          ],
          "name": "stdout"
        }
      ]
    },
    {
      "metadata": {
        "id": "DorawH9lAvao",
        "colab_type": "text"
      },
      "cell_type": "markdown",
      "source": [
        "## Step 2 : Basic Data Analytics\n",
        "Let's see how the data is spread along some columns : Churn, Gender, Contract.\n",
        "\n",
        "Do you think the data has skew?"
      ]
    },
    {
      "metadata": {
        "id": "VkRLsiaSAvap",
        "colab_type": "code",
        "outputId": "ff37e21b-dd6f-4ff0-c0db-b7f1af2643db",
        "colab": {
          "base_uri": "https://localhost:8080/",
          "height": 85
        }
      },
      "cell_type": "code",
      "source": [
        "## distribution buy Chrun\n",
        "dataset.groupby('Churn').size()"
      ],
      "execution_count": 0,
      "outputs": [
        {
          "output_type": "execute_result",
          "data": {
            "text/plain": [
              "Churn\n",
              "No     5174\n",
              "Yes    1869\n",
              "dtype: int64"
            ]
          },
          "metadata": {
            "tags": []
          },
          "execution_count": 3
        }
      ]
    },
    {
      "metadata": {
        "id": "1oJh1SNNAvau",
        "colab_type": "code",
        "outputId": "ce639319-3f5d-4ca6-f6b6-fc0be97f1d92",
        "colab": {
          "base_uri": "https://localhost:8080/",
          "height": 34
        }
      },
      "cell_type": "code",
      "source": [
        "## TODO : Distribution by gender\n",
        "???"
      ],
      "execution_count": 0,
      "outputs": [
        {
          "output_type": "stream",
          "text": [
            "Object `` not found.\n"
          ],
          "name": "stdout"
        }
      ]
    },
    {
      "metadata": {
        "id": "9U_M5xofAvaz",
        "colab_type": "code",
        "outputId": "e03b513b-6ff2-48a5-da0d-592e6474a11c",
        "colab": {
          "base_uri": "https://localhost:8080/",
          "height": 34
        }
      },
      "cell_type": "code",
      "source": [
        "## TODO : distribution by 'Contract'\n",
        "???"
      ],
      "execution_count": 0,
      "outputs": [
        {
          "output_type": "stream",
          "text": [
            "Object `` not found.\n"
          ],
          "name": "stdout"
        }
      ]
    },
    {
      "metadata": {
        "id": "uZAcw3yAAva2",
        "colab_type": "code",
        "outputId": "38328587-6cd7-4396-cbc5-a7f24e706d26",
        "colab": {
          "base_uri": "https://localhost:8080/",
          "height": 317
        }
      },
      "cell_type": "code",
      "source": [
        "## basic describe\n",
        "## TODO : Feel free to add more attributes to describe\n",
        "dataset.describe()"
      ],
      "execution_count": 0,
      "outputs": [
        {
          "output_type": "execute_result",
          "data": {
            "text/html": [
              "<div>\n",
              "<style scoped>\n",
              "    .dataframe tbody tr th:only-of-type {\n",
              "        vertical-align: middle;\n",
              "    }\n",
              "\n",
              "    .dataframe tbody tr th {\n",
              "        vertical-align: top;\n",
              "    }\n",
              "\n",
              "    .dataframe thead th {\n",
              "        text-align: right;\n",
              "    }\n",
              "</style>\n",
              "<table border=\"1\" class=\"dataframe\">\n",
              "  <thead>\n",
              "    <tr style=\"text-align: right;\">\n",
              "      <th></th>\n",
              "      <th>SeniorCitizen</th>\n",
              "      <th>Partner</th>\n",
              "      <th>Dependents</th>\n",
              "      <th>tenure</th>\n",
              "      <th>PhoneService</th>\n",
              "      <th>MultipleLines</th>\n",
              "      <th>OnlineSecurity</th>\n",
              "      <th>OnlineBackup</th>\n",
              "      <th>DeviceProtection</th>\n",
              "      <th>TechSupport</th>\n",
              "      <th>StreamingTV</th>\n",
              "      <th>StreamingMovies</th>\n",
              "      <th>PaperlessBilling</th>\n",
              "      <th>MonthlyCharges</th>\n",
              "      <th>TotalCharges</th>\n",
              "    </tr>\n",
              "  </thead>\n",
              "  <tbody>\n",
              "    <tr>\n",
              "      <th>count</th>\n",
              "      <td>7043.000000</td>\n",
              "      <td>7043.000000</td>\n",
              "      <td>7043.000000</td>\n",
              "      <td>7043.000000</td>\n",
              "      <td>7043.000000</td>\n",
              "      <td>7043.000000</td>\n",
              "      <td>7043.000000</td>\n",
              "      <td>7043.000000</td>\n",
              "      <td>7043.000000</td>\n",
              "      <td>7043.000000</td>\n",
              "      <td>7043.000000</td>\n",
              "      <td>7043.000000</td>\n",
              "      <td>7043.000000</td>\n",
              "      <td>7043.000000</td>\n",
              "      <td>7043.000000</td>\n",
              "    </tr>\n",
              "    <tr>\n",
              "      <th>mean</th>\n",
              "      <td>0.162147</td>\n",
              "      <td>0.483033</td>\n",
              "      <td>0.299588</td>\n",
              "      <td>32.371149</td>\n",
              "      <td>0.903166</td>\n",
              "      <td>0.421837</td>\n",
              "      <td>0.286668</td>\n",
              "      <td>0.344881</td>\n",
              "      <td>0.343888</td>\n",
              "      <td>0.290217</td>\n",
              "      <td>0.384353</td>\n",
              "      <td>0.387903</td>\n",
              "      <td>0.592219</td>\n",
              "      <td>64.761692</td>\n",
              "      <td>2279.734304</td>\n",
              "    </tr>\n",
              "    <tr>\n",
              "      <th>std</th>\n",
              "      <td>0.368612</td>\n",
              "      <td>0.499748</td>\n",
              "      <td>0.458110</td>\n",
              "      <td>24.559481</td>\n",
              "      <td>0.295752</td>\n",
              "      <td>0.493888</td>\n",
              "      <td>0.452237</td>\n",
              "      <td>0.475363</td>\n",
              "      <td>0.475038</td>\n",
              "      <td>0.453895</td>\n",
              "      <td>0.486477</td>\n",
              "      <td>0.487307</td>\n",
              "      <td>0.491457</td>\n",
              "      <td>30.090047</td>\n",
              "      <td>2266.794470</td>\n",
              "    </tr>\n",
              "    <tr>\n",
              "      <th>min</th>\n",
              "      <td>0.000000</td>\n",
              "      <td>0.000000</td>\n",
              "      <td>0.000000</td>\n",
              "      <td>0.000000</td>\n",
              "      <td>0.000000</td>\n",
              "      <td>0.000000</td>\n",
              "      <td>0.000000</td>\n",
              "      <td>0.000000</td>\n",
              "      <td>0.000000</td>\n",
              "      <td>0.000000</td>\n",
              "      <td>0.000000</td>\n",
              "      <td>0.000000</td>\n",
              "      <td>0.000000</td>\n",
              "      <td>18.250000</td>\n",
              "      <td>0.000000</td>\n",
              "    </tr>\n",
              "    <tr>\n",
              "      <th>25%</th>\n",
              "      <td>0.000000</td>\n",
              "      <td>0.000000</td>\n",
              "      <td>0.000000</td>\n",
              "      <td>9.000000</td>\n",
              "      <td>1.000000</td>\n",
              "      <td>0.000000</td>\n",
              "      <td>0.000000</td>\n",
              "      <td>0.000000</td>\n",
              "      <td>0.000000</td>\n",
              "      <td>0.000000</td>\n",
              "      <td>0.000000</td>\n",
              "      <td>0.000000</td>\n",
              "      <td>0.000000</td>\n",
              "      <td>35.500000</td>\n",
              "      <td>398.550000</td>\n",
              "    </tr>\n",
              "    <tr>\n",
              "      <th>50%</th>\n",
              "      <td>0.000000</td>\n",
              "      <td>0.000000</td>\n",
              "      <td>0.000000</td>\n",
              "      <td>29.000000</td>\n",
              "      <td>1.000000</td>\n",
              "      <td>0.000000</td>\n",
              "      <td>0.000000</td>\n",
              "      <td>0.000000</td>\n",
              "      <td>0.000000</td>\n",
              "      <td>0.000000</td>\n",
              "      <td>0.000000</td>\n",
              "      <td>0.000000</td>\n",
              "      <td>1.000000</td>\n",
              "      <td>70.350000</td>\n",
              "      <td>1394.550000</td>\n",
              "    </tr>\n",
              "    <tr>\n",
              "      <th>75%</th>\n",
              "      <td>0.000000</td>\n",
              "      <td>1.000000</td>\n",
              "      <td>1.000000</td>\n",
              "      <td>55.000000</td>\n",
              "      <td>1.000000</td>\n",
              "      <td>1.000000</td>\n",
              "      <td>1.000000</td>\n",
              "      <td>1.000000</td>\n",
              "      <td>1.000000</td>\n",
              "      <td>1.000000</td>\n",
              "      <td>1.000000</td>\n",
              "      <td>1.000000</td>\n",
              "      <td>1.000000</td>\n",
              "      <td>89.850000</td>\n",
              "      <td>3786.600000</td>\n",
              "    </tr>\n",
              "    <tr>\n",
              "      <th>max</th>\n",
              "      <td>1.000000</td>\n",
              "      <td>1.000000</td>\n",
              "      <td>1.000000</td>\n",
              "      <td>72.000000</td>\n",
              "      <td>1.000000</td>\n",
              "      <td>1.000000</td>\n",
              "      <td>1.000000</td>\n",
              "      <td>1.000000</td>\n",
              "      <td>1.000000</td>\n",
              "      <td>1.000000</td>\n",
              "      <td>1.000000</td>\n",
              "      <td>1.000000</td>\n",
              "      <td>1.000000</td>\n",
              "      <td>118.750000</td>\n",
              "      <td>8684.800000</td>\n",
              "    </tr>\n",
              "  </tbody>\n",
              "</table>\n",
              "</div>"
            ],
            "text/plain": [
              "       SeniorCitizen      Partner   Dependents       tenure  PhoneService  \\\n",
              "count    7043.000000  7043.000000  7043.000000  7043.000000   7043.000000   \n",
              "mean        0.162147     0.483033     0.299588    32.371149      0.903166   \n",
              "std         0.368612     0.499748     0.458110    24.559481      0.295752   \n",
              "min         0.000000     0.000000     0.000000     0.000000      0.000000   \n",
              "25%         0.000000     0.000000     0.000000     9.000000      1.000000   \n",
              "50%         0.000000     0.000000     0.000000    29.000000      1.000000   \n",
              "75%         0.000000     1.000000     1.000000    55.000000      1.000000   \n",
              "max         1.000000     1.000000     1.000000    72.000000      1.000000   \n",
              "\n",
              "       MultipleLines  OnlineSecurity  OnlineBackup  DeviceProtection  \\\n",
              "count    7043.000000     7043.000000   7043.000000       7043.000000   \n",
              "mean        0.421837        0.286668      0.344881          0.343888   \n",
              "std         0.493888        0.452237      0.475363          0.475038   \n",
              "min         0.000000        0.000000      0.000000          0.000000   \n",
              "25%         0.000000        0.000000      0.000000          0.000000   \n",
              "50%         0.000000        0.000000      0.000000          0.000000   \n",
              "75%         1.000000        1.000000      1.000000          1.000000   \n",
              "max         1.000000        1.000000      1.000000          1.000000   \n",
              "\n",
              "       TechSupport  StreamingTV  StreamingMovies  PaperlessBilling  \\\n",
              "count  7043.000000  7043.000000      7043.000000       7043.000000   \n",
              "mean      0.290217     0.384353         0.387903          0.592219   \n",
              "std       0.453895     0.486477         0.487307          0.491457   \n",
              "min       0.000000     0.000000         0.000000          0.000000   \n",
              "25%       0.000000     0.000000         0.000000          0.000000   \n",
              "50%       0.000000     0.000000         0.000000          1.000000   \n",
              "75%       1.000000     1.000000         1.000000          1.000000   \n",
              "max       1.000000     1.000000         1.000000          1.000000   \n",
              "\n",
              "       MonthlyCharges  TotalCharges  \n",
              "count     7043.000000   7043.000000  \n",
              "mean        64.761692   2279.734304  \n",
              "std         30.090047   2266.794470  \n",
              "min         18.250000      0.000000  \n",
              "25%         35.500000    398.550000  \n",
              "50%         70.350000   1394.550000  \n",
              "75%         89.850000   3786.600000  \n",
              "max        118.750000   8684.800000  "
            ]
          },
          "metadata": {
            "tags": []
          },
          "execution_count": 6
        }
      ]
    },
    {
      "metadata": {
        "id": "rFiCVZ0uAva6",
        "colab_type": "text"
      },
      "cell_type": "markdown",
      "source": [
        "## Step 3 : Categorical Data"
      ]
    },
    {
      "metadata": {
        "id": "JI6dd_wYAva7",
        "colab_type": "code",
        "colab": {}
      },
      "cell_type": "code",
      "source": [
        "## Define columns\n",
        "prediction = 'Churn'\n",
        "categorical = ['gender',  'InternetService','Contract','PaymentMethod']\n",
        "categorical_index = ['gender_index',  'InternetService_index','Contract_index','PaymentMethod_index']\n",
        "\n",
        "\n",
        "columns = ['SeniorCitizen','PhoneService','Partner','Dependents','tenure','MultipleLines',\n",
        "           'OnlineSecurity','OnlineBackup','DeviceProtection','TechSupport',\n",
        "           'StreamingTV','StreamingMovies','PaperlessBilling',\n",
        "           'MonthlyCharges','TotalCharges']"
      ],
      "execution_count": 0,
      "outputs": []
    },
    {
      "metadata": {
        "id": "L82KA4dNAvbB",
        "colab_type": "text"
      },
      "cell_type": "markdown",
      "source": [
        "## Step 4: Deal with Categorical Columns\n",
        "\n",
        "Let's deal with the categorical columns, including the output"
      ]
    },
    {
      "metadata": {
        "id": "4pewNCLwAvbF",
        "colab_type": "code",
        "colab": {}
      },
      "cell_type": "code",
      "source": [
        "for column in categorical:\n",
        "    dataset[column + \"_index\"] = pd.factorize(dataset[column])[0]\n"
      ],
      "execution_count": 0,
      "outputs": []
    },
    {
      "metadata": {
        "id": "KAgNwJrxAvbK",
        "colab_type": "text"
      },
      "cell_type": "markdown",
      "source": [
        "## Step 5: Build the Vector"
      ]
    },
    {
      "metadata": {
        "id": "8hymV75TAvbM",
        "colab_type": "code",
        "outputId": "8482461b-4063-4bb2-de71-cfb6dd7b26aa",
        "colab": {
          "base_uri": "https://localhost:8080/",
          "height": 85
        }
      },
      "cell_type": "code",
      "source": [
        "# Scaler\n",
        "from sklearn.preprocessing import StandardScaler\n",
        "scaler = StandardScaler()\n",
        "scaled_data = scaler.fit_transform(dataset[columns + categorical_index])"
      ],
      "execution_count": 0,
      "outputs": [
        {
          "output_type": "stream",
          "text": [
            "/usr/local/lib/python3.6/dist-packages/sklearn/preprocessing/data.py:645: DataConversionWarning: Data with input dtype int64, float64 were all converted to float64 by StandardScaler.\n",
            "  return self.partial_fit(X, y)\n",
            "/usr/local/lib/python3.6/dist-packages/sklearn/base.py:464: DataConversionWarning: Data with input dtype int64, float64 were all converted to float64 by StandardScaler.\n",
            "  return self.fit(X, **fit_params).transform(X)\n"
          ],
          "name": "stderr"
        }
      ]
    },
    {
      "metadata": {
        "id": "9uds6ZOjAvbV",
        "colab_type": "text"
      },
      "cell_type": "markdown",
      "source": [
        "## Step 6: Split into training and test.\n",
        "\n",
        "**=> Split into training/test with an 80/20 split ** "
      ]
    },
    {
      "metadata": {
        "id": "b3vxWptoAvbW",
        "colab_type": "code",
        "outputId": "b0c2512e-b981-443f-9c0e-84fdf4d599f3",
        "colab": {
          "base_uri": "https://localhost:8080/",
          "height": 51
        }
      },
      "cell_type": "code",
      "source": [
        "from sklearn.model_selection import train_test_split\n",
        "## Split into training and test\n",
        "## TODO: create training and test with an 80/20 split\n",
        "X_train, X_test, Y_train, Y_test = train_test_split(scaled_data, dataset[prediction] == \"Yes\", test_size=0.2)\n",
        "\n",
        "\n",
        "print (\"training set count \", len(X_train))\n",
        "print (\"testing set count \", len(X_test))"
      ],
      "execution_count": 0,
      "outputs": [
        {
          "output_type": "stream",
          "text": [
            "training set count  5634\n",
            "testing set count  1409\n"
          ],
          "name": "stdout"
        }
      ]
    },
    {
      "metadata": {
        "id": "EO8fYc2YAvbZ",
        "colab_type": "text"
      },
      "cell_type": "markdown",
      "source": [
        "## Step 8: Train  SVM model"
      ]
    },
    {
      "metadata": {
        "id": "2YwWYR_9Avba",
        "colab_type": "code",
        "outputId": "cb86f5ab-e79b-4be1-95a9-017130a735b0",
        "colab": {
          "base_uri": "https://localhost:8080/",
          "height": 71
        }
      },
      "cell_type": "code",
      "source": [
        "from sklearn.svm import SVC\n",
        "clf = SVC().fit(X_train,Y_train)\n"
      ],
      "execution_count": 0,
      "outputs": [
        {
          "output_type": "stream",
          "text": [
            "/usr/local/lib/python3.6/dist-packages/sklearn/svm/base.py:196: FutureWarning: The default value of gamma will change from 'auto' to 'scale' in version 0.22 to account better for unscaled features. Set gamma explicitly to 'auto' or 'scale' to avoid this warning.\n",
            "  \"avoid this warning.\", FutureWarning)\n"
          ],
          "name": "stderr"
        }
      ]
    },
    {
      "metadata": {
        "id": "OSTwkIlcAvbc",
        "colab_type": "text"
      },
      "cell_type": "markdown",
      "source": [
        "## Step 9:  Predict on Test Data\n",
        "\n",
        "**=> TODO: Transform the test dataset to get scaled Vector **\n",
        "\n"
      ]
    },
    {
      "metadata": {
        "scrolled": true,
        "id": "awFKzld-Avbd",
        "colab_type": "code",
        "colab": {}
      },
      "cell_type": "code",
      "source": [
        "predictions = clf.predict(X_test)"
      ],
      "execution_count": 0,
      "outputs": []
    },
    {
      "metadata": {
        "id": "q3es75aXAvbg",
        "colab_type": "text"
      },
      "cell_type": "markdown",
      "source": [
        "## Step 10: See the evaluation metrics"
      ]
    },
    {
      "metadata": {
        "id": "BlGAlsOnAvbh",
        "colab_type": "text"
      },
      "cell_type": "markdown",
      "source": [
        "### 10.1 AUC"
      ]
    },
    {
      "metadata": {
        "id": "B8EmAz2jAvbi",
        "colab_type": "code",
        "outputId": "94af14e5-67fa-4487-c5e8-ab601f9418d2",
        "colab": {
          "base_uri": "https://localhost:8080/",
          "height": 34
        }
      },
      "cell_type": "code",
      "source": [
        "from sklearn.metrics import roc_auc_score\n",
        "roc_auc_score(Y_test, predictions)"
      ],
      "execution_count": 0,
      "outputs": [
        {
          "output_type": "execute_result",
          "data": {
            "text/plain": [
              "0.6943214496435957"
            ]
          },
          "metadata": {
            "tags": []
          },
          "execution_count": 17
        }
      ]
    },
    {
      "metadata": {
        "id": "RV7z5_prAvbm",
        "colab_type": "text"
      },
      "cell_type": "markdown",
      "source": [
        "**=> What does AUC mean?** "
      ]
    },
    {
      "metadata": {
        "id": "4MFE84qiAvbn",
        "colab_type": "text"
      },
      "cell_type": "markdown",
      "source": [
        "### 10.2 Model Accuracy"
      ]
    },
    {
      "metadata": {
        "id": "9EXxyLZnAvbp",
        "colab_type": "code",
        "outputId": "c7bcf19c-031d-4d96-b8c0-67ab8f6766b4",
        "colab": {
          "base_uri": "https://localhost:8080/",
          "height": 34
        }
      },
      "cell_type": "code",
      "source": [
        "from sklearn.metrics import accuracy_score\n",
        "accuracy_score(Y_test, predictions)"
      ],
      "execution_count": 0,
      "outputs": [
        {
          "output_type": "execute_result",
          "data": {
            "text/plain": [
              "0.8105039034776437"
            ]
          },
          "metadata": {
            "tags": []
          },
          "execution_count": 18
        }
      ]
    },
    {
      "metadata": {
        "id": "s2n1_vgBAvbu",
        "colab_type": "text"
      },
      "cell_type": "markdown",
      "source": [
        "### 10.3 : confusion matrix"
      ]
    },
    {
      "metadata": {
        "scrolled": true,
        "id": "e3LU35oaAvbw",
        "colab_type": "code",
        "outputId": "dd29ec59-53ac-40d8-a4d1-87e897df6eab",
        "colab": {
          "base_uri": "https://localhost:8080/",
          "height": 51
        }
      },
      "cell_type": "code",
      "source": [
        "from sklearn.metrics import confusion_matrix\n",
        "confusion_matrix(Y_test, predictions)"
      ],
      "execution_count": 0,
      "outputs": [
        {
          "output_type": "execute_result",
          "data": {
            "text/plain": [
              "array([[978,  73],\n",
              "       [194, 164]])"
            ]
          },
          "metadata": {
            "tags": []
          },
          "execution_count": 19
        }
      ]
    },
    {
      "metadata": {
        "id": "wyXyBB92Avbz",
        "colab_type": "text"
      },
      "cell_type": "markdown",
      "source": [
        "**=> TODO: What is the meaning of the confusion matrix? **\n",
        "\n"
      ]
    },
    {
      "metadata": {
        "collapsed": true,
        "id": "caAMD1RzAvb0",
        "colab_type": "text"
      },
      "cell_type": "markdown",
      "source": [
        "## Step 11: Try running without scaling features\n",
        "\n",
        "In Step-5  we are adding a scaler at the end to normalize the vector.  \n",
        "Try without scaler.  \n",
        "\n",
        "Uncomment the following line   \n",
        "`#scaled_data = scaler.fit_transform(dataset[columns + categorical_index])`\n",
        "\n",
        "And replace it with something like this\n",
        "\n",
        "```python\n",
        "scaled_data = dataset[columns + categorical_index]\n",
        "```\n",
        "\n",
        "And run the whole notebook (Cell --> Run All)  \n",
        "Do you see any improvement/degradation in accuracy / AUC ?"
      ]
    },
    {
      "metadata": {
        "id": "8OxBNBscAvb0",
        "colab_type": "code",
        "colab": {}
      },
      "cell_type": "code",
      "source": [
        ""
      ],
      "execution_count": 0,
      "outputs": []
    }
  ]
}