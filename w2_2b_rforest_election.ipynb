{
  "nbformat": 4,
  "nbformat_minor": 0,
  "metadata": {
    "colab": {
      "name": "w2-2b-rforest-election.ipynb",
      "version": "0.3.2",
      "provenance": [],
      "collapsed_sections": [],
      "include_colab_link": true
    },
    "kernelspec": {
      "display_name": "Python 3",
      "language": "python",
      "name": "python3"
    }
  },
  "cells": [
    {
      "cell_type": "markdown",
      "metadata": {
        "id": "view-in-github",
        "colab_type": "text"
      },
      "source": [
        "<a href=\"https://colab.research.google.com/github/Tam1979/TATA-ML/blob/master/w2_2b_rforest_election.ipynb\" target=\"_parent\"><img src=\"https://colab.research.google.com/assets/colab-badge.svg\" alt=\"Open In Colab\"/></a>"
      ]
    },
    {
      "metadata": {
        "id": "qI4xHk15IteG",
        "colab_type": "text"
      },
      "cell_type": "markdown",
      "source": [
        "# Random Forests: Presidential Contributions\n",
        "\n",
        "Let's look at a random forests models for the presidential dataset.\n",
        "\n",
        "This dataset defines all presidential contribution amounts from publicly available information.\n",
        "\n",
        "The purpose here is to try to classify the candidate to whom the contributor contributes.  \n",
        "\n",
        "Here are the feature columns we will use:\n",
        "1. Last Name (converted from Contributor Name)\n",
        "2. First Name (converted from Contributor Name)\n",
        "3. State \n",
        "4. Latitude (converted from Zipcode)\n",
        "5. Longitude (converted from zipcode)\n",
        "6. Employer\n",
        "7. Occupation\n",
        "\n",
        "### Notes\n",
        "\n",
        "This is going to be a very difficult dataset to get high accuracy, because we don't have any features that are highly correlated with the outcome. Part of our analysis is to see which features prove to be the most useful. \n",
        "\n",
        "One might suspect that information like State, might be very predictive -- because presumably New Yorkers might contribute to Hillary Clinton and Texans might contribute to Donald Trump. However, it turns out that State is pretty weakly correlated to the outcome.  \n",
        "\n",
        "One nice thing about random forests is that since we \"bag\" featues in differnet trees, we can empirically see which variables have hte most predictive power.  This is helpful for analytical reasons.\n",
        "\n"
      ]
    },
    {
      "metadata": {
        "id": "N0kdhj8NIteI",
        "colab_type": "code",
        "colab": {}
      },
      "cell_type": "code",
      "source": [
        "%matplotlib inline\n",
        "import time\n",
        "import pandas as pd"
      ],
      "execution_count": 0,
      "outputs": []
    },
    {
      "metadata": {
        "id": "Qc0MmbNeIteM",
        "colab_type": "text"
      },
      "cell_type": "markdown",
      "source": [
        "## Step 1: Load the data"
      ]
    },
    {
      "metadata": {
        "id": "a7LBP1_0IteN",
        "colab_type": "code",
        "outputId": "11663b9d-92ed-4b68-d5b9-0d679cf8e5f5",
        "colab": {
          "base_uri": "https://localhost:8080/",
          "height": 34
        }
      },
      "cell_type": "code",
      "source": [
        "t1 = time.perf_counter()\n",
        "dataset = pd.read_csv(\"https://s3.amazonaws.com/elephantscale-public/data/presidential_election_contribs/2016/2016-medium-clean.csv\",)\n",
        "t2 = time.perf_counter()\n",
        "\n",
        "print(\"read {:,} records in {:,.2f} ms\".format(len(dataset), (t2-t1)*1000))"
      ],
      "execution_count": 0,
      "outputs": [
        {
          "output_type": "stream",
          "text": [
            "read 9,221 records in 733.89 ms\n"
          ],
          "name": "stdout"
        }
      ]
    },
    {
      "metadata": {
        "id": "26rq3RbAIteR",
        "colab_type": "code",
        "colab": {}
      },
      "cell_type": "code",
      "source": [
        "prediction_column = ['CAND_NM']\n",
        "numeric_columns = ['LAT', 'LNG']\n",
        "feature_columns = ['LASTNAME', 'FIRSTNAME', 'CONTBR_ST', 'LAT', 'LNG', 'CONTBR_EMPLOYER', \"CONTBR_OCCUPATION\"]\n",
        "categorical_columns = ['LASTNAME', 'FIRSTNAME', 'CONTBR_ST', 'CONTBR_EMPLOYER', \"CONTBR_OCCUPATION\"]\n",
        "categorical_index = ['FIRSTNAME_index', 'LASTNAME_index', 'CONTBR_ST_index', 'CONTBR_EMPLOYER_index', \n",
        "                     \"CONTBR_OCCUPATION_index\"]"
      ],
      "execution_count": 0,
      "outputs": []
    },
    {
      "metadata": {
        "id": "8BhWKSlZIteV",
        "colab_type": "text"
      },
      "cell_type": "markdown",
      "source": [
        "### Print out a contribution count broken down by candidate?\n",
        "**=> Q : Which candidates got the most donations? (in terms of number of donors) **"
      ]
    },
    {
      "metadata": {
        "id": "_rPrhQHqIteX",
        "colab_type": "code",
        "outputId": "00a83af5-cd23-46d5-ca46-22ddf00405eb",
        "colab": {
          "base_uri": "https://localhost:8080/",
          "height": 1088
        }
      },
      "cell_type": "code",
      "source": [
        "## TODO : print out per candidate breakdown\n",
        "## Hint : What column represents Candidate name\n",
        "dataset.groupby(['LASTNAME', 'FIRSTNAME']).size()\n"
      ],
      "execution_count": 0,
      "outputs": [
        {
          "output_type": "execute_result",
          "data": {
            "text/plain": [
              "LASTNAME           FIRSTNAME               \n",
              "AADAHL             DAVID                       1\n",
              "AARANT             MARJORIE                    1\n",
              "AARON              PETER                       1\n",
              "AAS                MARTHA                      1\n",
              "ABBOTT             JAMES                       1\n",
              "                   ROBERT A MR.                1\n",
              "                   SHERRY                      1\n",
              "ABDUN-NUR DURRETT  CATHY                       1\n",
              "ABEDIN             SALEHA                      1\n",
              "ABEL               STEPHEN                     1\n",
              "ABELEIN            JOANNA LYNN MS.             1\n",
              "ABELSON            ABBY                        1\n",
              "ABGHARY            SHAR                        1\n",
              "ABIRAGI            KRISTIN M.                  1\n",
              "ABRAMOV            DONNA IRENE                 1\n",
              "ABRAMS             JEFFRY                      1\n",
              "                   JOYCE                       1\n",
              "ABRELL             DANIEL                      1\n",
              "ABRUZZINI          LINDA                       1\n",
              "ACHAM              VENESSA                     1\n",
              "ACHESON            GARY                        1\n",
              "ACKERMAN           BAER                        1\n",
              "                   JAMES                       1\n",
              "                   JOE                         1\n",
              "                   MICHAEL                     1\n",
              "                   ROLAND MR.                  1\n",
              "ACKLEY             KATHERINE                   1\n",
              "ACOSTA             EDNA                        1\n",
              "ACREE              ANGIE                       1\n",
              "ADAIR              JACKIE                      1\n",
              "                                              ..\n",
              "ZIEGLER            ROBERT                      1\n",
              "ZIELINSKI          ADAM                        1\n",
              "                   FRANK M. MR.                1\n",
              "ZILKA              PATRICIA                    1\n",
              "ZIMBARDO           CHRISTINA                   1\n",
              "ZIMMERER           ROBERT W.                   1\n",
              "ZIMMERLE           MICHAEL                     1\n",
              "ZIMMERLIN          BILL                        1\n",
              "ZIMMERMAN          ANDREW                      1\n",
              "                   ANDY                        1\n",
              "                   DEANE                       1\n",
              "                   PETER                       1\n",
              "                   ROSA MARIE                  1\n",
              "ZIMNOX             BARB                        1\n",
              "ZIMOSKI            MARK                        1\n",
              "ZIRWAS             MATTHEW                     1\n",
              "ZMUDA              GREGORY                     1\n",
              "ZOOK               CHRISTOPHER ALAN MR. JR.    1\n",
              "                   JOHN                        1\n",
              "ZOSKI              GLENN                       1\n",
              "ZOU                ZHOU                        1\n",
              "ZUBIRI             MANUEL                      1\n",
              "ZUCHOWSKI          BEVERLY                     1\n",
              "ZUCKERBROD         GARY                        1\n",
              "ZUIDEMA            ANNE                        1\n",
              "ZUNIGA             ANTONIO                     1\n",
              "ZUR                JENNIFER                    1\n",
              "ZWEIG              SALLY                       1\n",
              "ZWICKL             JAMES                       1\n",
              "ZWIGARD            BRIAN                       1\n",
              "Length: 9050, dtype: int64"
            ]
          },
          "metadata": {
            "tags": []
          },
          "execution_count": 16
        }
      ]
    },
    {
      "metadata": {
        "id": "CKLkYe6_Iteb",
        "colab_type": "code",
        "outputId": "b77c7191-608b-4741-a41b-53f6c6549eb4",
        "colab": {
          "base_uri": "https://localhost:8080/",
          "height": 1088
        }
      },
      "cell_type": "code",
      "source": [
        "## TODO : sort the output by number of contributions\n",
        "dataset.groupby(['CONTBR_ST_index', 'CONTBR_EMPLOYER_index', 'CONTBR_OCCUPATION_index' ]).size()"
      ],
      "execution_count": 0,
      "outputs": [
        {
          "output_type": "execute_result",
          "data": {
            "text/plain": [
              "CONTBR_ST_index  CONTBR_EMPLOYER_index  CONTBR_OCCUPATION_index\n",
              "0                -1                     -1                           2\n",
              "                                         1                          15\n",
              "                                         2                         186\n",
              "                                         28                          6\n",
              "                                         32                         11\n",
              "                                         166                         2\n",
              "                                         222                         1\n",
              "                                         247                         1\n",
              "                                         1714                        1\n",
              "                  0                      0                           3\n",
              "                                         3                           1\n",
              "                                         5                           2\n",
              "                                         9                           1\n",
              "                                         12                          3\n",
              "                                         14                          3\n",
              "                                         16                          2\n",
              "                                         18                          8\n",
              "                                         22                          8\n",
              "                                         30                         11\n",
              "                                         52                         12\n",
              "                                         54                          1\n",
              "                                         68                          2\n",
              "                                         78                          4\n",
              "                                         81                          1\n",
              "                                         82                          2\n",
              "                                         87                          2\n",
              "                                         97                          2\n",
              "                                         109                         1\n",
              "                                         113                         1\n",
              "                                         121                         4\n",
              "                                                                  ... \n",
              "50                472                    842                         1\n",
              "                  690                    549                         1\n",
              "                  1081                   818                         1\n",
              "                  1153                   81                          1\n",
              "                  1242                   52                          1\n",
              "                  1383                   68                          1\n",
              "                                         1242                        2\n",
              "                  1462                   1342                        1\n",
              "                  1485                   163                         1\n",
              "                  1508                   148                         1\n",
              "                  1754                   1087                        1\n",
              "                  2063                   168                         1\n",
              "                  2187                   1260                        1\n",
              "                  2290                   49                          1\n",
              "                  2503                   217                         1\n",
              "                  2525                   1617                        1\n",
              "                  2850                   1788                        1\n",
              "                  3056                   289                         1\n",
              "                  3377                   178                         1\n",
              "                  3722                   50                          1\n",
              "51               -1                      2                           1\n",
              "                  0                      946                         1\n",
              "                  1                      1                           2\n",
              "                  60                     72                          1\n",
              "                  628                    68                          1\n",
              "                  1288                   959                         1\n",
              "                  2719                   47                          1\n",
              "                  3041                   1890                        1\n",
              "                  3525                   2138                        1\n",
              "52                3118                   1935                        1\n",
              "Length: 5974, dtype: int64"
            ]
          },
          "metadata": {
            "tags": []
          },
          "execution_count": 19
        }
      ]
    },
    {
      "metadata": {
        "id": "0jviZfjzIteh",
        "colab_type": "text"
      },
      "cell_type": "markdown",
      "source": [
        "## Step 2: Build Indexers and feature vector\n",
        "\n",
        "Let's index all the categorical columns, and build a labeld index."
      ]
    },
    {
      "metadata": {
        "id": "Upt-7F1_Itei",
        "colab_type": "code",
        "colab": {}
      },
      "cell_type": "code",
      "source": [
        "for col in categorical_columns:\n",
        "    dataset[col + '_index'] = pd.factorize(dataset[col])[0]"
      ],
      "execution_count": 0,
      "outputs": []
    },
    {
      "metadata": {
        "id": "z4rAdtuMItek",
        "colab_type": "code",
        "colab": {}
      },
      "cell_type": "code",
      "source": [
        "features = 1 # numeric columns plus our *_index columns\n",
        "label = 3 #  What are we trying to predict?"
      ],
      "execution_count": 0,
      "outputs": []
    },
    {
      "metadata": {
        "id": "tiwvDGpVIteo",
        "colab_type": "text"
      },
      "cell_type": "markdown",
      "source": [
        "## Step 4: Split data into training and test\n",
        "\n",
        "**=> TODO: build training and test datasets 70%/30% **\n"
      ]
    },
    {
      "metadata": {
        "id": "S4JLWChjItes",
        "colab_type": "code",
        "outputId": "dbac510c-d7ed-4e79-ed2c-c954dddda05a",
        "colab": {
          "base_uri": "https://localhost:8080/",
          "height": 351
        }
      },
      "cell_type": "code",
      "source": [
        "## TODO : split 70% training and 30% testing\n",
        "## Hint : 0.7 ,  0.3\n",
        "\n",
        "from sklearn.model_selection import train_test_split\n",
        "train_x, test_x,train_y, test_y = train_test_split()\n",
        "next(ShuffleSplit().split(X, y))\n",
        "print(\"training set = \" , len(train_x))\n",
        "print(\"testing set = \" , len(test_x))"
      ],
      "execution_count": 0,
      "outputs": [
        {
          "output_type": "error",
          "ename": "ValueError",
          "evalue": "ignored",
          "traceback": [
            "\u001b[0;31m---------------------------------------------------------------------------\u001b[0m",
            "\u001b[0;31mValueError\u001b[0m                                Traceback (most recent call last)",
            "\u001b[0;32m<ipython-input-36-679ddf4fb99f>\u001b[0m in \u001b[0;36m<module>\u001b[0;34m()\u001b[0m\n\u001b[1;32m      1\u001b[0m \u001b[0;34m\u001b[0m\u001b[0m\n\u001b[1;32m      2\u001b[0m \u001b[0;32mfrom\u001b[0m \u001b[0msklearn\u001b[0m\u001b[0;34m.\u001b[0m\u001b[0mmodel_selection\u001b[0m \u001b[0;32mimport\u001b[0m \u001b[0mtrain_test_split\u001b[0m\u001b[0;34m\u001b[0m\u001b[0;34m\u001b[0m\u001b[0m\n\u001b[0;32m----> 3\u001b[0;31m \u001b[0mtrain_x\u001b[0m\u001b[0;34m,\u001b[0m \u001b[0mtest_x\u001b[0m\u001b[0;34m,\u001b[0m\u001b[0mtrain_y\u001b[0m\u001b[0;34m,\u001b[0m \u001b[0mtest_y\u001b[0m \u001b[0;34m=\u001b[0m \u001b[0mtrain_test_split\u001b[0m\u001b[0;34m(\u001b[0m\u001b[0;34m)\u001b[0m\u001b[0;34m\u001b[0m\u001b[0;34m\u001b[0m\u001b[0m\n\u001b[0m\u001b[1;32m      4\u001b[0m \u001b[0mnext\u001b[0m\u001b[0;34m(\u001b[0m\u001b[0mShuffleSplit\u001b[0m\u001b[0;34m(\u001b[0m\u001b[0;34m)\u001b[0m\u001b[0;34m.\u001b[0m\u001b[0msplit\u001b[0m\u001b[0;34m(\u001b[0m\u001b[0mX\u001b[0m\u001b[0;34m,\u001b[0m \u001b[0my\u001b[0m\u001b[0;34m)\u001b[0m\u001b[0;34m)\u001b[0m\u001b[0;34m\u001b[0m\u001b[0;34m\u001b[0m\u001b[0m\n\u001b[1;32m      5\u001b[0m \u001b[0mprint\u001b[0m\u001b[0;34m(\u001b[0m\u001b[0;34m\"training set = \"\u001b[0m \u001b[0;34m,\u001b[0m \u001b[0mlen\u001b[0m\u001b[0;34m(\u001b[0m\u001b[0mtrain_x\u001b[0m\u001b[0;34m)\u001b[0m\u001b[0;34m)\u001b[0m\u001b[0;34m\u001b[0m\u001b[0;34m\u001b[0m\u001b[0m\n",
            "\u001b[0;32m/usr/local/lib/python3.6/dist-packages/sklearn/model_selection/_split.py\u001b[0m in \u001b[0;36mtrain_test_split\u001b[0;34m(*arrays, **options)\u001b[0m\n\u001b[1;32m   2161\u001b[0m     \u001b[0mn_arrays\u001b[0m \u001b[0;34m=\u001b[0m \u001b[0mlen\u001b[0m\u001b[0;34m(\u001b[0m\u001b[0marrays\u001b[0m\u001b[0;34m)\u001b[0m\u001b[0;34m\u001b[0m\u001b[0;34m\u001b[0m\u001b[0m\n\u001b[1;32m   2162\u001b[0m     \u001b[0;32mif\u001b[0m \u001b[0mn_arrays\u001b[0m \u001b[0;34m==\u001b[0m \u001b[0;36m0\u001b[0m\u001b[0;34m:\u001b[0m\u001b[0;34m\u001b[0m\u001b[0;34m\u001b[0m\u001b[0m\n\u001b[0;32m-> 2163\u001b[0;31m         \u001b[0;32mraise\u001b[0m \u001b[0mValueError\u001b[0m\u001b[0;34m(\u001b[0m\u001b[0;34m\"At least one array required as input\"\u001b[0m\u001b[0;34m)\u001b[0m\u001b[0;34m\u001b[0m\u001b[0;34m\u001b[0m\u001b[0m\n\u001b[0m\u001b[1;32m   2164\u001b[0m     \u001b[0mtest_size\u001b[0m \u001b[0;34m=\u001b[0m \u001b[0moptions\u001b[0m\u001b[0;34m.\u001b[0m\u001b[0mpop\u001b[0m\u001b[0;34m(\u001b[0m\u001b[0;34m'test_size'\u001b[0m\u001b[0;34m,\u001b[0m \u001b[0;34m'default'\u001b[0m\u001b[0;34m)\u001b[0m\u001b[0;34m\u001b[0m\u001b[0;34m\u001b[0m\u001b[0m\n\u001b[1;32m   2165\u001b[0m     \u001b[0mtrain_size\u001b[0m \u001b[0;34m=\u001b[0m \u001b[0moptions\u001b[0m\u001b[0;34m.\u001b[0m\u001b[0mpop\u001b[0m\u001b[0;34m(\u001b[0m\u001b[0;34m'train_size'\u001b[0m\u001b[0;34m,\u001b[0m \u001b[0;32mNone\u001b[0m\u001b[0;34m)\u001b[0m\u001b[0;34m\u001b[0m\u001b[0;34m\u001b[0m\u001b[0m\n",
            "\u001b[0;31mValueError\u001b[0m: At least one array required as input"
          ]
        }
      ]
    },
    {
      "metadata": {
        "id": "98svFpciIte0",
        "colab_type": "text"
      },
      "cell_type": "markdown",
      "source": [
        "## Step 5: Train the Model\n"
      ]
    },
    {
      "metadata": {
        "id": "NO7YdzzKIte1",
        "colab_type": "code",
        "colab": {}
      },
      "cell_type": "code",
      "source": [
        "from sklearn.ensemble import RandomForestClassifier\n",
        "rf = RandomForestClassifier(n_estimators=20)"
      ],
      "execution_count": 0,
      "outputs": []
    },
    {
      "metadata": {
        "scrolled": true,
        "id": "NijaC6IjIte4",
        "colab_type": "code",
        "outputId": "d0ca4595-2d4b-436a-c70d-f853733ec67f",
        "colab": {
          "base_uri": "https://localhost:8080/",
          "height": 249
        }
      },
      "cell_type": "code",
      "source": [
        "print(\"Starting model training....this will take some time\")\n",
        "t1 = time.perf_counter()\n",
        "## TODO : train the model with our training set\n",
        "## Hint : training\n",
        "rf.fit(train_x,train_y)\n",
        "t2 = time.perf_counter()\n",
        "print(\"trained on {:,} records  in {:,.2f} ms\".\\\n",
        "      format(len(train_x),  (t2-t1)*1000))"
      ],
      "execution_count": 0,
      "outputs": [
        {
          "output_type": "stream",
          "text": [
            "Starting model training....this will take some time\n"
          ],
          "name": "stdout"
        },
        {
          "output_type": "error",
          "ename": "NameError",
          "evalue": "ignored",
          "traceback": [
            "\u001b[0;31m---------------------------------------------------------------------------\u001b[0m",
            "\u001b[0;31mNameError\u001b[0m                                 Traceback (most recent call last)",
            "\u001b[0;32m<ipython-input-37-d36cf29abb0b>\u001b[0m in \u001b[0;36m<module>\u001b[0;34m()\u001b[0m\n\u001b[1;32m      3\u001b[0m \u001b[0;31m## TODO : train the model with our training set\u001b[0m\u001b[0;34m\u001b[0m\u001b[0;34m\u001b[0m\u001b[0;34m\u001b[0m\u001b[0m\n\u001b[1;32m      4\u001b[0m \u001b[0;31m## Hint : training\u001b[0m\u001b[0;34m\u001b[0m\u001b[0;34m\u001b[0m\u001b[0;34m\u001b[0m\u001b[0m\n\u001b[0;32m----> 5\u001b[0;31m \u001b[0mrf\u001b[0m\u001b[0;34m.\u001b[0m\u001b[0mfit\u001b[0m\u001b[0;34m(\u001b[0m\u001b[0mtrain_x\u001b[0m\u001b[0;34m,\u001b[0m\u001b[0mtrain_y\u001b[0m\u001b[0;34m)\u001b[0m\u001b[0;34m\u001b[0m\u001b[0;34m\u001b[0m\u001b[0m\n\u001b[0m\u001b[1;32m      6\u001b[0m \u001b[0mt2\u001b[0m \u001b[0;34m=\u001b[0m \u001b[0mtime\u001b[0m\u001b[0;34m.\u001b[0m\u001b[0mperf_counter\u001b[0m\u001b[0;34m(\u001b[0m\u001b[0;34m)\u001b[0m\u001b[0;34m\u001b[0m\u001b[0;34m\u001b[0m\u001b[0m\n\u001b[1;32m      7\u001b[0m \u001b[0mprint\u001b[0m\u001b[0;34m(\u001b[0m\u001b[0;34m\"trained on {:,} records  in {:,.2f} ms\"\u001b[0m\u001b[0;34m.\u001b[0m      \u001b[0mformat\u001b[0m\u001b[0;34m(\u001b[0m\u001b[0mlen\u001b[0m\u001b[0;34m(\u001b[0m\u001b[0mtrain_x\u001b[0m\u001b[0;34m)\u001b[0m\u001b[0;34m,\u001b[0m  \u001b[0;34m(\u001b[0m\u001b[0mt2\u001b[0m\u001b[0;34m-\u001b[0m\u001b[0mt1\u001b[0m\u001b[0;34m)\u001b[0m\u001b[0;34m*\u001b[0m\u001b[0;36m1000\u001b[0m\u001b[0;34m)\u001b[0m\u001b[0;34m)\u001b[0m\u001b[0;34m\u001b[0m\u001b[0;34m\u001b[0m\u001b[0m\n",
            "\u001b[0;31mNameError\u001b[0m: name 'train_x' is not defined"
          ]
        }
      ]
    },
    {
      "metadata": {
        "id": "9NfgGrjjIte6",
        "colab_type": "code",
        "colab": {}
      },
      "cell_type": "code",
      "source": [
        "## TODO : predict with our test data\n",
        "## Hint : testData2\n",
        "\n",
        "t1 = time.perf_counter()\n",
        "predictions = rf.predict(test_x)\n",
        "t2 = time.perf_counter()\n",
        "print(\"prediction on {:,} records  in {:,.2f} ms\".\\\n",
        "      format(len(test_x),  (t2-t1)*1000))\n",
        "\n",
        "predictions"
      ],
      "execution_count": 0,
      "outputs": []
    },
    {
      "metadata": {
        "id": "zKyHf0f0Ite8",
        "colab_type": "text"
      },
      "cell_type": "markdown",
      "source": [
        "## Step 6: Evaulate the model"
      ]
    },
    {
      "metadata": {
        "id": "zyGrbxQOIte9",
        "colab_type": "code",
        "outputId": "b8078fe7-3086-4d4d-cf82-beaf185d52cd",
        "colab": {
          "base_uri": "https://localhost:8080/",
          "height": 181
        }
      },
      "cell_type": "code",
      "source": [
        "from sklearn.metrics import accuracy_score\n",
        "accuracy_score(test_y, predictions)"
      ],
      "execution_count": 0,
      "outputs": [
        {
          "output_type": "error",
          "ename": "NameError",
          "evalue": "ignored",
          "traceback": [
            "\u001b[0;31m---------------------------------------------------------------------------\u001b[0m",
            "\u001b[0;31mNameError\u001b[0m                                 Traceback (most recent call last)",
            "\u001b[0;32m<ipython-input-38-43c245f597b9>\u001b[0m in \u001b[0;36m<module>\u001b[0;34m()\u001b[0m\n\u001b[1;32m      1\u001b[0m \u001b[0;32mfrom\u001b[0m \u001b[0msklearn\u001b[0m\u001b[0;34m.\u001b[0m\u001b[0mmetrics\u001b[0m \u001b[0;32mimport\u001b[0m \u001b[0maccuracy_score\u001b[0m\u001b[0;34m\u001b[0m\u001b[0;34m\u001b[0m\u001b[0m\n\u001b[0;32m----> 2\u001b[0;31m \u001b[0maccuracy_score\u001b[0m\u001b[0;34m(\u001b[0m\u001b[0mtest_y\u001b[0m\u001b[0;34m,\u001b[0m \u001b[0mpredictions\u001b[0m\u001b[0;34m)\u001b[0m\u001b[0;34m\u001b[0m\u001b[0;34m\u001b[0m\u001b[0m\n\u001b[0m",
            "\u001b[0;31mNameError\u001b[0m: name 'test_y' is not defined"
          ]
        }
      ]
    },
    {
      "metadata": {
        "id": "jmOkR76MIte_",
        "colab_type": "text"
      },
      "cell_type": "markdown",
      "source": [
        "**=> TODO: Think about the test error here?  Does it seem high?  What does that say about our model?**\n",
        "\n",
        "**=> How do we define model success? **"
      ]
    },
    {
      "metadata": {
        "id": "gH1tXSBtItfA",
        "colab_type": "code",
        "colab": {}
      },
      "cell_type": "code",
      "source": [
        "import numpy as np\n",
        "names = np.unique(predictions)"
      ],
      "execution_count": 0,
      "outputs": []
    },
    {
      "metadata": {
        "id": "ZEznxEwIItfC",
        "colab_type": "code",
        "outputId": "bd33d247-0e9b-4b89-8878-8cb8f41c30eb",
        "colab": {
          "base_uri": "https://localhost:8080/",
          "height": 181
        }
      },
      "cell_type": "code",
      "source": [
        "from sklearn.metrics import confusion_matrix\n",
        "pd.DataFrame(confusion_matrix(test_y, predictions, labels=names), index=names, columns=names)"
      ],
      "execution_count": 0,
      "outputs": [
        {
          "output_type": "error",
          "ename": "NameError",
          "evalue": "ignored",
          "traceback": [
            "\u001b[0;31m---------------------------------------------------------------------------\u001b[0m",
            "\u001b[0;31mNameError\u001b[0m                                 Traceback (most recent call last)",
            "\u001b[0;32m<ipython-input-39-da1e99f75bb4>\u001b[0m in \u001b[0;36m<module>\u001b[0;34m()\u001b[0m\n\u001b[1;32m      1\u001b[0m \u001b[0;32mfrom\u001b[0m \u001b[0msklearn\u001b[0m\u001b[0;34m.\u001b[0m\u001b[0mmetrics\u001b[0m \u001b[0;32mimport\u001b[0m \u001b[0mconfusion_matrix\u001b[0m\u001b[0;34m\u001b[0m\u001b[0;34m\u001b[0m\u001b[0m\n\u001b[0;32m----> 2\u001b[0;31m \u001b[0mpd\u001b[0m\u001b[0;34m.\u001b[0m\u001b[0mDataFrame\u001b[0m\u001b[0;34m(\u001b[0m\u001b[0mconfusion_matrix\u001b[0m\u001b[0;34m(\u001b[0m\u001b[0mtest_y\u001b[0m\u001b[0;34m,\u001b[0m \u001b[0mpredictions\u001b[0m\u001b[0;34m,\u001b[0m \u001b[0mlabels\u001b[0m\u001b[0;34m=\u001b[0m\u001b[0mnames\u001b[0m\u001b[0;34m)\u001b[0m\u001b[0;34m,\u001b[0m \u001b[0mindex\u001b[0m\u001b[0;34m=\u001b[0m\u001b[0mnames\u001b[0m\u001b[0;34m,\u001b[0m \u001b[0mcolumns\u001b[0m\u001b[0;34m=\u001b[0m\u001b[0mnames\u001b[0m\u001b[0;34m)\u001b[0m\u001b[0;34m\u001b[0m\u001b[0;34m\u001b[0m\u001b[0m\n\u001b[0m",
            "\u001b[0;31mNameError\u001b[0m: name 'test_y' is not defined"
          ]
        }
      ]
    },
    {
      "metadata": {
        "id": "hZjoGfWsItfF",
        "colab_type": "text"
      },
      "cell_type": "markdown",
      "source": [
        "Use the list above to interpret the label.  \n",
        "\n",
        "**=>What can you conclude from the confusion matrix?**\n",
        "\n",
        "Is our model better at predicting candidates with many donations (Clinton, Sanders), or few donations?\n",
        "\n",
        "What can you say about our model perfromance."
      ]
    },
    {
      "metadata": {
        "id": "f5lqTIZ0ItfG",
        "colab_type": "text"
      },
      "cell_type": "markdown",
      "source": [
        "## Step 8: Print the feature importanes"
      ]
    },
    {
      "metadata": {
        "id": "EZ-G3UrxItfI",
        "colab_type": "code",
        "outputId": "8bda441e-1950-4aac-a84d-59c07e46058a",
        "colab": {
          "base_uri": "https://localhost:8080/",
          "height": 419
        }
      },
      "cell_type": "code",
      "source": [
        "import pandas as pd\n",
        "rf.feature_importances_"
      ],
      "execution_count": 0,
      "outputs": [
        {
          "output_type": "error",
          "ename": "NotFittedError",
          "evalue": "ignored",
          "traceback": [
            "\u001b[0;31m---------------------------------------------------------------------------\u001b[0m",
            "\u001b[0;31mNotFittedError\u001b[0m                            Traceback (most recent call last)",
            "\u001b[0;32m<ipython-input-40-253c47f2e46c>\u001b[0m in \u001b[0;36m<module>\u001b[0;34m()\u001b[0m\n\u001b[1;32m      1\u001b[0m \u001b[0;32mimport\u001b[0m \u001b[0mpandas\u001b[0m \u001b[0;32mas\u001b[0m \u001b[0mpd\u001b[0m\u001b[0;34m\u001b[0m\u001b[0;34m\u001b[0m\u001b[0m\n\u001b[0;32m----> 2\u001b[0;31m \u001b[0mrf\u001b[0m\u001b[0;34m.\u001b[0m\u001b[0mfeature_importances_\u001b[0m\u001b[0;34m\u001b[0m\u001b[0;34m\u001b[0m\u001b[0m\n\u001b[0m",
            "\u001b[0;32m/usr/local/lib/python3.6/dist-packages/sklearn/ensemble/forest.py\u001b[0m in \u001b[0;36mfeature_importances_\u001b[0;34m(self)\u001b[0m\n\u001b[1;32m    371\u001b[0m         \u001b[0mfeature_importances_\u001b[0m \u001b[0;34m:\u001b[0m \u001b[0marray\u001b[0m\u001b[0;34m,\u001b[0m \u001b[0mshape\u001b[0m \u001b[0;34m=\u001b[0m \u001b[0;34m[\u001b[0m\u001b[0mn_features\u001b[0m\u001b[0;34m]\u001b[0m\u001b[0;34m\u001b[0m\u001b[0;34m\u001b[0m\u001b[0m\n\u001b[1;32m    372\u001b[0m         \"\"\"\n\u001b[0;32m--> 373\u001b[0;31m         \u001b[0mcheck_is_fitted\u001b[0m\u001b[0;34m(\u001b[0m\u001b[0mself\u001b[0m\u001b[0;34m,\u001b[0m \u001b[0;34m'estimators_'\u001b[0m\u001b[0;34m)\u001b[0m\u001b[0;34m\u001b[0m\u001b[0;34m\u001b[0m\u001b[0m\n\u001b[0m\u001b[1;32m    374\u001b[0m \u001b[0;34m\u001b[0m\u001b[0m\n\u001b[1;32m    375\u001b[0m         all_importances = Parallel(n_jobs=self.n_jobs,\n",
            "\u001b[0;32m/usr/local/lib/python3.6/dist-packages/sklearn/utils/validation.py\u001b[0m in \u001b[0;36mcheck_is_fitted\u001b[0;34m(estimator, attributes, msg, all_or_any)\u001b[0m\n\u001b[1;32m    949\u001b[0m \u001b[0;34m\u001b[0m\u001b[0m\n\u001b[1;32m    950\u001b[0m     \u001b[0;32mif\u001b[0m \u001b[0;32mnot\u001b[0m \u001b[0mall_or_any\u001b[0m\u001b[0;34m(\u001b[0m\u001b[0;34m[\u001b[0m\u001b[0mhasattr\u001b[0m\u001b[0;34m(\u001b[0m\u001b[0mestimator\u001b[0m\u001b[0;34m,\u001b[0m \u001b[0mattr\u001b[0m\u001b[0;34m)\u001b[0m \u001b[0;32mfor\u001b[0m \u001b[0mattr\u001b[0m \u001b[0;32min\u001b[0m \u001b[0mattributes\u001b[0m\u001b[0;34m]\u001b[0m\u001b[0;34m)\u001b[0m\u001b[0;34m:\u001b[0m\u001b[0;34m\u001b[0m\u001b[0;34m\u001b[0m\u001b[0m\n\u001b[0;32m--> 951\u001b[0;31m         \u001b[0;32mraise\u001b[0m \u001b[0mNotFittedError\u001b[0m\u001b[0;34m(\u001b[0m\u001b[0mmsg\u001b[0m \u001b[0;34m%\u001b[0m \u001b[0;34m{\u001b[0m\u001b[0;34m'name'\u001b[0m\u001b[0;34m:\u001b[0m \u001b[0mtype\u001b[0m\u001b[0;34m(\u001b[0m\u001b[0mestimator\u001b[0m\u001b[0;34m)\u001b[0m\u001b[0;34m.\u001b[0m\u001b[0m__name__\u001b[0m\u001b[0;34m}\u001b[0m\u001b[0;34m)\u001b[0m\u001b[0;34m\u001b[0m\u001b[0;34m\u001b[0m\u001b[0m\n\u001b[0m\u001b[1;32m    952\u001b[0m \u001b[0;34m\u001b[0m\u001b[0m\n\u001b[1;32m    953\u001b[0m \u001b[0;34m\u001b[0m\u001b[0m\n",
            "\u001b[0;31mNotFittedError\u001b[0m: This RandomForestClassifier instance is not fitted yet. Call 'fit' with appropriate arguments before using this method."
          ]
        }
      ]
    },
    {
      "metadata": {
        "id": "imbU294uItfS",
        "colab_type": "text"
      },
      "cell_type": "markdown",
      "source": [
        "**=> TODO Compare the relative weight of the feature importances? **\n",
        "\n"
      ]
    },
    {
      "metadata": {
        "id": "53OdVPz0ItfT",
        "colab_type": "text"
      },
      "cell_type": "markdown",
      "source": [
        "### Visualize feature importances\n",
        "\n",
        "TODO: DO a visualization of feature importances."
      ]
    },
    {
      "metadata": {
        "id": "hJaHMEFAItfU",
        "colab_type": "text"
      },
      "cell_type": "markdown",
      "source": [
        "**=> TODO Compare the relative weight of the feature importances? **\n",
        "\n",
        "Why do you think that the lat/long and other fields did not contribute?"
      ]
    },
    {
      "metadata": {
        "id": "Op74kxDiItfV",
        "colab_type": "text"
      },
      "cell_type": "markdown",
      "source": [
        "**=> BONUS: Do a Pearson Correlation Matrix of the variables to the outcome, to see correlation **\n",
        "\n"
      ]
    }
  ]
}