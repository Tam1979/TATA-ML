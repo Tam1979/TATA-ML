{
  "nbformat": 4,
  "nbformat_minor": 0,
  "metadata": {
    "colab": {
      "name": "w2-3b-uber.ipynb",
      "version": "0.3.2",
      "provenance": [],
      "include_colab_link": true
    },
    "kernelspec": {
      "display_name": "Python 3",
      "language": "python",
      "name": "python3"
    }
  },
  "cells": [
    {
      "cell_type": "markdown",
      "metadata": {
        "id": "view-in-github",
        "colab_type": "text"
      },
      "source": [
        "<a href=\"https://colab.research.google.com/github/Tam1979/TATA-ML/blob/master/w2_3b_uber.ipynb\" target=\"_parent\"><img src=\"https://colab.research.google.com/assets/colab-badge.svg\" alt=\"Open In Colab\"/></a>"
      ]
    },
    {
      "metadata": {
        "id": "IsgUHIWuaVwf",
        "colab_type": "text"
      },
      "cell_type": "markdown",
      "source": [
        "# Clustering : K-Means : Uber Pickups\n",
        "\n",
        "This is data of Uber pickups in New York City.  \n",
        "The data is from this [kaggle competition](https://www.kaggle.com/fivethirtyeight/uber-pickups-in-new-york-city).\n",
        "\n",
        "Sample data looks like this\n",
        "```\n",
        "\"Date_Time\",\"Lat\",\"Lon\",\"Base\"\n",
        "\"4/1/2014 0:11:00\",40.769,-73.9549,\"B02512\"\n",
        "\"4/1/2014 0:17:00\",40.7267,-74.0345,\"B02512\"\n",
        "\"4/1/2014 0:21:00\",40.7316,-73.9873,\"B02512\"\n",
        "\"4/1/2014 0:28:00\",40.7588,-73.9776,\"B02512\"\n",
        "```"
      ]
    },
    {
      "metadata": {
        "id": "GBz_zagNaVwg",
        "colab_type": "code",
        "colab": {}
      },
      "cell_type": "code",
      "source": [
        "%matplotlib inline\n",
        "\n",
        "import time\n",
        "from matplotlib import pyplot\n",
        "from sklearn.cluster import KMeans\n",
        "import pandas as pd\n"
      ],
      "execution_count": 0,
      "outputs": []
    },
    {
      "metadata": {
        "id": "S2v1f_-XaVwk",
        "colab_type": "text"
      },
      "cell_type": "markdown",
      "source": [
        "## Step 1: Load the Data\n",
        "We will also specify schema to reduce loading time"
      ]
    },
    {
      "metadata": {
        "id": "SIeGsgiGaVwl",
        "colab_type": "code",
        "colab": {}
      },
      "cell_type": "code",
      "source": [
        "# file to read\n",
        "\n",
        "## sample file with 10,000 records\n",
        "data_file=\"https://s3.amazonaws.com/elephantscale-public/data/uber-nyc/uber-sample-10k.csv\"\n",
        "\n",
        "## larger file with about 500k records\n",
        "# data_file = \"https://s3.amazonaws.com/elephantscale-public/data/uber-nyc/uber-raw-data-apr14.csv.gz\"\n"
      ],
      "execution_count": 0,
      "outputs": []
    },
    {
      "metadata": {
        "id": "qPqi-1iaaVwp",
        "colab_type": "text"
      },
      "cell_type": "markdown",
      "source": [
        "### Specify Schema"
      ]
    },
    {
      "metadata": {
        "id": "G1z6Zkn5aVwq",
        "colab_type": "text"
      },
      "cell_type": "markdown",
      "source": [
        "### Read Data"
      ]
    },
    {
      "metadata": {
        "id": "nXl71dN6aVwr",
        "colab_type": "code",
        "outputId": "dd53fe68-4050-4ba5-a32b-c204eb27d586",
        "colab": {
          "base_uri": "https://localhost:8080/",
          "height": 1969
        }
      },
      "cell_type": "code",
      "source": [
        "uber_pickups = pd.read_csv(data_file)\n",
        "\n",
        "records_count_total = len(uber_pickups)\n",
        "uber_pickups"
      ],
      "execution_count": 0,
      "outputs": [
        {
          "output_type": "execute_result",
          "data": {
            "text/html": [
              "<div>\n",
              "<style scoped>\n",
              "    .dataframe tbody tr th:only-of-type {\n",
              "        vertical-align: middle;\n",
              "    }\n",
              "\n",
              "    .dataframe tbody tr th {\n",
              "        vertical-align: top;\n",
              "    }\n",
              "\n",
              "    .dataframe thead th {\n",
              "        text-align: right;\n",
              "    }\n",
              "</style>\n",
              "<table border=\"1\" class=\"dataframe\">\n",
              "  <thead>\n",
              "    <tr style=\"text-align: right;\">\n",
              "      <th></th>\n",
              "      <th>Date_Time</th>\n",
              "      <th>Lat</th>\n",
              "      <th>Lon</th>\n",
              "      <th>Base</th>\n",
              "    </tr>\n",
              "  </thead>\n",
              "  <tbody>\n",
              "    <tr>\n",
              "      <th>0</th>\n",
              "      <td>9/25/2014 15:28:00</td>\n",
              "      <td>40.7633</td>\n",
              "      <td>-73.9402</td>\n",
              "      <td>B02598</td>\n",
              "    </tr>\n",
              "    <tr>\n",
              "      <th>1</th>\n",
              "      <td>9/5/2014 3:50:00</td>\n",
              "      <td>40.7441</td>\n",
              "      <td>-74.0067</td>\n",
              "      <td>B02617</td>\n",
              "    </tr>\n",
              "    <tr>\n",
              "      <th>2</th>\n",
              "      <td>9/24/2014 13:39:00</td>\n",
              "      <td>40.7408</td>\n",
              "      <td>-73.9916</td>\n",
              "      <td>B02617</td>\n",
              "    </tr>\n",
              "    <tr>\n",
              "      <th>3</th>\n",
              "      <td>9/18/2014 0:31:00</td>\n",
              "      <td>40.7396</td>\n",
              "      <td>-74.0023</td>\n",
              "      <td>B02617</td>\n",
              "    </tr>\n",
              "    <tr>\n",
              "      <th>4</th>\n",
              "      <td>9/20/2014 11:22:00</td>\n",
              "      <td>40.7441</td>\n",
              "      <td>-73.9919</td>\n",
              "      <td>B02617</td>\n",
              "    </tr>\n",
              "    <tr>\n",
              "      <th>5</th>\n",
              "      <td>9/26/2014 17:03:00</td>\n",
              "      <td>40.6943</td>\n",
              "      <td>-73.9239</td>\n",
              "      <td>B02764</td>\n",
              "    </tr>\n",
              "    <tr>\n",
              "      <th>6</th>\n",
              "      <td>9/24/2014 18:59:00</td>\n",
              "      <td>40.8526</td>\n",
              "      <td>-73.8435</td>\n",
              "      <td>B02617</td>\n",
              "    </tr>\n",
              "    <tr>\n",
              "      <th>7</th>\n",
              "      <td>9/23/2014 16:33:00</td>\n",
              "      <td>40.7146</td>\n",
              "      <td>-74.0087</td>\n",
              "      <td>B02617</td>\n",
              "    </tr>\n",
              "    <tr>\n",
              "      <th>8</th>\n",
              "      <td>9/17/2014 22:16:00</td>\n",
              "      <td>40.7751</td>\n",
              "      <td>-73.9092</td>\n",
              "      <td>B02682</td>\n",
              "    </tr>\n",
              "    <tr>\n",
              "      <th>9</th>\n",
              "      <td>9/6/2014 11:13:00</td>\n",
              "      <td>40.7191</td>\n",
              "      <td>-73.9754</td>\n",
              "      <td>B02682</td>\n",
              "    </tr>\n",
              "    <tr>\n",
              "      <th>10</th>\n",
              "      <td>9/6/2014 11:43:00</td>\n",
              "      <td>40.7242</td>\n",
              "      <td>-73.9829</td>\n",
              "      <td>B02617</td>\n",
              "    </tr>\n",
              "    <tr>\n",
              "      <th>11</th>\n",
              "      <td>9/7/2014 1:36:00</td>\n",
              "      <td>40.7510</td>\n",
              "      <td>-73.9829</td>\n",
              "      <td>B02764</td>\n",
              "    </tr>\n",
              "    <tr>\n",
              "      <th>12</th>\n",
              "      <td>9/13/2014 22:59:00</td>\n",
              "      <td>40.7081</td>\n",
              "      <td>-73.9429</td>\n",
              "      <td>B02764</td>\n",
              "    </tr>\n",
              "    <tr>\n",
              "      <th>13</th>\n",
              "      <td>9/11/2014 18:48:00</td>\n",
              "      <td>40.7412</td>\n",
              "      <td>-74.0404</td>\n",
              "      <td>B02682</td>\n",
              "    </tr>\n",
              "    <tr>\n",
              "      <th>14</th>\n",
              "      <td>9/11/2014 19:10:00</td>\n",
              "      <td>40.7592</td>\n",
              "      <td>-73.9763</td>\n",
              "      <td>B02617</td>\n",
              "    </tr>\n",
              "    <tr>\n",
              "      <th>15</th>\n",
              "      <td>9/28/2014 23:13:00</td>\n",
              "      <td>40.7309</td>\n",
              "      <td>-73.9540</td>\n",
              "      <td>B02598</td>\n",
              "    </tr>\n",
              "    <tr>\n",
              "      <th>16</th>\n",
              "      <td>9/10/2014 19:38:00</td>\n",
              "      <td>40.7578</td>\n",
              "      <td>-73.8448</td>\n",
              "      <td>B02682</td>\n",
              "    </tr>\n",
              "    <tr>\n",
              "      <th>17</th>\n",
              "      <td>9/2/2014 11:50:00</td>\n",
              "      <td>40.7241</td>\n",
              "      <td>-74.0033</td>\n",
              "      <td>B02682</td>\n",
              "    </tr>\n",
              "    <tr>\n",
              "      <th>18</th>\n",
              "      <td>9/6/2014 12:33:00</td>\n",
              "      <td>40.7452</td>\n",
              "      <td>-73.9484</td>\n",
              "      <td>B02764</td>\n",
              "    </tr>\n",
              "    <tr>\n",
              "      <th>19</th>\n",
              "      <td>9/29/2014 10:32:00</td>\n",
              "      <td>40.7527</td>\n",
              "      <td>-73.9831</td>\n",
              "      <td>B02764</td>\n",
              "    </tr>\n",
              "    <tr>\n",
              "      <th>20</th>\n",
              "      <td>9/27/2014 20:40:00</td>\n",
              "      <td>40.7608</td>\n",
              "      <td>-73.9607</td>\n",
              "      <td>B02764</td>\n",
              "    </tr>\n",
              "    <tr>\n",
              "      <th>21</th>\n",
              "      <td>9/13/2014 19:08:00</td>\n",
              "      <td>40.7530</td>\n",
              "      <td>-74.0038</td>\n",
              "      <td>B02682</td>\n",
              "    </tr>\n",
              "    <tr>\n",
              "      <th>22</th>\n",
              "      <td>9/24/2014 10:57:00</td>\n",
              "      <td>40.7270</td>\n",
              "      <td>-73.9891</td>\n",
              "      <td>B02764</td>\n",
              "    </tr>\n",
              "    <tr>\n",
              "      <th>23</th>\n",
              "      <td>9/14/2014 19:17:00</td>\n",
              "      <td>40.7551</td>\n",
              "      <td>-73.9984</td>\n",
              "      <td>B02682</td>\n",
              "    </tr>\n",
              "    <tr>\n",
              "      <th>24</th>\n",
              "      <td>9/6/2014 18:09:00</td>\n",
              "      <td>40.7830</td>\n",
              "      <td>-73.9593</td>\n",
              "      <td>B02617</td>\n",
              "    </tr>\n",
              "    <tr>\n",
              "      <th>25</th>\n",
              "      <td>9/15/2014 9:37:00</td>\n",
              "      <td>40.7509</td>\n",
              "      <td>-73.9905</td>\n",
              "      <td>B02764</td>\n",
              "    </tr>\n",
              "    <tr>\n",
              "      <th>26</th>\n",
              "      <td>9/8/2014 7:39:00</td>\n",
              "      <td>40.7530</td>\n",
              "      <td>-74.0039</td>\n",
              "      <td>B02512</td>\n",
              "    </tr>\n",
              "    <tr>\n",
              "      <th>27</th>\n",
              "      <td>9/11/2014 18:18:00</td>\n",
              "      <td>40.7464</td>\n",
              "      <td>-73.9913</td>\n",
              "      <td>B02598</td>\n",
              "    </tr>\n",
              "    <tr>\n",
              "      <th>28</th>\n",
              "      <td>9/9/2014 9:31:00</td>\n",
              "      <td>40.7561</td>\n",
              "      <td>-73.9718</td>\n",
              "      <td>B02617</td>\n",
              "    </tr>\n",
              "    <tr>\n",
              "      <th>29</th>\n",
              "      <td>9/19/2014 13:13:00</td>\n",
              "      <td>40.7630</td>\n",
              "      <td>-73.9213</td>\n",
              "      <td>B02764</td>\n",
              "    </tr>\n",
              "    <tr>\n",
              "      <th>...</th>\n",
              "      <td>...</td>\n",
              "      <td>...</td>\n",
              "      <td>...</td>\n",
              "      <td>...</td>\n",
              "    </tr>\n",
              "    <tr>\n",
              "      <th>9969</th>\n",
              "      <td>9/24/2014 5:16:00</td>\n",
              "      <td>40.6932</td>\n",
              "      <td>-73.9721</td>\n",
              "      <td>B02617</td>\n",
              "    </tr>\n",
              "    <tr>\n",
              "      <th>9970</th>\n",
              "      <td>9/11/2014 15:52:00</td>\n",
              "      <td>40.7548</td>\n",
              "      <td>-73.9736</td>\n",
              "      <td>B02617</td>\n",
              "    </tr>\n",
              "    <tr>\n",
              "      <th>9971</th>\n",
              "      <td>9/29/2014 19:28:00</td>\n",
              "      <td>40.7707</td>\n",
              "      <td>-73.8653</td>\n",
              "      <td>B02617</td>\n",
              "    </tr>\n",
              "    <tr>\n",
              "      <th>9972</th>\n",
              "      <td>9/28/2014 18:59:00</td>\n",
              "      <td>40.7520</td>\n",
              "      <td>-73.9478</td>\n",
              "      <td>B02617</td>\n",
              "    </tr>\n",
              "    <tr>\n",
              "      <th>9973</th>\n",
              "      <td>9/13/2014 21:00:00</td>\n",
              "      <td>40.7281</td>\n",
              "      <td>-73.9957</td>\n",
              "      <td>B02617</td>\n",
              "    </tr>\n",
              "    <tr>\n",
              "      <th>9974</th>\n",
              "      <td>9/7/2014 2:06:00</td>\n",
              "      <td>40.7254</td>\n",
              "      <td>-73.9951</td>\n",
              "      <td>B02598</td>\n",
              "    </tr>\n",
              "    <tr>\n",
              "      <th>9975</th>\n",
              "      <td>9/16/2014 20:14:00</td>\n",
              "      <td>40.7733</td>\n",
              "      <td>-73.9790</td>\n",
              "      <td>B02682</td>\n",
              "    </tr>\n",
              "    <tr>\n",
              "      <th>9976</th>\n",
              "      <td>9/18/2014 11:01:00</td>\n",
              "      <td>40.7399</td>\n",
              "      <td>-73.9927</td>\n",
              "      <td>B02598</td>\n",
              "    </tr>\n",
              "    <tr>\n",
              "      <th>9977</th>\n",
              "      <td>9/30/2014 0:33:00</td>\n",
              "      <td>40.8033</td>\n",
              "      <td>-73.9662</td>\n",
              "      <td>B02617</td>\n",
              "    </tr>\n",
              "    <tr>\n",
              "      <th>9978</th>\n",
              "      <td>9/10/2014 11:28:00</td>\n",
              "      <td>40.7396</td>\n",
              "      <td>-73.9895</td>\n",
              "      <td>B02598</td>\n",
              "    </tr>\n",
              "    <tr>\n",
              "      <th>9979</th>\n",
              "      <td>9/1/2014 10:00:00</td>\n",
              "      <td>40.7258</td>\n",
              "      <td>-73.8516</td>\n",
              "      <td>B02617</td>\n",
              "    </tr>\n",
              "    <tr>\n",
              "      <th>9980</th>\n",
              "      <td>9/11/2014 19:49:00</td>\n",
              "      <td>40.7448</td>\n",
              "      <td>-73.9995</td>\n",
              "      <td>B02764</td>\n",
              "    </tr>\n",
              "    <tr>\n",
              "      <th>9981</th>\n",
              "      <td>9/28/2014 17:27:00</td>\n",
              "      <td>40.7710</td>\n",
              "      <td>-73.8659</td>\n",
              "      <td>B02764</td>\n",
              "    </tr>\n",
              "    <tr>\n",
              "      <th>9982</th>\n",
              "      <td>9/13/2014 23:55:00</td>\n",
              "      <td>40.7157</td>\n",
              "      <td>-73.9901</td>\n",
              "      <td>B02682</td>\n",
              "    </tr>\n",
              "    <tr>\n",
              "      <th>9983</th>\n",
              "      <td>9/16/2014 11:43:00</td>\n",
              "      <td>40.7410</td>\n",
              "      <td>-74.0053</td>\n",
              "      <td>B02617</td>\n",
              "    </tr>\n",
              "    <tr>\n",
              "      <th>9984</th>\n",
              "      <td>9/1/2014 1:08:00</td>\n",
              "      <td>40.7214</td>\n",
              "      <td>-73.9973</td>\n",
              "      <td>B02598</td>\n",
              "    </tr>\n",
              "    <tr>\n",
              "      <th>9985</th>\n",
              "      <td>9/3/2014 13:12:00</td>\n",
              "      <td>40.7274</td>\n",
              "      <td>-74.0073</td>\n",
              "      <td>B02764</td>\n",
              "    </tr>\n",
              "    <tr>\n",
              "      <th>9986</th>\n",
              "      <td>9/8/2014 15:44:00</td>\n",
              "      <td>40.7456</td>\n",
              "      <td>-73.9866</td>\n",
              "      <td>B02617</td>\n",
              "    </tr>\n",
              "    <tr>\n",
              "      <th>9987</th>\n",
              "      <td>9/14/2014 18:07:00</td>\n",
              "      <td>40.7707</td>\n",
              "      <td>-73.9588</td>\n",
              "      <td>B02598</td>\n",
              "    </tr>\n",
              "    <tr>\n",
              "      <th>9988</th>\n",
              "      <td>9/6/2014 20:02:00</td>\n",
              "      <td>40.7150</td>\n",
              "      <td>-74.0064</td>\n",
              "      <td>B02598</td>\n",
              "    </tr>\n",
              "    <tr>\n",
              "      <th>9989</th>\n",
              "      <td>9/21/2014 15:59:00</td>\n",
              "      <td>40.7831</td>\n",
              "      <td>-73.9530</td>\n",
              "      <td>B02764</td>\n",
              "    </tr>\n",
              "    <tr>\n",
              "      <th>9990</th>\n",
              "      <td>9/11/2014 15:59:00</td>\n",
              "      <td>40.7950</td>\n",
              "      <td>-73.9762</td>\n",
              "      <td>B02682</td>\n",
              "    </tr>\n",
              "    <tr>\n",
              "      <th>9991</th>\n",
              "      <td>9/12/2014 14:14:00</td>\n",
              "      <td>40.7495</td>\n",
              "      <td>-73.9794</td>\n",
              "      <td>B02617</td>\n",
              "    </tr>\n",
              "    <tr>\n",
              "      <th>9992</th>\n",
              "      <td>9/29/2014 10:40:00</td>\n",
              "      <td>40.7729</td>\n",
              "      <td>-73.9615</td>\n",
              "      <td>B02617</td>\n",
              "    </tr>\n",
              "    <tr>\n",
              "      <th>9993</th>\n",
              "      <td>9/6/2014 20:18:00</td>\n",
              "      <td>40.7731</td>\n",
              "      <td>-73.9570</td>\n",
              "      <td>B02617</td>\n",
              "    </tr>\n",
              "    <tr>\n",
              "      <th>9994</th>\n",
              "      <td>9/25/2014 20:15:00</td>\n",
              "      <td>40.7421</td>\n",
              "      <td>-74.0046</td>\n",
              "      <td>B02617</td>\n",
              "    </tr>\n",
              "    <tr>\n",
              "      <th>9995</th>\n",
              "      <td>9/19/2014 10:57:00</td>\n",
              "      <td>40.7245</td>\n",
              "      <td>-73.9999</td>\n",
              "      <td>B02598</td>\n",
              "    </tr>\n",
              "    <tr>\n",
              "      <th>9996</th>\n",
              "      <td>9/29/2014 14:53:00</td>\n",
              "      <td>40.7485</td>\n",
              "      <td>-73.9885</td>\n",
              "      <td>B02764</td>\n",
              "    </tr>\n",
              "    <tr>\n",
              "      <th>9997</th>\n",
              "      <td>9/30/2014 12:22:00</td>\n",
              "      <td>40.6823</td>\n",
              "      <td>-73.9252</td>\n",
              "      <td>B02764</td>\n",
              "    </tr>\n",
              "    <tr>\n",
              "      <th>9998</th>\n",
              "      <td>9/14/2014 17:30:00</td>\n",
              "      <td>40.7493</td>\n",
              "      <td>-73.9903</td>\n",
              "      <td>B02598</td>\n",
              "    </tr>\n",
              "  </tbody>\n",
              "</table>\n",
              "<p>9999 rows × 4 columns</p>\n",
              "</div>"
            ],
            "text/plain": [
              "               Date_Time      Lat      Lon    Base\n",
              "0     9/25/2014 15:28:00  40.7633 -73.9402  B02598\n",
              "1       9/5/2014 3:50:00  40.7441 -74.0067  B02617\n",
              "2     9/24/2014 13:39:00  40.7408 -73.9916  B02617\n",
              "3      9/18/2014 0:31:00  40.7396 -74.0023  B02617\n",
              "4     9/20/2014 11:22:00  40.7441 -73.9919  B02617\n",
              "5     9/26/2014 17:03:00  40.6943 -73.9239  B02764\n",
              "6     9/24/2014 18:59:00  40.8526 -73.8435  B02617\n",
              "7     9/23/2014 16:33:00  40.7146 -74.0087  B02617\n",
              "8     9/17/2014 22:16:00  40.7751 -73.9092  B02682\n",
              "9      9/6/2014 11:13:00  40.7191 -73.9754  B02682\n",
              "10     9/6/2014 11:43:00  40.7242 -73.9829  B02617\n",
              "11      9/7/2014 1:36:00  40.7510 -73.9829  B02764\n",
              "12    9/13/2014 22:59:00  40.7081 -73.9429  B02764\n",
              "13    9/11/2014 18:48:00  40.7412 -74.0404  B02682\n",
              "14    9/11/2014 19:10:00  40.7592 -73.9763  B02617\n",
              "15    9/28/2014 23:13:00  40.7309 -73.9540  B02598\n",
              "16    9/10/2014 19:38:00  40.7578 -73.8448  B02682\n",
              "17     9/2/2014 11:50:00  40.7241 -74.0033  B02682\n",
              "18     9/6/2014 12:33:00  40.7452 -73.9484  B02764\n",
              "19    9/29/2014 10:32:00  40.7527 -73.9831  B02764\n",
              "20    9/27/2014 20:40:00  40.7608 -73.9607  B02764\n",
              "21    9/13/2014 19:08:00  40.7530 -74.0038  B02682\n",
              "22    9/24/2014 10:57:00  40.7270 -73.9891  B02764\n",
              "23    9/14/2014 19:17:00  40.7551 -73.9984  B02682\n",
              "24     9/6/2014 18:09:00  40.7830 -73.9593  B02617\n",
              "25     9/15/2014 9:37:00  40.7509 -73.9905  B02764\n",
              "26      9/8/2014 7:39:00  40.7530 -74.0039  B02512\n",
              "27    9/11/2014 18:18:00  40.7464 -73.9913  B02598\n",
              "28      9/9/2014 9:31:00  40.7561 -73.9718  B02617\n",
              "29    9/19/2014 13:13:00  40.7630 -73.9213  B02764\n",
              "...                  ...      ...      ...     ...\n",
              "9969   9/24/2014 5:16:00  40.6932 -73.9721  B02617\n",
              "9970  9/11/2014 15:52:00  40.7548 -73.9736  B02617\n",
              "9971  9/29/2014 19:28:00  40.7707 -73.8653  B02617\n",
              "9972  9/28/2014 18:59:00  40.7520 -73.9478  B02617\n",
              "9973  9/13/2014 21:00:00  40.7281 -73.9957  B02617\n",
              "9974    9/7/2014 2:06:00  40.7254 -73.9951  B02598\n",
              "9975  9/16/2014 20:14:00  40.7733 -73.9790  B02682\n",
              "9976  9/18/2014 11:01:00  40.7399 -73.9927  B02598\n",
              "9977   9/30/2014 0:33:00  40.8033 -73.9662  B02617\n",
              "9978  9/10/2014 11:28:00  40.7396 -73.9895  B02598\n",
              "9979   9/1/2014 10:00:00  40.7258 -73.8516  B02617\n",
              "9980  9/11/2014 19:49:00  40.7448 -73.9995  B02764\n",
              "9981  9/28/2014 17:27:00  40.7710 -73.8659  B02764\n",
              "9982  9/13/2014 23:55:00  40.7157 -73.9901  B02682\n",
              "9983  9/16/2014 11:43:00  40.7410 -74.0053  B02617\n",
              "9984    9/1/2014 1:08:00  40.7214 -73.9973  B02598\n",
              "9985   9/3/2014 13:12:00  40.7274 -74.0073  B02764\n",
              "9986   9/8/2014 15:44:00  40.7456 -73.9866  B02617\n",
              "9987  9/14/2014 18:07:00  40.7707 -73.9588  B02598\n",
              "9988   9/6/2014 20:02:00  40.7150 -74.0064  B02598\n",
              "9989  9/21/2014 15:59:00  40.7831 -73.9530  B02764\n",
              "9990  9/11/2014 15:59:00  40.7950 -73.9762  B02682\n",
              "9991  9/12/2014 14:14:00  40.7495 -73.9794  B02617\n",
              "9992  9/29/2014 10:40:00  40.7729 -73.9615  B02617\n",
              "9993   9/6/2014 20:18:00  40.7731 -73.9570  B02617\n",
              "9994  9/25/2014 20:15:00  40.7421 -74.0046  B02617\n",
              "9995  9/19/2014 10:57:00  40.7245 -73.9999  B02598\n",
              "9996  9/29/2014 14:53:00  40.7485 -73.9885  B02764\n",
              "9997  9/30/2014 12:22:00  40.6823 -73.9252  B02764\n",
              "9998  9/14/2014 17:30:00  40.7493 -73.9903  B02598\n",
              "\n",
              "[9999 rows x 4 columns]"
            ]
          },
          "metadata": {
            "tags": []
          },
          "execution_count": 5
        }
      ]
    },
    {
      "metadata": {
        "id": "7tBHZMTjaVwt",
        "colab_type": "text"
      },
      "cell_type": "markdown",
      "source": [
        "## Step 2: Cleanup data\n",
        "make sure our data is clean"
      ]
    },
    {
      "metadata": {
        "id": "_Pq1tFowaVwu",
        "colab_type": "code",
        "outputId": "82a60dbf-9466-49a8-a2b5-a975ab8c6976",
        "colab": {
          "base_uri": "https://localhost:8080/",
          "height": 34
        }
      },
      "cell_type": "code",
      "source": [
        "uber_pickups_clean = uber_pickups.dropna(subset=['Lat', 'Lon'])\n",
        "records_count_clean = len(uber_pickups_clean)\n",
        "\n",
        "print (\"cleaned records {:,},  dropped {:,}\".format(records_count_clean,  (records_count_total - records_count_clean)))"
      ],
      "execution_count": 0,
      "outputs": [
        {
          "output_type": "stream",
          "text": [
            "cleaned records 9,999,  dropped 0\n"
          ],
          "name": "stdout"
        }
      ]
    },
    {
      "metadata": {
        "id": "k9AN7mjNaVwx",
        "colab_type": "text"
      },
      "cell_type": "markdown",
      "source": [
        "## Step 3 : Create Feature Vectors"
      ]
    },
    {
      "metadata": {
        "id": "A32_ArPJaVwy",
        "colab_type": "code",
        "colab": {}
      },
      "cell_type": "code",
      "source": [
        "## TODO : create a feature vectors using 'Lat'  and 'Lon'  attributes\n",
        "featureVector = uber_pickups_clean['Lat']\n",
        "featureVector = uber_pickups_clean['Lon']"
      ],
      "execution_count": 0,
      "outputs": []
    },
    {
      "metadata": {
        "id": "-JPsnF0JaVw0",
        "colab_type": "code",
        "outputId": "8d3e8fe1-8582-4a9f-ea8d-29d172307bbb",
        "colab": {
          "base_uri": "https://localhost:8080/",
          "height": 232
        }
      },
      "cell_type": "code",
      "source": [
        "## TODO : start with 4 clusters\n",
        "num_clusters = 4\n",
        "kmeans = KMeans(n_clusters=num_clusters, n_init=1)\n",
        "\n",
        "t1 = time.perf_counter('Lat')\n",
        "## TODO : fit (featureVector)\n",
        "model = kmeans.fit(featureVector)\n",
        "t2 = time.perf_counter('Lon')\n",
        "model = kmeans.fit(featureVector)\n",
        "wssse = model.inertia_\n",
        "\n",
        "\n",
        "print(\"Kmeans : {} clusters computed in {:,.2f} ms\".format( num_clusters,  ((t2-t1)*1000)))\n",
        "print (\"num_clusters = {},  WSSSE = {:,}\".format(num_clusters, wssse))"
      ],
      "execution_count": 0,
      "outputs": [
        {
          "output_type": "error",
          "ename": "TypeError",
          "evalue": "ignored",
          "traceback": [
            "\u001b[0;31m---------------------------------------------------------------------------\u001b[0m",
            "\u001b[0;31mTypeError\u001b[0m                                 Traceback (most recent call last)",
            "\u001b[0;32m<ipython-input-14-7c795692d999>\u001b[0m in \u001b[0;36m<module>\u001b[0;34m()\u001b[0m\n\u001b[1;32m      2\u001b[0m \u001b[0mkmeans\u001b[0m \u001b[0;34m=\u001b[0m \u001b[0mKMeans\u001b[0m\u001b[0;34m(\u001b[0m\u001b[0mn_clusters\u001b[0m\u001b[0;34m=\u001b[0m\u001b[0mnum_clusters\u001b[0m\u001b[0;34m,\u001b[0m \u001b[0mn_init\u001b[0m\u001b[0;34m=\u001b[0m\u001b[0;36m1\u001b[0m\u001b[0;34m)\u001b[0m\u001b[0;34m\u001b[0m\u001b[0;34m\u001b[0m\u001b[0m\n\u001b[1;32m      3\u001b[0m \u001b[0;34m\u001b[0m\u001b[0m\n\u001b[0;32m----> 4\u001b[0;31m \u001b[0mt1\u001b[0m \u001b[0;34m=\u001b[0m \u001b[0mtime\u001b[0m\u001b[0;34m.\u001b[0m\u001b[0mperf_counter\u001b[0m\u001b[0;34m(\u001b[0m\u001b[0;34m'Lat'\u001b[0m\u001b[0;34m)\u001b[0m\u001b[0;34m\u001b[0m\u001b[0;34m\u001b[0m\u001b[0m\n\u001b[0m\u001b[1;32m      5\u001b[0m \u001b[0;31m## TODO : fit (featureVector)\u001b[0m\u001b[0;34m\u001b[0m\u001b[0;34m\u001b[0m\u001b[0;34m\u001b[0m\u001b[0m\n\u001b[1;32m      6\u001b[0m \u001b[0mmodel\u001b[0m \u001b[0;34m=\u001b[0m \u001b[0mkmeans\u001b[0m\u001b[0;34m.\u001b[0m\u001b[0mfit\u001b[0m\u001b[0;34m(\u001b[0m\u001b[0mfeatureVector\u001b[0m\u001b[0;34m)\u001b[0m\u001b[0;34m\u001b[0m\u001b[0;34m\u001b[0m\u001b[0m\n",
            "\u001b[0;31mTypeError\u001b[0m: perf_counter() takes no arguments (1 given)"
          ]
        }
      ]
    },
    {
      "metadata": {
        "collapsed": true,
        "id": "_PVsTG6_aVw3",
        "colab_type": "text"
      },
      "cell_type": "markdown",
      "source": [
        "## Step 5: Let's find the best K - Hyperparameter tuning\n",
        "\n",
        "Let's try iterating and plotting over values of k, so we can practice using the elbow method.\n"
      ]
    },
    {
      "metadata": {
        "id": "LBg0p0y2aVw4",
        "colab_type": "code",
        "outputId": "f58f766f-4e92-414d-8a35-3af93d869361",
        "colab": {
          "base_uri": "https://localhost:8080/",
          "height": 232
        }
      },
      "cell_type": "code",
      "source": [
        "kvals = []\n",
        "wssses = []\n",
        "\n",
        "## TODO : loop over k values from 2 to 10\n",
        "for k in range(2,3,4,5,6,7,8,9,10):\n",
        "    kmeans = KMeans(n_clusters=k, n_init=1)\n",
        "    t1 = time.perf_counter()\n",
        "    model = kmeans.fit(featureVector)\n",
        "    t2 = time.perf_counter()\n",
        "    wssse = model.inertia_\n",
        "    print (\"k={},  wssse={},  time took {:,.2f} ms\".format(k,wssse, ((t2-t1)*1000)))\n",
        "    kvals.append(k)\n",
        "    wssses.append(wssse)"
      ],
      "execution_count": 0,
      "outputs": [
        {
          "output_type": "error",
          "ename": "TypeError",
          "evalue": "ignored",
          "traceback": [
            "\u001b[0;31m---------------------------------------------------------------------------\u001b[0m",
            "\u001b[0;31mTypeError\u001b[0m                                 Traceback (most recent call last)",
            "\u001b[0;32m<ipython-input-17-1155ade71d2b>\u001b[0m in \u001b[0;36m<module>\u001b[0;34m()\u001b[0m\n\u001b[1;32m      3\u001b[0m \u001b[0;34m\u001b[0m\u001b[0m\n\u001b[1;32m      4\u001b[0m \u001b[0;31m## TODO : loop over k values from 2 to 10\u001b[0m\u001b[0;34m\u001b[0m\u001b[0;34m\u001b[0m\u001b[0;34m\u001b[0m\u001b[0m\n\u001b[0;32m----> 5\u001b[0;31m \u001b[0;32mfor\u001b[0m \u001b[0mk\u001b[0m \u001b[0;32min\u001b[0m \u001b[0mrange\u001b[0m\u001b[0;34m(\u001b[0m\u001b[0;36m2\u001b[0m\u001b[0;34m,\u001b[0m\u001b[0;36m3\u001b[0m\u001b[0;34m,\u001b[0m\u001b[0;36m4\u001b[0m\u001b[0;34m,\u001b[0m\u001b[0;36m5\u001b[0m\u001b[0;34m,\u001b[0m\u001b[0;36m6\u001b[0m\u001b[0;34m,\u001b[0m\u001b[0;36m7\u001b[0m\u001b[0;34m,\u001b[0m\u001b[0;36m8\u001b[0m\u001b[0;34m,\u001b[0m\u001b[0;36m9\u001b[0m\u001b[0;34m,\u001b[0m\u001b[0;36m10\u001b[0m\u001b[0;34m)\u001b[0m\u001b[0;34m:\u001b[0m\u001b[0;34m\u001b[0m\u001b[0;34m\u001b[0m\u001b[0m\n\u001b[0m\u001b[1;32m      6\u001b[0m     \u001b[0mkmeans\u001b[0m \u001b[0;34m=\u001b[0m \u001b[0mKMeans\u001b[0m\u001b[0;34m(\u001b[0m\u001b[0mn_clusters\u001b[0m\u001b[0;34m=\u001b[0m\u001b[0mk\u001b[0m\u001b[0;34m,\u001b[0m \u001b[0mn_init\u001b[0m\u001b[0;34m=\u001b[0m\u001b[0;36m1\u001b[0m\u001b[0;34m)\u001b[0m\u001b[0;34m\u001b[0m\u001b[0;34m\u001b[0m\u001b[0m\n\u001b[1;32m      7\u001b[0m     \u001b[0mt1\u001b[0m \u001b[0;34m=\u001b[0m \u001b[0mtime\u001b[0m\u001b[0;34m.\u001b[0m\u001b[0mperf_counter\u001b[0m\u001b[0;34m(\u001b[0m\u001b[0;34m)\u001b[0m\u001b[0;34m\u001b[0m\u001b[0;34m\u001b[0m\u001b[0m\n",
            "\u001b[0;31mTypeError\u001b[0m: range expected at most 3 arguments, got 9"
          ]
        }
      ]
    },
    {
      "metadata": {
        "id": "a-LXHVYwaVw7",
        "colab_type": "code",
        "outputId": "95108578-1910-463d-90c7-abd6fb9c723a",
        "colab": {
          "base_uri": "https://localhost:8080/",
          "height": 198
        }
      },
      "cell_type": "code",
      "source": [
        "import pandas as pd\n",
        "df = pd.DataFrame({'k': kvals, 'wssse':wssses})\n",
        "df"
      ],
      "execution_count": 0,
      "outputs": [
        {
          "output_type": "error",
          "ename": "NameError",
          "evalue": "ignored",
          "traceback": [
            "\u001b[0;31m---------------------------------------------------------------------------\u001b[0m",
            "\u001b[0;31mNameError\u001b[0m                                 Traceback (most recent call last)",
            "\u001b[0;32m<ipython-input-16-afa836dffb97>\u001b[0m in \u001b[0;36m<module>\u001b[0;34m()\u001b[0m\n\u001b[1;32m      1\u001b[0m \u001b[0;32mimport\u001b[0m \u001b[0mpandas\u001b[0m \u001b[0;32mas\u001b[0m \u001b[0mpd\u001b[0m\u001b[0;34m\u001b[0m\u001b[0;34m\u001b[0m\u001b[0m\n\u001b[0;32m----> 2\u001b[0;31m \u001b[0mdf\u001b[0m \u001b[0;34m=\u001b[0m \u001b[0mpd\u001b[0m\u001b[0;34m.\u001b[0m\u001b[0mDataFrame\u001b[0m\u001b[0;34m(\u001b[0m\u001b[0;34m{\u001b[0m\u001b[0;34m'k'\u001b[0m\u001b[0;34m:\u001b[0m \u001b[0mkvals\u001b[0m\u001b[0;34m,\u001b[0m \u001b[0;34m'wssse'\u001b[0m\u001b[0;34m:\u001b[0m\u001b[0mwssses\u001b[0m\u001b[0;34m}\u001b[0m\u001b[0;34m)\u001b[0m\u001b[0;34m\u001b[0m\u001b[0;34m\u001b[0m\u001b[0m\n\u001b[0m\u001b[1;32m      3\u001b[0m \u001b[0mdf\u001b[0m\u001b[0;34m\u001b[0m\u001b[0;34m\u001b[0m\u001b[0m\n",
            "\u001b[0;31mNameError\u001b[0m: name 'kvals' is not defined"
          ]
        }
      ]
    },
    {
      "metadata": {
        "id": "1dZsT7kDaVw-",
        "colab_type": "code",
        "colab": {}
      },
      "cell_type": "code",
      "source": [
        "pyplot.plot(kvals, wssses)"
      ],
      "execution_count": 0,
      "outputs": []
    },
    {
      "metadata": {
        "id": "NBV3EGBgaVxC",
        "colab_type": "text"
      },
      "cell_type": "markdown",
      "source": [
        "## Step 6 : Let's run K-Means with the best K we have choosen\n",
        "From the graph above, choose a good K value.  We wwill use that below"
      ]
    },
    {
      "metadata": {
        "id": "HiJ-AgipaVxF",
        "colab_type": "code",
        "outputId": "c2c03db5-9db3-49dc-f371-7df81604140e",
        "colab": {
          "base_uri": "https://localhost:8080/",
          "height": 643
        }
      },
      "cell_type": "code",
      "source": [
        "## TODO : pick a K value\n",
        "num_clusters = 4\n",
        "kmeans = KMeans(n_clusters=num_clusters, n_init=1)\n",
        "\n",
        "t1 = time.perf_counter()\n",
        "model = kmeans.fit(featureVector)\n",
        "t2 = time.perf_counter()\n",
        "\n",
        "wssse = model.inertia_\n",
        "\n",
        "\n",
        "print(\"Kmeans : {} clusters computed in {:,.2f} ms\".format( num_clusters,  ((t2-t1)*1000)))\n",
        "print (\"num_clusters = {},  WSSSE = {:,}\".format(num_clusters, wssse))"
      ],
      "execution_count": 0,
      "outputs": [
        {
          "output_type": "error",
          "ename": "ValueError",
          "evalue": "ignored",
          "traceback": [
            "\u001b[0;31m---------------------------------------------------------------------------\u001b[0m",
            "\u001b[0;31mValueError\u001b[0m                                Traceback (most recent call last)",
            "\u001b[0;32m<ipython-input-18-f09160c539a0>\u001b[0m in \u001b[0;36m<module>\u001b[0;34m()\u001b[0m\n\u001b[1;32m      3\u001b[0m \u001b[0;34m\u001b[0m\u001b[0m\n\u001b[1;32m      4\u001b[0m \u001b[0mt1\u001b[0m \u001b[0;34m=\u001b[0m \u001b[0mtime\u001b[0m\u001b[0;34m.\u001b[0m\u001b[0mperf_counter\u001b[0m\u001b[0;34m(\u001b[0m\u001b[0;34m)\u001b[0m\u001b[0;34m\u001b[0m\u001b[0;34m\u001b[0m\u001b[0m\n\u001b[0;32m----> 5\u001b[0;31m \u001b[0mmodel\u001b[0m \u001b[0;34m=\u001b[0m \u001b[0mkmeans\u001b[0m\u001b[0;34m.\u001b[0m\u001b[0mfit\u001b[0m\u001b[0;34m(\u001b[0m\u001b[0mfeatureVector\u001b[0m\u001b[0;34m)\u001b[0m\u001b[0;34m\u001b[0m\u001b[0;34m\u001b[0m\u001b[0m\n\u001b[0m\u001b[1;32m      6\u001b[0m \u001b[0mt2\u001b[0m \u001b[0;34m=\u001b[0m \u001b[0mtime\u001b[0m\u001b[0;34m.\u001b[0m\u001b[0mperf_counter\u001b[0m\u001b[0;34m(\u001b[0m\u001b[0;34m)\u001b[0m\u001b[0;34m\u001b[0m\u001b[0;34m\u001b[0m\u001b[0m\n\u001b[1;32m      7\u001b[0m \u001b[0;34m\u001b[0m\u001b[0m\n",
            "\u001b[0;32m/usr/local/lib/python3.6/dist-packages/sklearn/cluster/k_means_.py\u001b[0m in \u001b[0;36mfit\u001b[0;34m(self, X, y, sample_weight)\u001b[0m\n\u001b[1;32m    969\u001b[0m                 \u001b[0mtol\u001b[0m\u001b[0;34m=\u001b[0m\u001b[0mself\u001b[0m\u001b[0;34m.\u001b[0m\u001b[0mtol\u001b[0m\u001b[0;34m,\u001b[0m \u001b[0mrandom_state\u001b[0m\u001b[0;34m=\u001b[0m\u001b[0mrandom_state\u001b[0m\u001b[0;34m,\u001b[0m \u001b[0mcopy_x\u001b[0m\u001b[0;34m=\u001b[0m\u001b[0mself\u001b[0m\u001b[0;34m.\u001b[0m\u001b[0mcopy_x\u001b[0m\u001b[0;34m,\u001b[0m\u001b[0;34m\u001b[0m\u001b[0;34m\u001b[0m\u001b[0m\n\u001b[1;32m    970\u001b[0m                 \u001b[0mn_jobs\u001b[0m\u001b[0;34m=\u001b[0m\u001b[0mself\u001b[0m\u001b[0;34m.\u001b[0m\u001b[0mn_jobs\u001b[0m\u001b[0;34m,\u001b[0m \u001b[0malgorithm\u001b[0m\u001b[0;34m=\u001b[0m\u001b[0mself\u001b[0m\u001b[0;34m.\u001b[0m\u001b[0malgorithm\u001b[0m\u001b[0;34m,\u001b[0m\u001b[0;34m\u001b[0m\u001b[0;34m\u001b[0m\u001b[0m\n\u001b[0;32m--> 971\u001b[0;31m                 return_n_iter=True)\n\u001b[0m\u001b[1;32m    972\u001b[0m         \u001b[0;32mreturn\u001b[0m \u001b[0mself\u001b[0m\u001b[0;34m\u001b[0m\u001b[0;34m\u001b[0m\u001b[0m\n\u001b[1;32m    973\u001b[0m \u001b[0;34m\u001b[0m\u001b[0m\n",
            "\u001b[0;32m/usr/local/lib/python3.6/dist-packages/sklearn/cluster/k_means_.py\u001b[0m in \u001b[0;36mk_means\u001b[0;34m(X, n_clusters, sample_weight, init, precompute_distances, n_init, max_iter, verbose, tol, random_state, copy_x, n_jobs, algorithm, return_n_iter)\u001b[0m\n\u001b[1;32m    309\u001b[0m     \u001b[0morder\u001b[0m \u001b[0;34m=\u001b[0m \u001b[0;34m\"C\"\u001b[0m \u001b[0;32mif\u001b[0m \u001b[0mcopy_x\u001b[0m \u001b[0;32melse\u001b[0m \u001b[0;32mNone\u001b[0m\u001b[0;34m\u001b[0m\u001b[0;34m\u001b[0m\u001b[0m\n\u001b[1;32m    310\u001b[0m     X = check_array(X, accept_sparse='csr', dtype=[np.float64, np.float32],\n\u001b[0;32m--> 311\u001b[0;31m                     order=order, copy=copy_x)\n\u001b[0m\u001b[1;32m    312\u001b[0m     \u001b[0;31m# verify that the number of samples given is larger than k\u001b[0m\u001b[0;34m\u001b[0m\u001b[0;34m\u001b[0m\u001b[0;34m\u001b[0m\u001b[0m\n\u001b[1;32m    313\u001b[0m     \u001b[0;32mif\u001b[0m \u001b[0m_num_samples\u001b[0m\u001b[0;34m(\u001b[0m\u001b[0mX\u001b[0m\u001b[0;34m)\u001b[0m \u001b[0;34m<\u001b[0m \u001b[0mn_clusters\u001b[0m\u001b[0;34m:\u001b[0m\u001b[0;34m\u001b[0m\u001b[0;34m\u001b[0m\u001b[0m\n",
            "\u001b[0;32m/usr/local/lib/python3.6/dist-packages/sklearn/utils/validation.py\u001b[0m in \u001b[0;36mcheck_array\u001b[0;34m(array, accept_sparse, accept_large_sparse, dtype, order, copy, force_all_finite, ensure_2d, allow_nd, ensure_min_samples, ensure_min_features, warn_on_dtype, estimator)\u001b[0m\n\u001b[1;32m    550\u001b[0m                     \u001b[0;34m\"Reshape your data either using array.reshape(-1, 1) if \"\u001b[0m\u001b[0;34m\u001b[0m\u001b[0;34m\u001b[0m\u001b[0m\n\u001b[1;32m    551\u001b[0m                     \u001b[0;34m\"your data has a single feature or array.reshape(1, -1) \"\u001b[0m\u001b[0;34m\u001b[0m\u001b[0;34m\u001b[0m\u001b[0m\n\u001b[0;32m--> 552\u001b[0;31m                     \"if it contains a single sample.\".format(array))\n\u001b[0m\u001b[1;32m    553\u001b[0m \u001b[0;34m\u001b[0m\u001b[0m\n\u001b[1;32m    554\u001b[0m         \u001b[0;31m# in the future np.flexible dtypes will be handled like object dtypes\u001b[0m\u001b[0;34m\u001b[0m\u001b[0;34m\u001b[0m\u001b[0;34m\u001b[0m\u001b[0m\n",
            "\u001b[0;31mValueError\u001b[0m: Expected 2D array, got 1D array instead:\narray=[-73.9402 -74.0067 -73.9916 ... -73.9885 -73.9252 -73.9903].\nReshape your data either using array.reshape(-1, 1) if your data has a single feature or array.reshape(1, -1) if it contains a single sample."
          ]
        }
      ]
    },
    {
      "metadata": {
        "id": "Faen3oGAaVxJ",
        "colab_type": "text"
      },
      "cell_type": "markdown",
      "source": [
        "### Predict"
      ]
    },
    {
      "metadata": {
        "id": "wb5IFq42aVxL",
        "colab_type": "code",
        "colab": {}
      },
      "cell_type": "code",
      "source": [
        "t1 = time.perf_counter()\n",
        "predicted = uber_pickups_clean\n",
        "predicted['prediction'] = model.predict(featureVector)\n",
        "t2 = time.perf_counter()\n",
        "\n",
        "print (\"{:,} records clustered in {:,.2f} ms\".format(len(predicted), ((t2-t1)*1000) ))\n",
        "\n",
        "predicted"
      ],
      "execution_count": 0,
      "outputs": []
    },
    {
      "metadata": {
        "id": "QPIrR_knaVxR",
        "colab_type": "text"
      },
      "cell_type": "markdown",
      "source": [
        "## Step 7 : Print Cluster Center and Size"
      ]
    },
    {
      "metadata": {
        "id": "sHm-cOwAaVxS",
        "colab_type": "code",
        "colab": {}
      },
      "cell_type": "code",
      "source": [
        "cluster_count = predicted.groupby(\"prediction\").size()\n",
        "cluster_count\n",
        "\n"
      ],
      "execution_count": 0,
      "outputs": []
    },
    {
      "metadata": {
        "id": "lrB9vM8HaVxY",
        "colab_type": "text"
      },
      "cell_type": "markdown",
      "source": [
        "## Step 8 : Ploting time!\n",
        "We are going to plot the results now.  \n",
        "Since we are dealing with GEO co-ordinates, let's use Google Maps!  \n",
        "\n",
        "Go to the following URL :  \n",
        "[https://jsfiddle.net/sujee/omypetfu/](https://jsfiddle.net/sujee/omypetfu/)\n",
        "\n",
        "- Run the code cell below\n",
        "- copy paste the output into Javascript section of the JSFiddle Editor (lower left)\n",
        "- and click 'Run'  (top nav bar)\n",
        "- Click on 'tidy' (top nav bar)  to cleanup code\n",
        "\n",
        "See the following image \n",
        "\n",
        "<img src=\"../assets/images/kmeans_uber_trips_map.png\" style=\"border: 5px solid grey ; max-width:100%;\" />\n",
        "\n",
        "You will be rewarded with a beautiful map of clusters on Google Maps\n",
        "\n",
        "<img src=\"../assets/images/Kmeans_uber_trips.png\" style=\"border: 5px solid grey ; max-width:100%;\" />\n",
        "\n",
        "Optional\n",
        "- You can 'fork' the snippet and keep tweaking"
      ]
    },
    {
      "metadata": {
        "id": "XrCaEqrFaVxZ",
        "colab_type": "code",
        "outputId": "ec520eec-30ea-4da7-de50-94245afae48a",
        "colab": {
          "base_uri": "https://localhost:8080/",
          "height": 232
        }
      },
      "cell_type": "code",
      "source": [
        "### generate Javascript\n",
        "s1 = \"var clusters = {\"\n",
        "\n",
        "s2 = \"\"\n",
        "\n",
        "prediction_count = predicted.groupby(\"prediction\").size()\n",
        "total_count = 0\n",
        "cluster_centers = model.cluster_centers_\n",
        "for i in range(0, num_clusters):\n",
        "    count = prediction_count[i]\n",
        "    lat = cluster_centers[i][0]\n",
        "    lng = cluster_centers[i][1]\n",
        "    total_count = total_count + count\n",
        "    if (i > 0):\n",
        "        s2 = s2 + \",\"\n",
        "    s2 = s2 + \" {}: {{ center: {{ lat: {}, lng: {} }}, count: {} }}\".\\\n",
        "        format(i, lat, lng, count)\n",
        "    #s2 = s2 + \"{}: {{  center: {{ }}, }}\".format(i)\n",
        "\n",
        "s3 = s1 + s2 + \"};\"\n",
        "\n",
        "s4 = \"\"\"\n",
        "function initMap() {\n",
        "  // Create the map.\n",
        "  var map = new google.maps.Map(document.getElementById('map'), {\n",
        "    zoom: 10,\n",
        "    center: {\n",
        "      lat: 40.77274573,\n",
        "      lng: -73.94\n",
        "    },\n",
        "    mapTypeId: 'roadmap'\n",
        "  });\n",
        "\n",
        "  // Construct the circle for each value in citymap.\n",
        "  // Note: We scale the area of the circle based on the population.\n",
        "  for (var cluster in clusters) {\n",
        "    // Add the circle for this city to the map.\n",
        "    var cityCircle = new google.maps.Circle({\n",
        "      strokeColor: '#FF0000',\n",
        "      strokeOpacity: 0.8,\n",
        "      strokeWeight: 2,\n",
        "      fillColor: '#FF0000',\n",
        "      fillOpacity: 0.35,\n",
        "      map: map,\n",
        "      center: clusters[cluster].center,\n",
        "\"\"\"\n",
        "\n",
        "s5 = \"radius: clusters[cluster].count / {} * 100 * 300 }});  }}}}\".format(total_count)\n",
        "\n",
        "# final\n",
        "s = s3 + s4 + s5\n",
        "\n",
        "print(s)"
      ],
      "execution_count": 0,
      "outputs": [
        {
          "output_type": "error",
          "ename": "NameError",
          "evalue": "ignored",
          "traceback": [
            "\u001b[0;31m---------------------------------------------------------------------------\u001b[0m",
            "\u001b[0;31mNameError\u001b[0m                                 Traceback (most recent call last)",
            "\u001b[0;32m<ipython-input-19-440b42ce2a0e>\u001b[0m in \u001b[0;36m<module>\u001b[0;34m()\u001b[0m\n\u001b[1;32m      3\u001b[0m \u001b[0ms2\u001b[0m \u001b[0;34m=\u001b[0m \u001b[0;34m\"\"\u001b[0m\u001b[0;34m\u001b[0m\u001b[0;34m\u001b[0m\u001b[0m\n\u001b[1;32m      4\u001b[0m \u001b[0;34m\u001b[0m\u001b[0m\n\u001b[0;32m----> 5\u001b[0;31m \u001b[0mprediction_count\u001b[0m \u001b[0;34m=\u001b[0m \u001b[0mpredicted\u001b[0m\u001b[0;34m.\u001b[0m\u001b[0mgroupby\u001b[0m\u001b[0;34m(\u001b[0m\u001b[0;34m\"prediction\"\u001b[0m\u001b[0;34m)\u001b[0m\u001b[0;34m.\u001b[0m\u001b[0msize\u001b[0m\u001b[0;34m(\u001b[0m\u001b[0;34m)\u001b[0m\u001b[0;34m\u001b[0m\u001b[0;34m\u001b[0m\u001b[0m\n\u001b[0m\u001b[1;32m      6\u001b[0m \u001b[0mtotal_count\u001b[0m \u001b[0;34m=\u001b[0m \u001b[0;36m0\u001b[0m\u001b[0;34m\u001b[0m\u001b[0;34m\u001b[0m\u001b[0m\n\u001b[1;32m      7\u001b[0m \u001b[0mcluster_centers\u001b[0m \u001b[0;34m=\u001b[0m \u001b[0mmodel\u001b[0m\u001b[0;34m.\u001b[0m\u001b[0mcluster_centers_\u001b[0m\u001b[0;34m\u001b[0m\u001b[0;34m\u001b[0m\u001b[0m\n",
            "\u001b[0;31mNameError\u001b[0m: name 'predicted' is not defined"
          ]
        }
      ]
    },
    {
      "metadata": {
        "collapsed": true,
        "id": "k_fP4_zXaVxd",
        "colab_type": "text"
      },
      "cell_type": "markdown",
      "source": [
        "## Step 9: Let's analyze some more data\n",
        "\n",
        "- In Step-1 select the data_file to \n",
        "```\n",
        "data_file = \"/data/uber-nyc/uber-raw-data-apr14.csv.gz\"\n",
        "```\n",
        "- And select 'Cell --> Run All'  to execute all code blocks\n"
      ]
    },
    {
      "metadata": {
        "id": "CDPjw2XcaVxe",
        "colab_type": "text"
      },
      "cell_type": "markdown",
      "source": [
        "## Step 10 : Running the script\n",
        "\n",
        "**Use the download script**\n",
        "\n",
        "```bash\n",
        "cd   ~/data/uber-nyc\n",
        "./download-data.sh\n",
        "```\n",
        "\n",
        "This will download more data.\n",
        "\n",
        "As we run on larger dataset, the execution will take longer and Jupyter notebook might time out.  So let's run this in command line / script mode\n",
        "\n",
        "```bash\n",
        "\n",
        "$    cd   ~/ml-labs-python/clustering\n",
        "\n",
        "$    time  python  kmeans-uber.py 2> logs\n",
        "\n",
        "```\n",
        "\n",
        "Watch the output\n"
      ]
    }
  ]
}