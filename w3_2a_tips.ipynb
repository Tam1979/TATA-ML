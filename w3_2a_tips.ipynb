{
  "nbformat": 4,
  "nbformat_minor": 0,
  "metadata": {
    "colab": {
      "name": "w3-2a-tips.ipynb",
      "version": "0.3.2",
      "provenance": [],
      "collapsed_sections": [],
      "include_colab_link": true
    },
    "kernelspec": {
      "display_name": "Python 3",
      "language": "python",
      "name": "python3"
    }
  },
  "cells": [
    {
      "cell_type": "markdown",
      "metadata": {
        "id": "view-in-github",
        "colab_type": "text"
      },
      "source": [
        "<a href=\"https://colab.research.google.com/github/Tam1979/TATA-ML/blob/master/w3_2a_tips.ipynb\" target=\"_parent\"><img src=\"https://colab.research.google.com/assets/colab-badge.svg\" alt=\"Open In Colab\"/></a>"
      ]
    },
    {
      "metadata": {
        "id": "TVKbYbtllutI",
        "colab_type": "text"
      },
      "cell_type": "markdown",
      "source": [
        "<link rel='stylesheet' href='../assets/css/main.css'/>\n",
        "\n",
        "[<< back to main index](../README.md)\n",
        "\n",
        "# Linear Regression in using Tensorflow \n",
        "\n",
        "### Overview\n",
        "Instructor to demo this on screen.\n",
        " \n",
        "### Builds on\n",
        "None\n",
        "\n",
        "### Run time\n",
        "approx. 20-30 minutes\n",
        "\n",
        "### Notes\n",
        "\n",
        "We can do linear regression with ordinary. "
      ]
    },
    {
      "metadata": {
        "id": "EVaT7D5NlutO",
        "colab_type": "code",
        "outputId": "838cd666-62de-4270-b9fb-08fac4e84e69",
        "colab": {
          "base_uri": "https://localhost:8080/",
          "height": 34
        }
      },
      "cell_type": "code",
      "source": [
        "# Install the package for running tensorboard on google colaboration\n",
        "!pip install -U tensorboardcolab"
      ],
      "execution_count": 0,
      "outputs": [
        {
          "output_type": "stream",
          "text": [
            "Requirement already up-to-date: tensorboardcolab in /usr/local/lib/python3.6/dist-packages (0.0.22)\n"
          ],
          "name": "stdout"
        }
      ]
    },
    {
      "metadata": {
        "id": "50Pzsd7Uluta",
        "colab_type": "code",
        "outputId": "f5796f78-22fd-4b35-b88d-49f28b9ead7b",
        "colab": {
          "base_uri": "https://localhost:8080/",
          "height": 85
        }
      },
      "cell_type": "code",
      "source": [
        "%matplotlib inline\n",
        "\n",
        "import numpy as np\n",
        "import pandas as pd\n",
        "from scipy import stats\n",
        "import matplotlib.pyplot as plt\n",
        "import tensorflow as tf\n",
        "\n",
        "try:\n",
        "  import google.colab\n",
        "  IN_COLAB = True\n",
        "except:\n",
        "  IN_COLAB = False\n",
        "if IN_COLAB == True:\n",
        "  from tensorboardcolab import *\n",
        "  tbc=TensorBoardColab()"
      ],
      "execution_count": 0,
      "outputs": [
        {
          "output_type": "stream",
          "text": [
            "Using TensorFlow backend.\n"
          ],
          "name": "stderr"
        },
        {
          "output_type": "stream",
          "text": [
            "Wait for 8 seconds...\n",
            "TensorBoard link:\n",
            "http://98201441.ngrok.io\n"
          ],
          "name": "stdout"
        }
      ]
    },
    {
      "metadata": {
        "id": "Uz8biICGlutj",
        "colab_type": "text"
      },
      "cell_type": "markdown",
      "source": [
        "## Example : Tips\n",
        "Here is our tip data.  This shows 10 observations of bill with tip amounts."
      ]
    },
    {
      "metadata": {
        "id": "Bm2-ugOLlutm",
        "colab_type": "text"
      },
      "cell_type": "markdown",
      "source": [
        "| bill | tip | \n",
        "|------|-----| \n",
        "| 50   | 12  | \n",
        "| 30   | 7   | \n",
        "| 60   | 13  | \n",
        "| 40   | 8   | \n",
        "| 65   | 15  | \n",
        "| 20   | 5   | \n",
        "| 10   | 2   | \n",
        "| 15   | 2   | \n",
        "| 25   | 3   | \n",
        "| 35   | 4   | "
      ]
    },
    {
      "metadata": {
        "id": "0Do1udoOlutq",
        "colab_type": "text"
      },
      "cell_type": "markdown",
      "source": [
        "## Step 1: Let's create a Pandas dataframe with the data\n"
      ]
    },
    {
      "metadata": {
        "attributes": {
          "classes": [
            "R"
          ],
          "id": ""
        },
        "id": "R6sKCeDblutt",
        "colab_type": "code",
        "outputId": "a02a16b5-2106-4c25-890d-25c7fbf6d8ca",
        "colab": {
          "base_uri": "https://localhost:8080/",
          "height": 359
        }
      },
      "cell_type": "code",
      "source": [
        "tip_data = pd.DataFrame({'bill' : [50.00, 30.00, 60.00, 40.00, 65.00, 20.00, 10.00, 15.00, 25.00, 35.00],\n",
        "              'tip' : [12.00, 7.00, 13.00, 8.00, 15.00, 5.00, 2.00, 2.00, 3.00, 4.00]\n",
        "             })\n",
        "\n",
        "tip_data\n"
      ],
      "execution_count": 0,
      "outputs": [
        {
          "output_type": "execute_result",
          "data": {
            "text/html": [
              "<div>\n",
              "<style scoped>\n",
              "    .dataframe tbody tr th:only-of-type {\n",
              "        vertical-align: middle;\n",
              "    }\n",
              "\n",
              "    .dataframe tbody tr th {\n",
              "        vertical-align: top;\n",
              "    }\n",
              "\n",
              "    .dataframe thead th {\n",
              "        text-align: right;\n",
              "    }\n",
              "</style>\n",
              "<table border=\"1\" class=\"dataframe\">\n",
              "  <thead>\n",
              "    <tr style=\"text-align: right;\">\n",
              "      <th></th>\n",
              "      <th>bill</th>\n",
              "      <th>tip</th>\n",
              "    </tr>\n",
              "  </thead>\n",
              "  <tbody>\n",
              "    <tr>\n",
              "      <th>0</th>\n",
              "      <td>50.0</td>\n",
              "      <td>12.0</td>\n",
              "    </tr>\n",
              "    <tr>\n",
              "      <th>1</th>\n",
              "      <td>30.0</td>\n",
              "      <td>7.0</td>\n",
              "    </tr>\n",
              "    <tr>\n",
              "      <th>2</th>\n",
              "      <td>60.0</td>\n",
              "      <td>13.0</td>\n",
              "    </tr>\n",
              "    <tr>\n",
              "      <th>3</th>\n",
              "      <td>40.0</td>\n",
              "      <td>8.0</td>\n",
              "    </tr>\n",
              "    <tr>\n",
              "      <th>4</th>\n",
              "      <td>65.0</td>\n",
              "      <td>15.0</td>\n",
              "    </tr>\n",
              "    <tr>\n",
              "      <th>5</th>\n",
              "      <td>20.0</td>\n",
              "      <td>5.0</td>\n",
              "    </tr>\n",
              "    <tr>\n",
              "      <th>6</th>\n",
              "      <td>10.0</td>\n",
              "      <td>2.0</td>\n",
              "    </tr>\n",
              "    <tr>\n",
              "      <th>7</th>\n",
              "      <td>15.0</td>\n",
              "      <td>2.0</td>\n",
              "    </tr>\n",
              "    <tr>\n",
              "      <th>8</th>\n",
              "      <td>25.0</td>\n",
              "      <td>3.0</td>\n",
              "    </tr>\n",
              "    <tr>\n",
              "      <th>9</th>\n",
              "      <td>35.0</td>\n",
              "      <td>4.0</td>\n",
              "    </tr>\n",
              "  </tbody>\n",
              "</table>\n",
              "</div>"
            ],
            "text/plain": [
              "   bill   tip\n",
              "0  50.0  12.0\n",
              "1  30.0   7.0\n",
              "2  60.0  13.0\n",
              "3  40.0   8.0\n",
              "4  65.0  15.0\n",
              "5  20.0   5.0\n",
              "6  10.0   2.0\n",
              "7  15.0   2.0\n",
              "8  25.0   3.0\n",
              "9  35.0   4.0"
            ]
          },
          "metadata": {
            "tags": []
          },
          "execution_count": 3
        }
      ]
    },
    {
      "metadata": {
        "id": "NrMI2Qxvlut4",
        "colab_type": "text"
      },
      "cell_type": "markdown",
      "source": [
        "## Step 2: Let's do a quick plot of the data\n",
        "\n",
        "Let us use matplotlib to do a quick scatter plot of the data.\n",
        "\n",
        "**=>TODO: plot the bill (X-axis), versus the tip (Y-axis)**"
      ]
    },
    {
      "metadata": {
        "scrolled": true,
        "id": "V01tvEb2lut6",
        "colab_type": "code",
        "outputId": "98dddb56-b73e-4fad-b477-52ae01acb14e",
        "colab": {
          "base_uri": "https://localhost:8080/",
          "height": 279
        }
      },
      "cell_type": "code",
      "source": [
        "plt.scatter(tip_data.bill, tip_data.tip)\n",
        "plt.ylabel('tip')\n",
        "plt.xlabel('bill')\n",
        "plt.show()"
      ],
      "execution_count": 0,
      "outputs": [
        {
          "output_type": "display_data",
          "data": {
            "image/png": "[encoded data removed]",
            "text/plain": [
              "<Figure size 432x288 with 1 Axes>"
            ]
          },
          "metadata": {
            "tags": []
          }
        }
      ]
    },
    {
      "metadata": {
        "id": "lO2iyKGbluuD",
        "colab_type": "code",
        "outputId": "58e47ea8-fd93-401c-d3ac-2fed2550f9c0",
        "colab": {
          "base_uri": "https://localhost:8080/",
          "height": 54
        }
      },
      "cell_type": "code",
      "source": [
        "x = tip_data['bill'].values\n",
        "y = tip_data['tip'].values\n",
        "print('bill = ' + str(x))\n",
        "print('tip = ' + str(y))"
      ],
      "execution_count": 0,
      "outputs": [
        {
          "output_type": "stream",
          "text": [
            "bill = [50. 30. 60. 40. 65. 20. 10. 15. 25. 35.]\n",
            "tip = [12.  7. 13.  8. 15.  5.  2.  2.  3.  4.]\n"
          ],
          "name": "stdout"
        }
      ]
    },
    {
      "metadata": {
        "id": "zr2wrrsVluuP",
        "colab_type": "text"
      },
      "cell_type": "markdown",
      "source": [
        "## Step 3: Let's set up our TF Linear Regression\n",
        "\n",
        "We'll set up the TF Linear Regression."
      ]
    },
    {
      "metadata": {
        "id": "BbXUG7AKluuR",
        "colab_type": "code",
        "colab": {}
      },
      "cell_type": "code",
      "source": [
        "class TfLinreg(object):\n",
        "    \n",
        "    def __init__(self, x_dim, learning_rate=0.01,\n",
        "                 random_seed=None):\n",
        "        self.x_dim = x_dim\n",
        "        self.learning_rate = learning_rate\n",
        "        self.g = tf.Graph()\n",
        "        ## build the model\n",
        "        with self.g.as_default():\n",
        "            ## set graph-level random-seed\n",
        "            tf.set_random_seed(random_seed)\n",
        "            \n",
        "            self.build()\n",
        "            ## create initializer\n",
        "            self.init_op = tf.global_variables_initializer()\n",
        "        \n",
        "    def build(self):\n",
        "        ## define placeholders for inputs\n",
        "        self.X = tf.placeholder(dtype=tf.float32,\n",
        "                                shape=(None, self.x_dim),\n",
        "                                name='x_input')\n",
        "        self.y = tf.placeholder(dtype=tf.float32,\n",
        "                                shape=(None),\n",
        "                                name='y_input')\n",
        "        print(self.X)\n",
        "        print(self.y)\n",
        "        ## define weight matrix and bias vector\n",
        "        self.w = tf.Variable(tf.zeros(shape=(1)),\n",
        "                        name='weight')\n",
        "        self.b = tf.Variable(tf.zeros(shape=(1)), \n",
        "                        name=\"bias\")\n",
        "        print(self.w)\n",
        "        print(self.b)\n",
        "\n",
        "        self.z_net = tf.squeeze(self.w*self.X + self.b,\n",
        "                                name='z_net')\n",
        "        print(self.z_net)\n",
        "        \n",
        "        sqr_errors = tf.square(self.y - self.z_net, \n",
        "                               name='sqr_errors')\n",
        "        print(sqr_errors)\n",
        "        self.mean_cost = tf.reduce_mean(sqr_errors,\n",
        "                                        name='mean_cost')\n",
        "        \n",
        "        optimizer = tf.train.GradientDescentOptimizer(\n",
        "                    learning_rate=self.learning_rate, \n",
        "                    name='GradientDescent')\n",
        "        self.optimizer = optimizer.minimize(self.mean_cost)"
      ],
      "execution_count": 0,
      "outputs": []
    },
    {
      "metadata": {
        "id": "WOdcD1Qnluue",
        "colab_type": "code",
        "colab": {}
      },
      "cell_type": "code",
      "source": [
        "### TODO: instantiate model with learning rate = 0.0001"
      ],
      "execution_count": 0,
      "outputs": []
    },
    {
      "metadata": {
        "id": "J8LmXh11luus",
        "colab_type": "code",
        "outputId": "194b521f-cd2d-4e43-cc4c-e357a30810ff",
        "colab": {
          "base_uri": "https://localhost:8080/",
          "height": 241
        }
      },
      "cell_type": "code",
      "source": [
        "lrmodel = TfLinreg(x_dim=1, learning_rate=0.01) # TODO: Fill in learning rate"
      ],
      "execution_count": 0,
      "outputs": [
        {
          "output_type": "stream",
          "text": [
            "Tensor(\"x_input:0\", shape=(?, 1), dtype=float32)\n",
            "Tensor(\"y_input:0\", dtype=float32)\n",
            "WARNING:tensorflow:From /usr/local/lib/python3.6/dist-packages/tensorflow/python/framework/op_def_library.py:263: colocate_with (from tensorflow.python.framework.ops) is deprecated and will be removed in a future version.\n",
            "Instructions for updating:\n",
            "Colocations handled automatically by placer.\n",
            "<tf.Variable 'weight:0' shape=(1,) dtype=float32_ref>\n",
            "<tf.Variable 'bias:0' shape=(1,) dtype=float32_ref>\n",
            "Tensor(\"z_net:0\", dtype=float32)\n",
            "Tensor(\"sqr_errors:0\", dtype=float32)\n",
            "WARNING:tensorflow:From /usr/local/lib/python3.6/dist-packages/tensorflow/python/ops/math_ops.py:3066: to_int32 (from tensorflow.python.ops.math_ops) is deprecated and will be removed in a future version.\n",
            "Instructions for updating:\n",
            "Use tf.cast instead.\n"
          ],
          "name": "stdout"
        }
      ]
    },
    {
      "metadata": {
        "id": "pbO2O83pluu1",
        "colab_type": "text"
      },
      "cell_type": "markdown",
      "source": [
        "## Step 4: Do the Training"
      ]
    },
    {
      "metadata": {
        "id": "tvG_d6V2luu4",
        "colab_type": "code",
        "colab": {}
      },
      "cell_type": "code",
      "source": [
        "#tf.reset_default_graph() # for tensorboard\n",
        "\n",
        "def train_linreg(sess, model, X_train, y_train, x, num_epochs=10):\n",
        "    logs_path = '/tmp/tensorflow_logs/example/' # path to save tensorboard graph\n",
        "    ## initialiaze all variables: W & b\n",
        "    \n",
        "    sess.run(model.init_op)\n",
        "    writer = tf.summary.FileWriter(logs_path, sess.graph) # writing data for tensorboard\n",
        "    training_costs = [10]\n",
        "    for i in range(num_epochs):\n",
        "        _, cost  = sess.run([model.optimizer, model.mean_cost], \n",
        "                           feed_dict={model.X:X_train, \n",
        "                                      model.y:y_train})\n",
        "        training_costs.append(cost)\n",
        "        try:\n",
        "              import google.colab\n",
        "              IN_COLAB = True\n",
        "        except:\n",
        "              IN_COLAB = False\n",
        "        if IN_COLAB == True:\n",
        "            summary_writer = tbc.get_writer()\n",
        "            summary_writer.add_graph(sess.graph)\n",
        "            Summary_writer.add_cost(sess.run)\n",
        "            Summery_writer.add_x.reshape # saving data on google colab\n",
        "        #writer.add_summary(cost, epoch * total_batch + i)\n",
        "        \n",
        "        \n",
        "    return training_costs"
      ],
      "execution_count": 0,
      "outputs": []
    },
    {
      "metadata": {
        "id": "SFCZlceJluu9",
        "colab_type": "code",
        "outputId": "ba8790e8-9ccc-4fe0-b20b-2f7895272dc7",
        "colab": {
          "base_uri": "https://localhost:8080/",
          "height": 198
        }
      },
      "cell_type": "code",
      "source": [
        "\n",
        "sess = tf.Session(graph=lrmodel.g)\n",
        "training_costs = train_linreg(sess, lrmodel, x.reshape(10,1),y)"
      ],
      "execution_count": 0,
      "outputs": [
        {
          "output_type": "error",
          "ename": "NameError",
          "evalue": "ignored",
          "traceback": [
            "\u001b[0;31m---------------------------------------------------------------------------\u001b[0m",
            "\u001b[0;31mNameError\u001b[0m                                 Traceback (most recent call last)",
            "\u001b[0;32m<ipython-input-34-1a080056a11e>\u001b[0m in \u001b[0;36m<module>\u001b[0;34m()\u001b[0m\n\u001b[1;32m      1\u001b[0m \u001b[0;34m\u001b[0m\u001b[0m\n\u001b[1;32m      2\u001b[0m \u001b[0msess\u001b[0m \u001b[0;34m=\u001b[0m \u001b[0mtf\u001b[0m\u001b[0;34m.\u001b[0m\u001b[0mSession\u001b[0m\u001b[0;34m(\u001b[0m\u001b[0mgraph\u001b[0m\u001b[0;34m=\u001b[0m\u001b[0mlrmodel\u001b[0m\u001b[0;34m.\u001b[0m\u001b[0mg\u001b[0m\u001b[0;34m)\u001b[0m\u001b[0;34m\u001b[0m\u001b[0;34m\u001b[0m\u001b[0m\n\u001b[0;32m----> 3\u001b[0;31m \u001b[0mtraining_costs\u001b[0m \u001b[0;34m=\u001b[0m \u001b[0mtrain_linreg\u001b[0m\u001b[0;34m(\u001b[0m\u001b[0msess\u001b[0m\u001b[0;34m,\u001b[0m \u001b[0mlrmodel\u001b[0m\u001b[0;34m,\u001b[0m \u001b[0mx\u001b[0m\u001b[0;34m.\u001b[0m\u001b[0mreshape\u001b[0m\u001b[0;34m(\u001b[0m\u001b[0;36m10\u001b[0m\u001b[0;34m,\u001b[0m\u001b[0;36m1\u001b[0m\u001b[0;34m)\u001b[0m\u001b[0;34m,\u001b[0m\u001b[0my\u001b[0m\u001b[0;34m)\u001b[0m\u001b[0;34m\u001b[0m\u001b[0;34m\u001b[0m\u001b[0m\n\u001b[0m",
            "\u001b[0;31mNameError\u001b[0m: name 'x' is not defined"
          ]
        }
      ]
    },
    {
      "metadata": {
        "id": "nxMfDtXiluvI",
        "colab_type": "text"
      },
      "cell_type": "markdown",
      "source": [
        "## Step 5: Look at the Loss Curve"
      ]
    },
    {
      "metadata": {
        "id": "17x7Jo01luvJ",
        "colab_type": "code",
        "outputId": "bef60d4a-6dbd-42ae-9eaa-021d4f39d407",
        "colab": {
          "base_uri": "https://localhost:8080/",
          "height": 232
        }
      },
      "cell_type": "code",
      "source": [
        "import matplotlib.pyplot as plt\n",
        "\n",
        "plt.plot(range(1,len(training_costs) + 1), training_costs)\n",
        "plt.tight_layout()\n",
        "plt.xlabel('Epoch')\n",
        "plt.ylabel('Training Cost')\n",
        "#plt.savefig('images/13_01.png', dpi=300)\n",
        "plt.show()"
      ],
      "execution_count": 0,
      "outputs": [
        {
          "output_type": "error",
          "ename": "NameError",
          "evalue": "ignored",
          "traceback": [
            "\u001b[0;31m---------------------------------------------------------------------------\u001b[0m",
            "\u001b[0;31mNameError\u001b[0m                                 Traceback (most recent call last)",
            "\u001b[0;32m<ipython-input-13-fc1bd8180866>\u001b[0m in \u001b[0;36m<module>\u001b[0;34m()\u001b[0m\n\u001b[1;32m      1\u001b[0m \u001b[0;32mimport\u001b[0m \u001b[0mmatplotlib\u001b[0m\u001b[0;34m.\u001b[0m\u001b[0mpyplot\u001b[0m \u001b[0;32mas\u001b[0m \u001b[0mplt\u001b[0m\u001b[0;34m\u001b[0m\u001b[0;34m\u001b[0m\u001b[0m\n\u001b[1;32m      2\u001b[0m \u001b[0;34m\u001b[0m\u001b[0m\n\u001b[0;32m----> 3\u001b[0;31m \u001b[0mplt\u001b[0m\u001b[0;34m.\u001b[0m\u001b[0mplot\u001b[0m\u001b[0;34m(\u001b[0m\u001b[0mrange\u001b[0m\u001b[0;34m(\u001b[0m\u001b[0;36m1\u001b[0m\u001b[0;34m,\u001b[0m\u001b[0mlen\u001b[0m\u001b[0;34m(\u001b[0m\u001b[0mtraining_costs\u001b[0m\u001b[0;34m)\u001b[0m \u001b[0;34m+\u001b[0m \u001b[0;36m1\u001b[0m\u001b[0;34m)\u001b[0m\u001b[0;34m,\u001b[0m \u001b[0mtraining_costs\u001b[0m\u001b[0;34m)\u001b[0m\u001b[0;34m\u001b[0m\u001b[0;34m\u001b[0m\u001b[0m\n\u001b[0m\u001b[1;32m      4\u001b[0m \u001b[0mplt\u001b[0m\u001b[0;34m.\u001b[0m\u001b[0mtight_layout\u001b[0m\u001b[0;34m(\u001b[0m\u001b[0;34m)\u001b[0m\u001b[0;34m\u001b[0m\u001b[0;34m\u001b[0m\u001b[0m\n\u001b[1;32m      5\u001b[0m \u001b[0mplt\u001b[0m\u001b[0;34m.\u001b[0m\u001b[0mxlabel\u001b[0m\u001b[0;34m(\u001b[0m\u001b[0;34m'Epoch'\u001b[0m\u001b[0;34m)\u001b[0m\u001b[0;34m\u001b[0m\u001b[0;34m\u001b[0m\u001b[0m\n",
            "\u001b[0;31mNameError\u001b[0m: name 'training_costs' is not defined"
          ]
        }
      ]
    },
    {
      "metadata": {
        "id": "oZqrSx0QluvU",
        "colab_type": "text"
      },
      "cell_type": "markdown",
      "source": [
        "## Step 6: Look at the result of the plot"
      ]
    },
    {
      "metadata": {
        "id": "pNg9pelJluvV",
        "colab_type": "code",
        "colab": {}
      },
      "cell_type": "code",
      "source": [
        "def predict_linreg(sess, model, X_test):\n",
        "    y_pred = sess.run(model.z_net, \n",
        "                      feed_dict={model.X:X_test})\n",
        "    return y_pred"
      ],
      "execution_count": 0,
      "outputs": []
    },
    {
      "metadata": {
        "id": "2139Gv7xluvc",
        "colab_type": "code",
        "outputId": "b4221407-fb5d-46b3-ece9-e20e45145caa",
        "colab": {
          "base_uri": "https://localhost:8080/",
          "height": 232
        }
      },
      "cell_type": "code",
      "source": [
        "plt.scatter(x, y,\n",
        "            marker='s', s=50,\n",
        "            label='Training Data')\n",
        "plt.plot(x, \n",
        "         predict_linreg(sess, lrmodel, x.reshape(10,1)),\n",
        "         color='gray', marker='o', \n",
        "         markersize=6, linewidth=3,\n",
        "         label='LinReg Model')\n",
        "plt.xlabel('x')\n",
        "plt.ylabel('y')\n",
        "plt.legend()\n",
        "plt.tight_layout()\n",
        "plt.show()"
      ],
      "execution_count": 0,
      "outputs": [
        {
          "output_type": "error",
          "ename": "NameError",
          "evalue": "ignored",
          "traceback": [
            "\u001b[0;31m---------------------------------------------------------------------------\u001b[0m",
            "\u001b[0;31mNameError\u001b[0m                                 Traceback (most recent call last)",
            "\u001b[0;32m<ipython-input-16-a33a765e941a>\u001b[0m in \u001b[0;36m<module>\u001b[0;34m()\u001b[0m\n\u001b[0;32m----> 1\u001b[0;31m plt.scatter(x, y,\n\u001b[0m\u001b[1;32m      2\u001b[0m             \u001b[0mmarker\u001b[0m\u001b[0;34m=\u001b[0m\u001b[0;34m's'\u001b[0m\u001b[0;34m,\u001b[0m \u001b[0ms\u001b[0m\u001b[0;34m=\u001b[0m\u001b[0;36m50\u001b[0m\u001b[0;34m,\u001b[0m\u001b[0;34m\u001b[0m\u001b[0;34m\u001b[0m\u001b[0m\n\u001b[1;32m      3\u001b[0m             label='Training Data')\n\u001b[1;32m      4\u001b[0m plt.plot(x, \n\u001b[1;32m      5\u001b[0m          \u001b[0mpredict_linreg\u001b[0m\u001b[0;34m(\u001b[0m\u001b[0msess\u001b[0m\u001b[0;34m,\u001b[0m \u001b[0mlrmodel\u001b[0m\u001b[0;34m,\u001b[0m \u001b[0mx\u001b[0m\u001b[0;34m.\u001b[0m\u001b[0mreshape\u001b[0m\u001b[0;34m(\u001b[0m\u001b[0;36m10\u001b[0m\u001b[0;34m,\u001b[0m\u001b[0;36m1\u001b[0m\u001b[0;34m)\u001b[0m\u001b[0;34m)\u001b[0m\u001b[0;34m,\u001b[0m\u001b[0;34m\u001b[0m\u001b[0;34m\u001b[0m\u001b[0m\n",
            "\u001b[0;31mNameError\u001b[0m: name 'x' is not defined"
          ]
        }
      ]
    },
    {
      "metadata": {
        "id": "kr32kXp4luvp",
        "colab_type": "text"
      },
      "cell_type": "markdown",
      "source": [
        "### Step 6: Get Weight and Bias Variables for future reference\n",
        "\n",
        "Let's save the weight and bias variables because we will need htem."
      ]
    },
    {
      "metadata": {
        "id": "nxL2sHa8luvs",
        "colab_type": "code",
        "colab": {}
      },
      "cell_type": "code",
      "source": [
        "def get_weight_bias(sess, model):\n",
        "    return sess.run((model.w[0], model.b[0]))\n",
        "    \n",
        "weight,bias = get_weight_bias(sess,lrmodel)"
      ],
      "execution_count": 0,
      "outputs": []
    },
    {
      "metadata": {
        "id": "ZMRyCK45luv1",
        "colab_type": "text"
      },
      "cell_type": "markdown",
      "source": [
        "## Step 7: Plot the fit line (abline)\n",
        "\n",
        "**=>TODO: Do a scatterplot of bill versus tip **"
      ]
    },
    {
      "metadata": {
        "id": "5rjrK0D3luv8",
        "colab_type": "code",
        "outputId": "0da1cbea-22ca-4986-d088-d9dc05bc84cd",
        "colab": {
          "base_uri": "https://localhost:8080/",
          "height": 294
        }
      },
      "cell_type": "code",
      "source": [
        "# Create a list of values in the best fit line\n",
        "# TODO: Fill in gradient and intercept in formula\n",
        "abline_values = [10 * i + 1 for i in tip_data.bill]\n",
        "\n",
        "# Plot the best fit line over the actual values\n",
        "plt.scatter(tip_data.bill, tip_data.tip)\n",
        "plt.plot(tip_data.bill, abline_values, 'b')\n",
        "plt.ylabel('tip')\n",
        "plt.xlabel('bill')\n",
        "plt.title(\"Fit Line\")\n",
        "plt.show()"
      ],
      "execution_count": 0,
      "outputs": [
        {
          "output_type": "display_data",
          "data": {
            "image/png": "[encoded data removed]",
            "text/plain": [
              "<Figure size 432x288 with 1 Axes>"
            ]
          },
          "metadata": {
            "tags": []
          }
        }
      ]
    },
    {
      "metadata": {
        "id": "jTzO9T2NluwG",
        "colab_type": "code",
        "colab": {}
      },
      "cell_type": "code",
      "source": [
        "# Make a prediction using the slope and the intercept\n",
        "y_pred = tip_data.bill.values.reshape(10,1)\n",
        "y_test = tip_data.tip.values.reshape(10,1)\n",
        "\n",
        "\n"
      ],
      "execution_count": 0,
      "outputs": []
    },
    {
      "metadata": {
        "id": "-g5UwOtIluwP",
        "colab_type": "text"
      },
      "cell_type": "markdown",
      "source": [
        "## Step 8: Use the predict() function to plot abline\n"
      ]
    },
    {
      "metadata": {
        "id": "sfCHn4hmluwT",
        "colab_type": "code",
        "colab": {}
      },
      "cell_type": "code",
      "source": [
        "plt.scatter(x, y,\n",
        "            marker='s', s=50,\n",
        "            label='Training Data')\n",
        "plt.plot(x, \n",
        "         predict_linreg(sess, lrmodel, x.reshape(10,1)),\n",
        "         color='gray', marker='o', \n",
        "         markersize=6, linewidth=3,\n",
        "         label='LinReg Model')\n",
        "plt.xlabel('x')\n",
        "plt.ylabel('y')\n",
        "plt.legend()\n",
        "plt.tight_layout()\n",
        "plt.show()"
      ],
      "execution_count": 0,
      "outputs": []
    },
    {
      "metadata": {
        "id": "ykPjroTBluwf",
        "colab_type": "text"
      },
      "cell_type": "markdown",
      "source": [
        "## Step 9: Plot the residuals\n",
        "\n",
        "Residuals are the error, or difference between the model predicted and model actual.  We'd like these to be as small as possible, with residuals roughly balanced.   We don't want a model that consistently predicts values too high or too low.\n",
        "\n",
        "**=>TODO: do a plot of the bill (x-value) versus residuals (y-value) **"
      ]
    },
    {
      "metadata": {
        "id": "RsBBYcpqluwh",
        "colab_type": "code",
        "colab": {}
      },
      "cell_type": "code",
      "source": [
        "resid = (10 * tip_data.bill + 1) - tip_data.tip"
      ],
      "execution_count": 0,
      "outputs": []
    },
    {
      "metadata": {
        "id": "R2n1250nluwo",
        "colab_type": "code",
        "outputId": "ad090c0e-fe15-4735-a101-ec564211990c",
        "colab": {
          "base_uri": "https://localhost:8080/",
          "height": 294
        }
      },
      "cell_type": "code",
      "source": [
        "plt.scatter(tip_data.bill, resid)\n",
        "plt.axhline(y=0, color='r', linestyle='-')  # horizon\n",
        "plt.ylabel('Residuals')\n",
        "plt.xlabel('bill')\n",
        "plt.title(\"Residuals\")\n",
        "plt.show()\n",
        "\n",
        "\n"
      ],
      "execution_count": 0,
      "outputs": [
        {
          "output_type": "display_data",
          "data": {
            "image/png": "[encoded data removed]",
            "text/plain": [
              "<Figure size 432x288 with 1 Axes>"
            ]
          },
          "metadata": {
            "tags": []
          }
        }
      ]
    },
    {
      "metadata": {
        "id": "EqOIWIdpluws",
        "colab_type": "text"
      },
      "cell_type": "markdown",
      "source": [
        "## Step 10 : Identify Coefficients\n",
        "\n",
        "### Intercept and Slope\n",
        "We can see them from output"
      ]
    },
    {
      "metadata": {
        "attributes": {
          "classes": [
            "console"
          ],
          "id": ""
        },
        "collapsed": true,
        "id": "weTqWiIEluwt",
        "colab_type": "text"
      },
      "cell_type": "markdown",
      "source": [
        "Coefficients:\n",
        "            Estimate \n",
        "(Intercept) -0.8217112049846651\n",
        "bill        0.226334605857"
      ]
    },
    {
      "metadata": {
        "id": "-QELeIzSluw1",
        "colab_type": "text"
      },
      "cell_type": "markdown",
      "source": [
        "- **Slope** (of line) : ** 0.226334605857**\n",
        "- **Intercept** (where line meets Y-axis) : **-0.8217112049846651**  (below zero line)\n",
        "\n",
        "We can also get these programatically.  \n",
        "If `tip = a * amount + b`"
      ]
    },
    {
      "metadata": {
        "attributes": {
          "classes": [
            "R"
          ],
          "id": ""
        },
        "id": "6mcil15bluw6",
        "colab_type": "code",
        "colab": {}
      },
      "cell_type": "code",
      "source": [
        "\n",
        "# Print the coefficients and intercept for linear regression\n",
        "print(\"Coefficients: %s\" % str(weight))\n",
        "print(\"Intercept: %s\" % str(bias))\n",
        "\n",
        "a = weight\n",
        "b = bias\n"
      ],
      "execution_count": 0,
      "outputs": []
    },
    {
      "metadata": {
        "id": "3sv8YsZdluxC",
        "colab_type": "text"
      },
      "cell_type": "markdown",
      "source": [
        "**==>  Question : Does bill amount influence tip amount? (are they strongly linked?) **\n",
        "\n",
        "\n",
        "**==>  Question : How would you find this out?) **\n",
        "\n",
        "\n",
        "\n"
      ]
    },
    {
      "metadata": {
        "id": "NtduS-_7luxF",
        "colab_type": "text"
      },
      "cell_type": "markdown",
      "source": [
        "### TODO: Calcluate Tip for 100 bill."
      ]
    },
    {
      "metadata": {
        "attributes": {
          "classes": [
            "R"
          ],
          "id": ""
        },
        "id": "pFK8piDMluxG",
        "colab_type": "code",
        "outputId": "8400b0a2-da9c-40a6-881c-eb8faced91e3",
        "colab": {
          "base_uri": "https://localhost:8080/",
          "height": 34
        }
      },
      "cell_type": "code",
      "source": [
        "tip_for_100 = 10 * 100 + 1 \n",
        "print(tip_for_100)\n"
      ],
      "execution_count": 0,
      "outputs": [
        {
          "output_type": "stream",
          "text": [
            "1001\n"
          ],
          "name": "stdout"
        }
      ]
    },
    {
      "metadata": {
        "id": "SCYoHc6nluxP",
        "colab_type": "text"
      },
      "cell_type": "markdown",
      "source": [
        "## Step 12: Add a estimated_tip column to pandas dataframe\n",
        "\n",
        "**=>TODO: create a new pandas column called est_tip **"
      ]
    },
    {
      "metadata": {
        "attributes": {
          "classes": [
            "R"
          ],
          "id": ""
        },
        "id": "opfSte98luxS",
        "colab_type": "code",
        "outputId": "da99e2e7-016a-47a1-fcdf-d92a3609b6c8",
        "colab": {
          "base_uri": "https://localhost:8080/",
          "height": 359
        }
      },
      "cell_type": "code",
      "source": [
        "tip_data['est_tip'] =  100\n",
        "tip_data"
      ],
      "execution_count": 0,
      "outputs": [
        {
          "output_type": "execute_result",
          "data": {
            "text/html": [
              "<div>\n",
              "<style scoped>\n",
              "    .dataframe tbody tr th:only-of-type {\n",
              "        vertical-align: middle;\n",
              "    }\n",
              "\n",
              "    .dataframe tbody tr th {\n",
              "        vertical-align: top;\n",
              "    }\n",
              "\n",
              "    .dataframe thead th {\n",
              "        text-align: right;\n",
              "    }\n",
              "</style>\n",
              "<table border=\"1\" class=\"dataframe\">\n",
              "  <thead>\n",
              "    <tr style=\"text-align: right;\">\n",
              "      <th></th>\n",
              "      <th>bill</th>\n",
              "      <th>tip</th>\n",
              "      <th>est_tip</th>\n",
              "    </tr>\n",
              "  </thead>\n",
              "  <tbody>\n",
              "    <tr>\n",
              "      <th>0</th>\n",
              "      <td>50.0</td>\n",
              "      <td>12.0</td>\n",
              "      <td>100</td>\n",
              "    </tr>\n",
              "    <tr>\n",
              "      <th>1</th>\n",
              "      <td>30.0</td>\n",
              "      <td>7.0</td>\n",
              "      <td>100</td>\n",
              "    </tr>\n",
              "    <tr>\n",
              "      <th>2</th>\n",
              "      <td>60.0</td>\n",
              "      <td>13.0</td>\n",
              "      <td>100</td>\n",
              "    </tr>\n",
              "    <tr>\n",
              "      <th>3</th>\n",
              "      <td>40.0</td>\n",
              "      <td>8.0</td>\n",
              "      <td>100</td>\n",
              "    </tr>\n",
              "    <tr>\n",
              "      <th>4</th>\n",
              "      <td>65.0</td>\n",
              "      <td>15.0</td>\n",
              "      <td>100</td>\n",
              "    </tr>\n",
              "    <tr>\n",
              "      <th>5</th>\n",
              "      <td>20.0</td>\n",
              "      <td>5.0</td>\n",
              "      <td>100</td>\n",
              "    </tr>\n",
              "    <tr>\n",
              "      <th>6</th>\n",
              "      <td>10.0</td>\n",
              "      <td>2.0</td>\n",
              "      <td>100</td>\n",
              "    </tr>\n",
              "    <tr>\n",
              "      <th>7</th>\n",
              "      <td>15.0</td>\n",
              "      <td>2.0</td>\n",
              "      <td>100</td>\n",
              "    </tr>\n",
              "    <tr>\n",
              "      <th>8</th>\n",
              "      <td>25.0</td>\n",
              "      <td>3.0</td>\n",
              "      <td>100</td>\n",
              "    </tr>\n",
              "    <tr>\n",
              "      <th>9</th>\n",
              "      <td>35.0</td>\n",
              "      <td>4.0</td>\n",
              "      <td>100</td>\n",
              "    </tr>\n",
              "  </tbody>\n",
              "</table>\n",
              "</div>"
            ],
            "text/plain": [
              "   bill   tip  est_tip\n",
              "0  50.0  12.0      100\n",
              "1  30.0   7.0      100\n",
              "2  60.0  13.0      100\n",
              "3  40.0   8.0      100\n",
              "4  65.0  15.0      100\n",
              "5  20.0   5.0      100\n",
              "6  10.0   2.0      100\n",
              "7  15.0   2.0      100\n",
              "8  25.0   3.0      100\n",
              "9  35.0   4.0      100"
            ]
          },
          "metadata": {
            "tags": []
          },
          "execution_count": 48
        }
      ]
    },
    {
      "metadata": {
        "id": "lCrQKWcNluxY",
        "colab_type": "text"
      },
      "cell_type": "markdown",
      "source": [
        "## Step 13: Perform a prediction\n",
        "\n",
        "\n",
        "Let's try to run a prediction on some data: $45.00, $55.00, and $65.00 \n",
        "\n",
        "\n",
        "**=>TODO: use predict function from above **"
      ]
    },
    {
      "metadata": {
        "scrolled": true,
        "id": "EK8WaAJMluxb",
        "colab_type": "code",
        "outputId": "d98db279-7729-4b5f-b885-b99486875891",
        "colab": {
          "base_uri": "https://localhost:8080/",
          "height": 142
        }
      },
      "cell_type": "code",
      "source": [
        "test_data_pd = pd.DataFrame({'bill' : [45., 55., 65.,]\n",
        "             })\n",
        "\n",
        "test_data_pd['predicted_tip'] = 10 # What do we do to do a prediction??\n",
        "\n",
        "\n",
        "\n",
        "test_data_pd"
      ],
      "execution_count": 0,
      "outputs": [
        {
          "output_type": "execute_result",
          "data": {
            "text/html": [
              "<div>\n",
              "<style scoped>\n",
              "    .dataframe tbody tr th:only-of-type {\n",
              "        vertical-align: middle;\n",
              "    }\n",
              "\n",
              "    .dataframe tbody tr th {\n",
              "        vertical-align: top;\n",
              "    }\n",
              "\n",
              "    .dataframe thead th {\n",
              "        text-align: right;\n",
              "    }\n",
              "</style>\n",
              "<table border=\"1\" class=\"dataframe\">\n",
              "  <thead>\n",
              "    <tr style=\"text-align: right;\">\n",
              "      <th></th>\n",
              "      <th>bill</th>\n",
              "      <th>predicted_tip</th>\n",
              "    </tr>\n",
              "  </thead>\n",
              "  <tbody>\n",
              "    <tr>\n",
              "      <th>0</th>\n",
              "      <td>45.0</td>\n",
              "      <td>10</td>\n",
              "    </tr>\n",
              "    <tr>\n",
              "      <th>1</th>\n",
              "      <td>55.0</td>\n",
              "      <td>10</td>\n",
              "    </tr>\n",
              "    <tr>\n",
              "      <th>2</th>\n",
              "      <td>65.0</td>\n",
              "      <td>10</td>\n",
              "    </tr>\n",
              "  </tbody>\n",
              "</table>\n",
              "</div>"
            ],
            "text/plain": [
              "   bill  predicted_tip\n",
              "0  45.0             10\n",
              "1  55.0             10\n",
              "2  65.0             10"
            ]
          },
          "metadata": {
            "tags": []
          },
          "execution_count": 51
        }
      ]
    },
    {
      "metadata": {
        "id": "Yu5HD5mYnoS0",
        "colab_type": "text"
      },
      "cell_type": "markdown",
      "source": [
        "### Now we run the TensorBaord"
      ]
    },
    {
      "metadata": {
        "id": "DrjHLhq2n5R5",
        "colab_type": "text"
      },
      "cell_type": "markdown",
      "source": [
        "#### Local:"
      ]
    },
    {
      "metadata": {
        "id": "pC0BYsR3n-rj",
        "colab_type": "text"
      },
      "cell_type": "markdown",
      "source": [
        "Now run the following command on a bash\n",
        "\n",
        "```bash\n",
        "$ tensorboard --logdir=/tmp/tensorflow_logs\n",
        "```\n",
        "Then open the browser(Chrome) and insert this address\n",
        "\n",
        "```bash\n",
        "localhost:6006\n",
        "```"
      ]
    },
    {
      "metadata": {
        "id": "CnVr4pScoHos",
        "colab_type": "text"
      },
      "cell_type": "markdown",
      "source": [
        "#### Google colab"
      ]
    },
    {
      "metadata": {
        "id": "DqFK5ni5oI75",
        "colab_type": "text"
      },
      "cell_type": "markdown",
      "source": [
        ""
      ]
    },
    {
      "metadata": {
        "id": "88CJBZtzoPfj",
        "colab_type": "text"
      },
      "cell_type": "markdown",
      "source": [
        "Click on the link you had got at the first step\n",
        "\n",
        "![](../images/tb_colab.png)"
      ]
    }
  ]
}