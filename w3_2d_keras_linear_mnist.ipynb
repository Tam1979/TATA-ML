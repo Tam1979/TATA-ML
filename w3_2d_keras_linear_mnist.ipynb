{
  "nbformat": 4,
  "nbformat_minor": 0,
  "metadata": {
    "colab": {
      "name": "w3-2d-keras-linear-mnist.ipynb",
      "version": "0.3.2",
      "provenance": [],
      "include_colab_link": true
    },
    "kernelspec": {
      "display_name": "Python 3",
      "language": "python",
      "name": "python3"
    }
  },
  "cells": [
    {
      "cell_type": "markdown",
      "metadata": {
        "id": "view-in-github",
        "colab_type": "text"
      },
      "source": [
        "<a href=\"https://colab.research.google.com/github/Tam1979/TATA-ML/blob/master/w3_2d_keras_linear_mnist.ipynb\" target=\"_parent\"><img src=\"https://colab.research.google.com/assets/colab-badge.svg\" alt=\"Open In Colab\"/></a>"
      ]
    },
    {
      "metadata": {
        "id": "jdH32F5AUpS-",
        "colab_type": "text"
      },
      "cell_type": "markdown",
      "source": [
        "# Lab 4.2K: Training Linear Model with Keras API for MNIST Dataset\n",
        "\n",
        "In this lab we we will use the Keras API for the MNIST Dataset on a Linear Model"
      ]
    },
    {
      "metadata": {
        "id": "qx1vGnkEUpS_",
        "colab_type": "code",
        "colab": {}
      },
      "cell_type": "code",
      "source": [
        "import tensorflow as tf\n",
        "from IPython.display import Image\n",
        "%matplotlib inline"
      ],
      "execution_count": 0,
      "outputs": []
    },
    {
      "metadata": {
        "id": "JgSrbUioUpTH",
        "colab_type": "text"
      },
      "cell_type": "markdown",
      "source": [
        "### Step 1: Load MNIST Data"
      ]
    },
    {
      "metadata": {
        "id": "kBcYKA6OUpTI",
        "colab_type": "code",
        "colab": {
          "base_uri": "https://localhost:8080/",
          "height": 51
        },
        "outputId": "82f99886-e1e7-4d4a-96e2-9d53fe9938c5"
      },
      "cell_type": "code",
      "source": [
        "mnist = tf.keras.datasets.mnist\n",
        "\n",
        "(x_train, y_train),(x_test, y_test) = mnist.load_data()\n",
        "x_train, x_test = x_train / 255.0, x_test / 255.0  # Standardize to unit norm 0.0 to 1.0"
      ],
      "execution_count": 2,
      "outputs": [
        {
          "output_type": "stream",
          "text": [
            "Downloading data from https://storage.googleapis.com/tensorflow/tf-keras-datasets/mnist.npz\n",
            "11493376/11490434 [==============================] - 0s 0us/step\n"
          ],
          "name": "stdout"
        }
      ]
    },
    {
      "metadata": {
        "id": "FWHDFJtuUpTM",
        "colab_type": "text"
      },
      "cell_type": "markdown",
      "source": [
        "### Step 2: Define the Model\n",
        "\n",
        "The model has an input layer, zero hidden layers, and an output layer.\n",
        "\n",
        "Layers:\n",
        "\n",
        " * Input Layer: Implemented with `Flatten`. Takes the 28 x 28 image and creates a 1 x 784 vector as input.\n",
        " * Output Layer: Implemented with `Dense`. Has 10 neurons as output, because of 10 classes. Uses softmax activation."
      ]
    },
    {
      "metadata": {
        "id": "FAYlhq0eUpTN",
        "colab_type": "code",
        "colab": {
          "base_uri": "https://localhost:8080/",
          "height": 88
        },
        "outputId": "3bea18bf-e4f3-4fb5-812f-d91a073bc486"
      },
      "cell_type": "code",
      "source": [
        "\n",
        "model = tf.keras.models.Sequential([\n",
        "  tf.keras.layers.Flatten(input_shape=(28, 28)), # 784 inputs\n",
        "  tf.keras.layers.Dense(10, activation=tf.nn.softmax) # 10 outputs\n",
        "])\n"
      ],
      "execution_count": 3,
      "outputs": [
        {
          "output_type": "stream",
          "text": [
            "WARNING:tensorflow:From /usr/local/lib/python3.6/dist-packages/tensorflow/python/ops/resource_variable_ops.py:435: colocate_with (from tensorflow.python.framework.ops) is deprecated and will be removed in a future version.\n",
            "Instructions for updating:\n",
            "Colocations handled automatically by placer.\n"
          ],
          "name": "stdout"
        }
      ]
    },
    {
      "metadata": {
        "id": "Uht_7AI-UpTR",
        "colab_type": "text"
      },
      "cell_type": "markdown",
      "source": [
        "### Step 3: Compile the Model\n",
        "    \n",
        "In `tf.keras` the model should be compiled.  We need to define the following:\n",
        "\n",
        "* optimzer used (in this case Adam Optimzation) \n",
        "* the loss function. categorical cross entropy in this case\n",
        "* Metric(s), Accuracy here. This will be used for cross validation.\n",
        "\n",
        "Note that training will NOT occur until we call `model.fit()`\n",
        "    "
      ]
    },
    {
      "metadata": {
        "id": "XTdDdl8FUpTS",
        "colab_type": "code",
        "colab": {}
      },
      "cell_type": "code",
      "source": [
        "model.compile(optimizer='adam',\n",
        "              loss='sparse_categorical_crossentropy',\n",
        "              metrics=['accuracy'])\n",
        "\n"
      ],
      "execution_count": 0,
      "outputs": []
    },
    {
      "metadata": {
        "id": "LdoJ6vElUpTW",
        "colab_type": "text"
      },
      "cell_type": "markdown",
      "source": [
        "### Step 4: Train (Fit) the Model\n",
        "\n",
        "Here we will fit the model with our X and Y values. \n",
        "\n",
        "**TODO** Enter 5 for the number of Epochs."
      ]
    },
    {
      "metadata": {
        "id": "J_PuQ0gFUpTX",
        "colab_type": "code",
        "colab": {
          "base_uri": "https://localhost:8080/",
          "height": 204
        },
        "outputId": "4daa90c6-0471-455d-894c-f8d92d0d8c74"
      },
      "cell_type": "code",
      "source": [
        "model.fit(x_train, y_train, epochs=5)\n"
      ],
      "execution_count": 5,
      "outputs": [
        {
          "output_type": "stream",
          "text": [
            "Epoch 1/5\n",
            "60000/60000 [==============================] - 3s 51us/sample - loss: 0.4767 - acc: 0.8746\n",
            "Epoch 2/5\n",
            "60000/60000 [==============================] - 3s 49us/sample - loss: 0.3048 - acc: 0.9147\n",
            "Epoch 3/5\n",
            "60000/60000 [==============================] - 3s 48us/sample - loss: 0.2838 - acc: 0.9206\n",
            "Epoch 4/5\n",
            "60000/60000 [==============================] - 3s 48us/sample - loss: 0.2735 - acc: 0.9237\n",
            "Epoch 5/5\n",
            "60000/60000 [==============================] - 3s 48us/sample - loss: 0.2671 - acc: 0.9254\n"
          ],
          "name": "stdout"
        },
        {
          "output_type": "execute_result",
          "data": {
            "text/plain": [
              "<tensorflow.python.keras.callbacks.History at 0x7f449f4ad828>"
            ]
          },
          "metadata": {
            "tags": []
          },
          "execution_count": 5
        }
      ]
    },
    {
      "metadata": {
        "id": "rfMh8i5LUpTb",
        "colab_type": "text"
      },
      "cell_type": "markdown",
      "source": [
        "###  Step 5: Evaluate the Model\n",
        "\n",
        "Here we will evaluate the model. Accuracy is the Metric Used.\n",
        "\n",
        "Note that training validation accuracy is considerably better than the test accuracy. This may indicate some overfitting has occurred."
      ]
    },
    {
      "metadata": {
        "id": "PnNy7aiwUpTc",
        "colab_type": "code",
        "colab": {
          "base_uri": "https://localhost:8080/",
          "height": 51
        },
        "outputId": "fdec2da1-0506-422d-d391-7324f8536f4d"
      },
      "cell_type": "code",
      "source": [
        "model.evaluate(x_test, y_test)"
      ],
      "execution_count": 6,
      "outputs": [
        {
          "output_type": "stream",
          "text": [
            "10000/10000 [==============================] - 0s 32us/sample - loss: 0.2644 - acc: 0.9267\n"
          ],
          "name": "stdout"
        },
        {
          "output_type": "execute_result",
          "data": {
            "text/plain": [
              "[0.26440574174821374, 0.9267]"
            ]
          },
          "metadata": {
            "tags": []
          },
          "execution_count": 6
        }
      ]
    }
  ]
}