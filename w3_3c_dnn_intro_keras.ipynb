{
  "nbformat": 4,
  "nbformat_minor": 0,
  "metadata": {
    "colab": {
      "name": "w3-3c-dnn-intro-keras.ipynb",
      "version": "0.3.2",
      "provenance": [],
      "include_colab_link": true
    },
    "kernelspec": {
      "display_name": "Python 3",
      "language": "python",
      "name": "python3"
    }
  },
  "cells": [
    {
      "cell_type": "markdown",
      "metadata": {
        "id": "view-in-github",
        "colab_type": "text"
      },
      "source": [
        "<a href=\"https://colab.research.google.com/github/Tam1979/TATA-ML/blob/master/w3_3c_dnn_intro_keras.ipynb\" target=\"_parent\"><img src=\"https://colab.research.google.com/assets/colab-badge.svg\" alt=\"Open In Colab\"/></a>"
      ]
    },
    {
      "metadata": {
        "id": "zapCnlsLZOwd",
        "colab_type": "text"
      },
      "cell_type": "markdown",
      "source": [
        "# Lab 5.1K: Training DNN with Keras API for MNIST Dataset\n",
        "\n",
        "In this lab we we will use the Keras API for the MNIST Dataset"
      ]
    },
    {
      "metadata": {
        "id": "8QQK0A6SZOwf",
        "colab_type": "code",
        "colab": {}
      },
      "cell_type": "code",
      "source": [
        "import tensorflow as tf\n",
        "from IPython.display import Image\n",
        "%matplotlib inline"
      ],
      "execution_count": 0,
      "outputs": []
    },
    {
      "metadata": {
        "id": "Q4oJxC3BZOwk",
        "colab_type": "text"
      },
      "cell_type": "markdown",
      "source": [
        "### Step 1: Load MNIST Data"
      ]
    },
    {
      "metadata": {
        "id": "2D5fNYc3ZOwl",
        "colab_type": "code",
        "colab": {}
      },
      "cell_type": "code",
      "source": [
        "mnist = tf.keras.datasets.mnist\n",
        "\n",
        "(x_train, y_train),(x_test, y_test) = mnist.load_data()\n",
        "x_train, x_test = x_train / 255.0, x_test / 255.0  # Standardize to unit norm 0.0 to 1.0"
      ],
      "execution_count": 0,
      "outputs": []
    },
    {
      "metadata": {
        "id": "2mD9cnvNZOwo",
        "colab_type": "text"
      },
      "cell_type": "markdown",
      "source": [
        "### Step 2: Define the Model\n",
        "\n",
        "The model has an input layer, one hidden layer, and an output layer.\n",
        "\n",
        "Layers:\n",
        "\n",
        " * Input Layer: Implemented with `Flatten`. Takes the 28 x 28 image and creates a 1 x 784 vector as input.\n",
        " * Hidden Layer: Implemented with `Dense`. Has 512 weighted neurons with ReLU activation\n",
        " * Output Layer: Implemented with `Dense`. Has 10 neurons as output, because of 10 classes. Uses softmax activation."
      ]
    },
    {
      "metadata": {
        "id": "O4MG0T85ZOwp",
        "colab_type": "code",
        "colab": {
          "base_uri": "https://localhost:8080/",
          "height": 88
        },
        "outputId": "03794fee-8bfa-4153-d6b5-ee28c241b61c"
      },
      "cell_type": "code",
      "source": [
        "\n",
        "model = tf.keras.models.Sequential([\n",
        "  tf.keras.layers.Flatten(input_shape=(28, 28)),\n",
        "  tf.keras.layers.Dense(512, activation=tf.nn.relu),\n",
        "  tf.keras.layers.Dense(10, activation=tf.nn.softmax)\n",
        "])\n"
      ],
      "execution_count": 3,
      "outputs": [
        {
          "output_type": "stream",
          "text": [
            "WARNING:tensorflow:From /usr/local/lib/python3.6/dist-packages/tensorflow/python/ops/resource_variable_ops.py:435: colocate_with (from tensorflow.python.framework.ops) is deprecated and will be removed in a future version.\n",
            "Instructions for updating:\n",
            "Colocations handled automatically by placer.\n"
          ],
          "name": "stdout"
        }
      ]
    },
    {
      "metadata": {
        "id": "guGIEvC0ZOwt",
        "colab_type": "text"
      },
      "cell_type": "markdown",
      "source": [
        "### Step 3: Compile the Model\n",
        "    \n",
        "In `tf.keras` the model should be compiled.  We need to define the following:\n",
        "\n",
        "* optimzer used (in this case Adam Optimzation) \n",
        "* the loss function. categorical cross entropy in this case\n",
        "* Metric(s), Accuracy here. This will be used for cross validation.\n",
        "\n",
        "Note that training will NOT occur until we call `model.fit()`\n",
        "    "
      ]
    },
    {
      "metadata": {
        "id": "Db7NTeoLZOwu",
        "colab_type": "code",
        "colab": {}
      },
      "cell_type": "code",
      "source": [
        "model.compile(optimizer='adam',\n",
        "              loss='sparse_categorical_crossentropy',\n",
        "              metrics=['accuracy'])\n",
        "\n"
      ],
      "execution_count": 0,
      "outputs": []
    },
    {
      "metadata": {
        "id": "l2-hP0VcZOwx",
        "colab_type": "text"
      },
      "cell_type": "markdown",
      "source": [
        "### Step 4: Train (Fit) the Model\n",
        "\n",
        "Here we will fit the model with our X and Y values. \n",
        "\n",
        "**TODO** Enter 5 for the number of Epochs."
      ]
    },
    {
      "metadata": {
        "id": "B8_xeOoKZOwy",
        "colab_type": "code",
        "colab": {
          "base_uri": "https://localhost:8080/",
          "height": 136
        },
        "outputId": "71b64ede-f4dc-4b41-f37c-fd708badd9b3"
      },
      "cell_type": "code",
      "source": [
        "model.fit(x_train, y_train, epochs=3)\n"
      ],
      "execution_count": 7,
      "outputs": [
        {
          "output_type": "stream",
          "text": [
            "Epoch 1/3\n",
            "60000/60000 [==============================] - 13s 222us/sample - loss: 0.0500 - acc: 0.9846\n",
            "Epoch 2/3\n",
            "60000/60000 [==============================] - 13s 221us/sample - loss: 0.0341 - acc: 0.9890\n",
            "Epoch 3/3\n",
            "60000/60000 [==============================] - 13s 220us/sample - loss: 0.0260 - acc: 0.9915\n"
          ],
          "name": "stdout"
        },
        {
          "output_type": "execute_result",
          "data": {
            "text/plain": [
              "<tensorflow.python.keras.callbacks.History at 0x7f33e49d3c50>"
            ]
          },
          "metadata": {
            "tags": []
          },
          "execution_count": 7
        }
      ]
    },
    {
      "metadata": {
        "id": "t0NwtI_OZOw1",
        "colab_type": "text"
      },
      "cell_type": "markdown",
      "source": [
        "###  Step 5: Evaluate the Model\n",
        "\n",
        "Here we will evaluate the model. Accuracy is the Metric Used.\n",
        "\n",
        "Note that training validation accuracy is considerably better than the test accuracy. This may indicate some overfitting has occurred."
      ]
    },
    {
      "metadata": {
        "id": "PxhOllwmZOw3",
        "colab_type": "code",
        "colab": {
          "base_uri": "https://localhost:8080/",
          "height": 51
        },
        "outputId": "2c674af3-e9e8-4f05-cdf8-c668a3ffe0f6"
      },
      "cell_type": "code",
      "source": [
        "model.evaluate(x_test, y_test)"
      ],
      "execution_count": 8,
      "outputs": [
        {
          "output_type": "stream",
          "text": [
            "10000/10000 [==============================] - 1s 58us/sample - loss: 0.0751 - acc: 0.9787\n"
          ],
          "name": "stdout"
        },
        {
          "output_type": "execute_result",
          "data": {
            "text/plain": [
              "[0.07514158033526619, 0.9787]"
            ]
          },
          "metadata": {
            "tags": []
          },
          "execution_count": 8
        }
      ]
    },
    {
      "metadata": {
        "id": "K970j1KMZOw7",
        "colab_type": "text"
      },
      "cell_type": "markdown",
      "source": [
        "### Step 7: Improvement: Add Dropout\n",
        "\n",
        "The model may tend to overfit unless we take some action. Adding a Dropout layer may help.\n",
        "\n",
        "```python\n",
        "  tf.keras.layers.Dense(512, activation=tf.nn.relu), # Keep this\n",
        "  tf.keras.layers.Dropout(0.2),  # <-- ADD THIS!\n",
        "```\n",
        "\n",
        "Does it help? Try it!  Pay attention to validation (training) vs final test. Are they closer?  Did it get better final accuracy (in this case) or not?\n"
      ]
    },
    {
      "metadata": {
        "id": "hTwFL5-KZOw8",
        "colab_type": "code",
        "colab": {
          "base_uri": "https://localhost:8080/",
          "height": 130
        },
        "outputId": "4b1da3be-1e3e-4caa-c14c-13c434c426d8"
      },
      "cell_type": "code",
      "source": [
        "```python\n",
        "  tf.keras.layers.Dense(512, activation=tf.nn.relu), # Keep this\n",
        "  tf.keras.layers.Dropout(0.2),  # <-- ADD THIS!\n",
        "```"
      ],
      "execution_count": 9,
      "outputs": [
        {
          "output_type": "error",
          "ename": "SyntaxError",
          "evalue": "ignored",
          "traceback": [
            "\u001b[0;36m  File \u001b[0;32m\"<ipython-input-9-92fd86633677>\"\u001b[0;36m, line \u001b[0;32m1\u001b[0m\n\u001b[0;31m    ```python\u001b[0m\n\u001b[0m    ^\u001b[0m\n\u001b[0;31mSyntaxError\u001b[0m\u001b[0;31m:\u001b[0m invalid syntax\n"
          ]
        }
      ]
    }
  ]
}